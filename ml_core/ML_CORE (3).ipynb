{
  "nbformat": 4,
  "nbformat_minor": 0,
  "metadata": {
    "colab": {
      "provenance": [],
      "gpuType": "T4"
    },
    "kernelspec": {
      "name": "python3",
      "display_name": "Python 3"
    },
    "language_info": {
      "name": "python"
    },
    "accelerator": "GPU"
  },
  "cells": [
    {
      "cell_type": "code",
      "source": [
        "import torch\n",
        "import numpy as np\n",
        "import random\n",
        "from torchvision import datasets, transforms\n",
        "from torch.utils.data import DataLoader\n",
        "\n",
        "# Set seed for reproducibility\n",
        "random.seed(42)\n",
        "np.random.seed(42)\n",
        "torch.manual_seed(42)\n",
        "\n",
        "# Define parameters\n",
        "num_classes = 10\n",
        "noise_rate = 0.4  # Set noise rate η ∈ [0.2, 0.8]\n",
        "\n",
        "# dataset transformation\n",
        "transform = transforms.Compose([\n",
        "    transforms.ToTensor(),\n",
        "    transforms.Normalize((0.5,), (0.5,))\n",
        "])\n",
        "\n",
        "# Load CIFAR-10 dataset\n",
        "train_dataset = datasets.CIFAR10(root='./data', train=True, download=True, transform=transform)\n",
        "test_dataset = datasets.CIFAR10(root='./data', train=False, download=True, transform=transform)\n",
        "\n",
        "# symmetric noise in labels\n",
        "def add_symmetric_noise(labels, noise_rate, num_classes):\n",
        "\n",
        "    labels = np.array(labels)  # Ensure it's a NumPy array\n",
        "    noisy_labels = labels.copy()  # Create a copy to avoid modifying the original array\n",
        "    num_noisy = int(noise_rate * len(labels))  # Number of labels to corrupt\n",
        "    noisy_indices = np.random.choice(len(labels), num_noisy, replace=False)  # Select random indices\n",
        "\n",
        "    for i in noisy_indices:\n",
        "        original_label = labels[i]\n",
        "        possible_labels = np.delete(np.arange(num_classes), original_label)  # Remove the correct label\n",
        "        new_label = np.random.choice(possible_labels)  # Pick a random incorrect label\n",
        "        noisy_labels[i] = int(new_label)  # Ensure it's an integer\n",
        "\n",
        "    return noisy_labels\n",
        "\n"
      ],
      "metadata": {
        "colab": {
          "base_uri": "https://localhost:8080/"
        },
        "id": "Ee0bSPszeFU9",
        "outputId": "f368a203-5d3e-4cf2-c4d9-c5c490e94aea"
      },
      "execution_count": null,
      "outputs": [
        {
          "output_type": "stream",
          "name": "stdout",
          "text": [
            "Downloading https://www.cs.toronto.edu/~kriz/cifar-10-python.tar.gz to ./data/cifar-10-python.tar.gz\n"
          ]
        },
        {
          "output_type": "stream",
          "name": "stderr",
          "text": [
            "100%|██████████| 170M/170M [00:04<00:00, 40.1MB/s]\n"
          ]
        },
        {
          "output_type": "stream",
          "name": "stdout",
          "text": [
            "Extracting ./data/cifar-10-python.tar.gz to ./data\n",
            "Files already downloaded and verified\n"
          ]
        }
      ]
    },
    {
      "cell_type": "code",
      "source": [
        "original_labels = np.array([0, 1, 2, 3, 4, 5, 6, 7, 8, 9] * 10)  # 100 labels (balanced dataset)\n",
        "noisy_labels = add_symmetric_noise(original_labels, noise_rate=0.2, num_classes=10)\n",
        "\n",
        "# Checking how many labels were modified\n",
        "num_changed = (original_labels != noisy_labels).sum()\n",
        "print(f\"Original Labels: {original_labels[:20]}\")\n",
        "print(f\"Noisy Labels: {noisy_labels[:20]}\")\n",
        "print(f\"Total modified: {num_changed}/{len(original_labels)}\")\n"
      ],
      "metadata": {
        "colab": {
          "base_uri": "https://localhost:8080/"
        },
        "id": "JJL0uBl0kn6F",
        "outputId": "184ef376-28b6-468b-b57b-17fa8350baaa"
      },
      "execution_count": null,
      "outputs": [
        {
          "output_type": "stream",
          "name": "stdout",
          "text": [
            "Original Labels: [0 1 2 3 4 5 6 7 8 9 0 1 2 3 4 5 6 7 8 9]\n",
            "Noisy Labels: [7 1 2 3 7 5 6 7 8 9 9 1 3 3 4 5 6 7 9 9]\n",
            "Total modified: 20/100\n"
          ]
        }
      ]
    },
    {
      "cell_type": "code",
      "source": [
        "# Apply noise to training labels\n",
        "train_labels = np.array(train_dataset.targets)  # Get original labels\n",
        "train_dataset.targets = add_symmetric_noise(train_labels, noise_rate, num_classes)  # Apply noise\n",
        "\n",
        "# Create DataLoaders\n",
        "batch_size = 64\n",
        "train_loader = DataLoader(train_dataset, batch_size=batch_size, shuffle=True)\n",
        "test_loader = DataLoader(test_dataset, batch_size=batch_size, shuffle=False)\n",
        "\n",
        "# Print sample of noisy labels for verification\n",
        "print(\"Sample noisy labels:\", train_dataset.targets[:10])\n",
        "device = torch.device(\"cuda\" if torch.cuda.is_available() else \"cpu\")\n"
      ],
      "metadata": {
        "colab": {
          "base_uri": "https://localhost:8080/"
        },
        "id": "a0R0Oj5lkrnY",
        "outputId": "ed7e670c-7308-41b3-cfb6-4ca0c3135e8c"
      },
      "execution_count": null,
      "outputs": [
        {
          "output_type": "stream",
          "name": "stdout",
          "text": [
            "Sample noisy labels: [1 7 9 4 5 1 1 1 8 3]\n"
          ]
        }
      ]
    },
    {
      "cell_type": "code",
      "source": [
        "import torch.nn as nn\n",
        "import torch.optim as optim\n",
        "import matplotlib.pyplot as plt\n",
        "import torch.nn.functional as F\n",
        "\n",
        "# Check for GPU\n",
        "\n",
        "# Define a Simple CNN Model\n",
        "class SimpleCNN(nn.Module):\n",
        "    def __init__(self):\n",
        "        super(SimpleCNN, self).__init__()\n",
        "        self.conv1 = nn.Conv2d(3, 32, kernel_size=3, padding=1)\n",
        "        self.conv2 = nn.Conv2d(32, 64, kernel_size=3, padding=1)\n",
        "        self.fc1 = nn.Linear(64 * 8 * 8, 128)\n",
        "        self.fc2 = nn.Linear(128, 10)\n",
        "        self.pool = nn.MaxPool2d(2, 2)\n",
        "        self.relu = nn.ReLU()\n",
        "\n",
        "    def forward(self, x):\n",
        "        x = self.pool(self.relu(self.conv1(x)))\n",
        "        x = self.pool(self.relu(self.conv2(x)))\n",
        "        x = x.view(x.size(0), -1)  # Flatten\n",
        "        x = self.relu(self.fc1(x))\n",
        "        x = self.fc2(x)\n",
        "        return x\n",
        "\n",
        "# Standard Cross-Entropy Loss\n",
        "class CrossEntropyLoss(nn.Module):\n",
        "    def __init__(self):\n",
        "        super(CrossEntropyLoss, self).__init__()\n",
        "        self.ce_loss = nn.CrossEntropyLoss()\n",
        "\n",
        "    def forward(self, outputs, targets):\n",
        "        return self.ce_loss(outputs, targets)\n",
        "\n",
        "# Standard Focal Loss\n",
        "class FocalLoss(nn.Module):\n",
        "    def __init__(self, gamma=2.0):\n",
        "        super(FocalLoss, self).__init__()\n",
        "        self.gamma = gamma\n",
        "        self.ce_loss = nn.CrossEntropyLoss(reduction='none')\n",
        "\n",
        "    def forward(self, outputs, targets):\n",
        "        ce_loss = self.ce_loss(outputs, targets)\n",
        "        pt = torch.exp(-ce_loss)  # Probability of correct class\n",
        "        focal_loss = ((1 - pt) ** self.gamma) * ce_loss\n",
        "        return focal_loss.mean()\n",
        "\n",
        "class NormalizedCrossEntropyLoss(nn.Module):\n",
        "    def __init__(self, epsilon=1e-6):\n",
        "        super(NormalizedCrossEntropyLoss, self).__init__()\n",
        "        self.epsilon = epsilon  # To avoid division by zero\n",
        "\n",
        "    def forward(self, outputs, targets):\n",
        "\n",
        "        # Convert labels to one-hot\n",
        "        q = F.one_hot(targets, num_classes=outputs.shape[1]).float()\n",
        "        p = F.softmax(outputs, dim=1)  # Convert logits to probabilities\n",
        "\n",
        "        # Compute standard cross-entropy loss\n",
        "        ce_loss = -torch.sum(q * torch.log(p + self.epsilon), dim=1)  # [batch_size]\n",
        "\n",
        "        # Compute normalization factor\n",
        "        denom = -torch.sum(q.unsqueeze(1) * torch.log(p + self.epsilon), dim=(1, 2))  # [batch_size]\n",
        "\n",
        "        # Compute final normalized loss\n",
        "        nce_loss = ce_loss / (denom + self.epsilon)\n",
        "        return nce_loss.mean()\n",
        "\n",
        "class NormalizedFocalLoss(nn.Module):\n",
        "    def __init__(self, gamma=2.0, epsilon=1e-6):\n",
        "        super(NormalizedFocalLoss, self).__init__()\n",
        "        self.gamma = gamma\n",
        "        self.epsilon = epsilon\n",
        "\n",
        "    def forward(self, outputs, targets):\n",
        "\n",
        "        # Convert labels to one-hot\n",
        "        q = F.one_hot(targets, num_classes=outputs.shape[1]).float()\n",
        "        p = F.softmax(outputs, dim=1)  # Convert logits to probabilities\n",
        "\n",
        "        # Compute standard focal loss term\n",
        "        focal_term = (1 - p) ** self.gamma\n",
        "        focal_loss = -torch.sum(q * focal_term * torch.log(p + self.epsilon), dim=1)  # [batch_size]\n",
        "\n",
        "        # Compute normalization factor\n",
        "        denom = -torch.sum(q.unsqueeze(1) * focal_term.unsqueeze(1) * torch.log(p + self.epsilon), dim=(1, 2))  # [batch_size]\n",
        "\n",
        "        # Compute final normalized focal loss\n",
        "        nfl_loss = focal_loss / (denom + self.epsilon)\n",
        "        return nfl_loss.mean()\n",
        "# Training function\n",
        "def train_model(model, train_loader, criterion, optimizer, epochs=10):\n",
        "    model.train()\n",
        "    history = {'train_loss': [], 'train_acc': []}\n",
        "\n",
        "    for epoch in range(epochs):\n",
        "        total_loss = 0.0\n",
        "        correct = 0\n",
        "        total = 0\n",
        "\n",
        "        for inputs, labels in train_loader:\n",
        "            inputs, labels = inputs.to(device), labels.to(device)\n",
        "            optimizer.zero_grad()\n",
        "            outputs = model(inputs)\n",
        "            loss = criterion(outputs, labels)\n",
        "            loss.backward()\n",
        "            optimizer.step()\n",
        "\n",
        "            total_loss += loss.item()\n",
        "            _, predicted = torch.max(outputs, 1)\n",
        "            correct += (predicted == labels).sum().item()\n",
        "            total += labels.size(0)\n",
        "\n",
        "        epoch_loss = total_loss / len(train_loader)\n",
        "        epoch_acc = correct / total\n",
        "        history['train_loss'].append(epoch_loss)\n",
        "        history['train_acc'].append(epoch_acc)\n",
        "\n",
        "        print(f\"Epoch {epoch+1}: Loss={epoch_loss:.4f}, Accuracy={epoch_acc:.4f}\")\n",
        "\n",
        "    return history\n",
        "\n"
      ],
      "metadata": {
        "id": "Gbdh8n-0eF9M"
      },
      "execution_count": null,
      "outputs": []
    },
    {
      "cell_type": "code",
      "source": [
        "# Train with Standard Cross-Entropy Loss\n",
        "ce_model = SimpleCNN().to(device)\n",
        "ce_criterion = CrossEntropyLoss().to(device)\n",
        "ce_optimizer = optim.Adam(ce_model.parameters(), lr=0.001)\n",
        "\n",
        "print(\"\\nTraining with Cross-Entropy Loss...\")\n",
        "ce_history = train_model(ce_model, train_loader, ce_criterion, ce_optimizer, epochs=10)\n",
        "\n",
        "# Save results\n",
        "torch.save(ce_history, \"ce_history.pth\")\n"
      ],
      "metadata": {
        "colab": {
          "base_uri": "https://localhost:8080/"
        },
        "id": "SOr6ICFBeJbC",
        "outputId": "2edf6f76-4732-454f-ba88-789236d3ee1a"
      },
      "execution_count": null,
      "outputs": [
        {
          "output_type": "stream",
          "name": "stdout",
          "text": [
            "\n",
            "Training with Cross-Entropy Loss...\n",
            "Epoch 1: Loss=2.0903, Accuracy=0.2843\n",
            "Epoch 2: Loss=1.9749, Accuracy=0.3625\n",
            "Epoch 3: Loss=1.9122, Accuracy=0.3963\n",
            "Epoch 4: Loss=1.8570, Accuracy=0.4212\n",
            "Epoch 5: Loss=1.7993, Accuracy=0.4397\n",
            "Epoch 6: Loss=1.7369, Accuracy=0.4602\n",
            "Epoch 7: Loss=1.6676, Accuracy=0.4776\n",
            "Epoch 8: Loss=1.5847, Accuracy=0.4978\n",
            "Epoch 9: Loss=1.5009, Accuracy=0.5212\n",
            "Epoch 10: Loss=1.4085, Accuracy=0.5470\n"
          ]
        }
      ]
    },
    {
      "cell_type": "code",
      "source": [
        "# Train with Focal Loss\n",
        "fl_model = SimpleCNN().to(device)\n",
        "fl_criterion = FocalLoss().to(device)\n",
        "fl_optimizer = optim.Adam(fl_model.parameters(), lr=0.001)\n",
        "\n",
        "print(\"\\nTraining with Focal Loss...\")\n",
        "fl_history = train_model(fl_model, train_loader, fl_criterion, fl_optimizer, epochs=10)\n",
        "\n",
        "# Save results\n",
        "torch.save(fl_history, \"fl_history.pth\")\n"
      ],
      "metadata": {
        "colab": {
          "base_uri": "https://localhost:8080/"
        },
        "id": "6q3FHi4Leoc7",
        "outputId": "da621095-9fd7-4eaa-b0b1-a41c7917a63d"
      },
      "execution_count": null,
      "outputs": [
        {
          "output_type": "stream",
          "name": "stdout",
          "text": [
            "\n",
            "Training with Focal Loss...\n",
            "Epoch 1: Loss=1.6102, Accuracy=0.2955\n",
            "Epoch 2: Loss=1.4943, Accuracy=0.3688\n",
            "Epoch 3: Loss=1.4252, Accuracy=0.4068\n",
            "Epoch 4: Loss=1.3597, Accuracy=0.4334\n",
            "Epoch 5: Loss=1.2867, Accuracy=0.4551\n",
            "Epoch 6: Loss=1.2043, Accuracy=0.4750\n",
            "Epoch 7: Loss=1.1075, Accuracy=0.5052\n",
            "Epoch 8: Loss=1.0029, Accuracy=0.5352\n",
            "Epoch 9: Loss=0.8950, Accuracy=0.5665\n",
            "Epoch 10: Loss=0.7865, Accuracy=0.6026\n"
          ]
        }
      ]
    },
    {
      "cell_type": "code",
      "source": [
        "# Train with Normalized Cross-Entropy Loss\n",
        "nce_model = SimpleCNN().to(device)\n",
        "nce_criterion = NormalizedCrossEntropyLoss().to(device)\n",
        "nce_optimizer = optim.Adam(nce_model.parameters(), lr=0.001)\n",
        "\n",
        "print(\"\\nTraining with Normalized Cross-Entropy Loss...\")\n",
        "nce_history = train_model(nce_model, train_loader, nce_criterion, nce_optimizer,  epochs=10)\n",
        "\n",
        "# Save results\n",
        "torch.save(nce_history, \"nce_history.pth\")\n"
      ],
      "metadata": {
        "colab": {
          "base_uri": "https://localhost:8080/"
        },
        "id": "8azkCYaLfh6l",
        "outputId": "a531be49-d635-43bb-8a50-06c8a8954c55"
      },
      "execution_count": null,
      "outputs": [
        {
          "output_type": "stream",
          "name": "stdout",
          "text": [
            "\n",
            "Training with Normalized Cross-Entropy Loss...\n",
            "Epoch 1: Loss=0.0130, Accuracy=0.1647\n",
            "Epoch 2: Loss=0.0122, Accuracy=0.2055\n",
            "Epoch 3: Loss=0.0119, Accuracy=0.2218\n",
            "Epoch 4: Loss=0.0116, Accuracy=0.2332\n",
            "Epoch 5: Loss=0.0113, Accuracy=0.2478\n",
            "Epoch 6: Loss=0.0108, Accuracy=0.2615\n",
            "Epoch 7: Loss=0.0102, Accuracy=0.2744\n",
            "Epoch 8: Loss=0.0096, Accuracy=0.2917\n",
            "Epoch 9: Loss=0.0088, Accuracy=0.3170\n",
            "Epoch 10: Loss=0.0081, Accuracy=0.3429\n"
          ]
        }
      ]
    },
    {
      "cell_type": "code",
      "source": [
        "# Train with Normalized Focal Loss\n",
        "nfl_model = SimpleCNN().to(device)\n",
        "nfl_criterion = NormalizedFocalLoss().to(device)\n",
        "nfl_optimizer = optim.Adam(nfl_model.parameters(), lr=0.001)\n",
        "\n",
        "print(\"\\nTraining with Normalized Focal Loss...\")\n",
        "nfl_history = train_model(nfl_model, train_loader, nfl_criterion, nfl_optimizer, epochs=10)\n",
        "\n",
        "# Save results\n",
        "torch.save(nfl_history, \"nfl_history.pth\")\n"
      ],
      "metadata": {
        "colab": {
          "base_uri": "https://localhost:8080/"
        },
        "id": "kCtIf7j3mrWm",
        "outputId": "17e409d2-0dfb-4f00-e614-b3a3cab5815b"
      },
      "execution_count": null,
      "outputs": [
        {
          "output_type": "stream",
          "name": "stdout",
          "text": [
            "\n",
            "Training with Normalized Focal Loss...\n",
            "Epoch 1: Loss=0.0098, Accuracy=0.2748\n",
            "Epoch 2: Loss=0.0089, Accuracy=0.3430\n",
            "Epoch 3: Loss=0.0084, Accuracy=0.3760\n",
            "Epoch 4: Loss=0.0080, Accuracy=0.4004\n",
            "Epoch 5: Loss=0.0076, Accuracy=0.4217\n",
            "Epoch 6: Loss=0.0072, Accuracy=0.4416\n",
            "Epoch 7: Loss=0.0067, Accuracy=0.4619\n",
            "Epoch 8: Loss=0.0060, Accuracy=0.4864\n",
            "Epoch 9: Loss=0.0053, Accuracy=0.5204\n",
            "Epoch 10: Loss=0.0047, Accuracy=0.5561\n"
          ]
        }
      ]
    },
    {
      "cell_type": "code",
      "source": [
        "import torch\n",
        "import matplotlib.pyplot as plt\n",
        "\n",
        "# Load saved histories\n",
        "ce_history = torch.load(\"ce_history.pth\")\n",
        "fl_history = torch.load(\"fl_history.pth\")\n",
        "nce_history = torch.load(\"nce_history.pth\")\n",
        "nfl_history = torch.load(\"nfl_history.pth\")\n",
        "\n",
        "# Plot Training Loss Comparison\n",
        "plt.figure(figsize=(10, 5))\n",
        "plt.plot(ce_history['train_loss'], label=\"Cross Entropy\")\n",
        "plt.plot(fl_history['train_loss'], label=\"Focal Loss\")\n",
        "plt.plot(nce_history['train_loss'], label=\"Normalized CE\")\n",
        "plt.plot(nfl_history['train_loss'], label=\"Normalized FL\")\n",
        "plt.xlabel(\"Epochs\")\n",
        "plt.ylabel(\"Loss\")\n",
        "plt.title(\"Training Loss Comparison\")\n",
        "plt.legend()\n",
        "plt.show()\n",
        "\n",
        "# Plot Accuracy Comparison\n",
        "plt.figure(figsize=(10, 5))\n",
        "plt.plot(ce_history['train_acc'], label=\"Cross Entropy\")\n",
        "plt.plot(fl_history['train_acc'], label=\"Focal Loss\")\n",
        "plt.plot(nce_history['train_acc'], label=\"Normalized CE\")\n",
        "plt.plot(nfl_history['train_acc'], label=\"Normalized FL\")\n",
        "plt.xlabel(\"Epochs\")\n",
        "plt.ylabel(\"Accuracy\")\n",
        "plt.title(\"Training Accuracy Comparison\")\n",
        "plt.legend()\n",
        "plt.show()\n"
      ],
      "metadata": {
        "colab": {
          "base_uri": "https://localhost:8080/",
          "height": 882
        },
        "id": "dFbwKNYemtiM",
        "outputId": "819affdb-2eb7-474c-808a-1ea07262d049"
      },
      "execution_count": null,
      "outputs": [
        {
          "output_type": "stream",
          "name": "stderr",
          "text": [
            "<ipython-input-38-3ef55c3387cb>:5: FutureWarning: You are using `torch.load` with `weights_only=False` (the current default value), which uses the default pickle module implicitly. It is possible to construct malicious pickle data which will execute arbitrary code during unpickling (See https://github.com/pytorch/pytorch/blob/main/SECURITY.md#untrusted-models for more details). In a future release, the default value for `weights_only` will be flipped to `True`. This limits the functions that could be executed during unpickling. Arbitrary objects will no longer be allowed to be loaded via this mode unless they are explicitly allowlisted by the user via `torch.serialization.add_safe_globals`. We recommend you start setting `weights_only=True` for any use case where you don't have full control of the loaded file. Please open an issue on GitHub for any issues related to this experimental feature.\n",
            "  ce_history = torch.load(\"ce_history.pth\")\n",
            "<ipython-input-38-3ef55c3387cb>:6: FutureWarning: You are using `torch.load` with `weights_only=False` (the current default value), which uses the default pickle module implicitly. It is possible to construct malicious pickle data which will execute arbitrary code during unpickling (See https://github.com/pytorch/pytorch/blob/main/SECURITY.md#untrusted-models for more details). In a future release, the default value for `weights_only` will be flipped to `True`. This limits the functions that could be executed during unpickling. Arbitrary objects will no longer be allowed to be loaded via this mode unless they are explicitly allowlisted by the user via `torch.serialization.add_safe_globals`. We recommend you start setting `weights_only=True` for any use case where you don't have full control of the loaded file. Please open an issue on GitHub for any issues related to this experimental feature.\n",
            "  fl_history = torch.load(\"fl_history.pth\")\n",
            "<ipython-input-38-3ef55c3387cb>:7: FutureWarning: You are using `torch.load` with `weights_only=False` (the current default value), which uses the default pickle module implicitly. It is possible to construct malicious pickle data which will execute arbitrary code during unpickling (See https://github.com/pytorch/pytorch/blob/main/SECURITY.md#untrusted-models for more details). In a future release, the default value for `weights_only` will be flipped to `True`. This limits the functions that could be executed during unpickling. Arbitrary objects will no longer be allowed to be loaded via this mode unless they are explicitly allowlisted by the user via `torch.serialization.add_safe_globals`. We recommend you start setting `weights_only=True` for any use case where you don't have full control of the loaded file. Please open an issue on GitHub for any issues related to this experimental feature.\n",
            "  nce_history = torch.load(\"nce_history.pth\")\n",
            "<ipython-input-38-3ef55c3387cb>:8: FutureWarning: You are using `torch.load` with `weights_only=False` (the current default value), which uses the default pickle module implicitly. It is possible to construct malicious pickle data which will execute arbitrary code during unpickling (See https://github.com/pytorch/pytorch/blob/main/SECURITY.md#untrusted-models for more details). In a future release, the default value for `weights_only` will be flipped to `True`. This limits the functions that could be executed during unpickling. Arbitrary objects will no longer be allowed to be loaded via this mode unless they are explicitly allowlisted by the user via `torch.serialization.add_safe_globals`. We recommend you start setting `weights_only=True` for any use case where you don't have full control of the loaded file. Please open an issue on GitHub for any issues related to this experimental feature.\n",
            "  nfl_history = torch.load(\"nfl_history.pth\")\n"
          ]
        },
        {
          "output_type": "display_data",
          "data": {
            "text/plain": [
              "<Figure size 1000x500 with 1 Axes>"
            ],
            "image/png": "[encoded data removed]"
          },
          "metadata": {}
        },
        {
          "output_type": "display_data",
          "data": {
            "text/plain": [
              "<Figure size 1000x500 with 1 Axes>"
            ],
            "image/png": "[encoded data removed]"
          },
          "metadata": {}
        }
      ]
    },
    {
      "cell_type": "code",
      "source": [
        "histories = {\n",
        "    \"Cross Entropy\": ce_history,\n",
        "    \"Focal Loss\": fl_history,\n",
        "    \"Normalized CE\": nce_history,\n",
        "    \"Normalized FL\": nfl_history\n",
        "}\n",
        "\n",
        "print(\"\\nFinal Performance Summary:\")\n",
        "for name, history in histories.items():\n",
        "    final_loss = history['train_loss'][-1]\n",
        "    final_acc = history['train_acc'][-1] * 100  # Convert to percentage\n",
        "    print(f\"{name}: Accuracy = {final_acc:.2f}%, Final Loss = {final_loss:.4f}\")\n",
        "\n",
        "best_model = max(histories, key=lambda k: histories[k]['train_acc'][-1])\n",
        "best_acc = histories[best_model]['train_acc'][-1] * 100\n",
        "print(f\"\\n🏆 Best Model: {best_model} with Accuracy = {best_acc:.2f}%\")"
      ],
      "metadata": {
        "colab": {
          "base_uri": "https://localhost:8080/"
        },
        "id": "TTZSQ2ecm5rl",
        "outputId": "c85bd84b-c8d9-4a01-9086-adf1bceeafdf"
      },
      "execution_count": null,
      "outputs": [
        {
          "output_type": "stream",
          "name": "stdout",
          "text": [
            "\n",
            "Final Performance Summary:\n",
            "Cross Entropy: Accuracy = 54.70%, Final Loss = 1.4085\n",
            "Focal Loss: Accuracy = 60.26%, Final Loss = 0.7865\n",
            "Normalized CE: Accuracy = 65.92%, Final Loss = 0.0027\n",
            "Normalized FL: Accuracy = 55.61%, Final Loss = 0.0047\n",
            "\n",
            "🏆 Best Model: Normalized CE with Accuracy = 65.92%\n"
          ]
        }
      ]
    },
    {
      "cell_type": "code",
      "source": [
        "import torch.nn as nn\n",
        "import torch.optim as optim\n",
        "import torch.nn.functional as F\n",
        "from torch.utils.data import DataLoader\n",
        "from tqdm import tqdm\n",
        "import os\n",
        "\n",
        "# Enable cuDNN Benchmarking (improves performance for fixed-size inputs like CIFAR-10)\n",
        "torch.backends.cudnn.benchmark = True\n",
        "\n",
        "# Use all available CPU cores for data loading\n",
        "num_workers = os.cpu_count()\n",
        "\n",
        "def train_model(model, train_loader,test_loader, criterion, optimizer, epochs=25, patience=3):\n",
        "    model.train()\n",
        "    scaler = torch.amp.GradScaler('cuda')\n",
        "\n",
        "    best_loss = float('inf')\n",
        "    best_acc = 0.0\n",
        "    epochs_no_improve = 0\n",
        "\n",
        "    # Learning Rate Scheduler: Reduce LR if loss plateaus\n",
        "    scheduler = optim.lr_scheduler.ReduceLROnPlateau(optimizer, mode='min', factor=0.5, patience=2, verbose=True)\n",
        "\n",
        "    for epoch in range(epochs):\n",
        "        epoch_loss = 0.0\n",
        "        correct, total = 0, 0  # Track accuracy per epoch\n",
        "\n",
        "        # Progress Bar\n",
        "        progress_bar = tqdm(train_loader, desc=f\"Epoch {epoch+1}/{epochs}\", leave=False)\n",
        "\n",
        "        for images, labels in progress_bar:\n",
        "            images, labels = images.to(device), labels.to(device)\n",
        "            optimizer.zero_grad()\n",
        "\n",
        "            # Mixed Precision Training\n",
        "            with torch.amp.autocast('cuda'):\n",
        "                outputs = model(images)\n",
        "                loss = criterion(outputs, labels)\n",
        "\n",
        "            # Backpropagation with AMP\n",
        "            scaler.scale(loss).backward()\n",
        "            scaler.step(optimizer)\n",
        "            scaler.update()\n",
        "\n",
        "            epoch_loss += loss.item()\n",
        "\n",
        "            # Calculate accuracy\n",
        "            _, predicted = torch.max(outputs, 1)\n",
        "            correct += (predicted == labels).sum().item()\n",
        "            total += labels.size(0)\n",
        "\n",
        "            # Update progress bar with loss\n",
        "            progress_bar.set_postfix(loss=loss.item())\n",
        "\n",
        "        # Calculate average loss and accuracy for the epoch\n",
        "        avg_loss = epoch_loss / len(train_loader)\n",
        "        epoch_accuracy = correct / total\n",
        "        print(f\"Epoch {epoch+1}/{epochs} - Avg Loss: {avg_loss:.4f} - Accuracy: {epoch_accuracy:.4f}\")\n",
        "\n",
        "        # Adjust learning rate if loss plateaus\n",
        "        scheduler.step(avg_loss)\n",
        "\n",
        "        # Convergence check (Stop if both accuracy and loss stop improving)\n",
        "        if best_loss - avg_loss > 0.0001:\n",
        "            best_loss = min(best_loss, avg_loss)\n",
        "            best_acc = max(best_acc, epoch_accuracy)\n",
        "            epochs_no_improve = 0\n",
        "\n",
        "            # Save the best model\n",
        "            torch.save(model.state_dict(), \"best_model.pth\")\n",
        "            print(\"✅ Model saved!\")\n",
        "\n",
        "        else:\n",
        "            epochs_no_improve += 1\n",
        "\n",
        "        if epochs_no_improve >= patience:\n",
        "            print(f\"Early stopping at epoch {epoch+1} (No improvement for {patience} epochs)\")\n",
        "            break\n",
        "\n",
        "    return evaluate_model(model,test_loader)\n",
        "\n",
        "\n",
        "def evaluate_model(model,test_loader):\n",
        "    model.eval()\n",
        "    correct, total = 0, 0\n",
        "\n",
        "    with torch.no_grad():\n",
        "        progress_bar = tqdm(test_loader, desc=\"Evaluating\", leave=False)\n",
        "\n",
        "        for images, labels in progress_bar:\n",
        "            images, labels = images.to(device), labels.to(device)\n",
        "            outputs = model(images)\n",
        "            _, predicted = torch.max(outputs, 1)\n",
        "            total += labels.size(0)\n",
        "            correct += (predicted == labels).sum().item()\n",
        "\n",
        "    accuracy = correct / total\n",
        "    print(f\"Test Accuracy: {accuracy:.4f}\")\n",
        "    return accuracy\n",
        "\n",
        "\n",
        "# Faster Data Loaders\n",
        "train_loader = DataLoader(train_dataset, batch_size=512, shuffle=True, num_workers=num_workers, pin_memory=True)\n",
        "test_loader = DataLoader(test_dataset, batch_size=512, shuffle=False, num_workers=num_workers, pin_memory=True)\n",
        "\n",
        "# Results Storage\n",
        "results = {\n",
        "    \"CE\": [],\n",
        "    \"FL\": [],\n",
        "    \"NCE\": [],\n",
        "    \"NFL\": [],\n",
        "    \"APL_NCE_MAE\": [],\n",
        "    \"APL_NCE_RCE\": [],\n",
        "    \"APL_NFL_MAE\": [],\n",
        "    \"APL_NFL_RCE\": [],\n",
        "}"
      ],
      "metadata": {
        "id": "-PDWvijmDrT7"
      },
      "execution_count": null,
      "outputs": []
    },
    {
      "cell_type": "code",
      "source": [
        "import torch\n",
        "import torch.nn as nn\n",
        "import torch.nn.functional as F\n",
        "\n",
        "# ======================\n",
        "# Mean Absolute Error (MAE) Loss\n",
        "# ======================\n",
        "class MAELoss(torch.nn.Module):\n",
        "    def forward(self, outputs, labels):\n",
        "        probs = F.softmax(outputs, dim=1)\n",
        "        one_hot_labels = F.one_hot(labels, num_classes=outputs.size(1)).float()\n",
        "        loss = torch.abs(probs - one_hot_labels).mean()\n",
        "        return loss\n",
        "\n",
        "\n",
        "# ======================\n",
        "# Reverse Cross-Entropy (RCE) Loss\n",
        "# ======================\n",
        "class RCELoss(torch.nn.Module):\n",
        "    def forward(self, outputs, labels):\n",
        "        probs = F.softmax(outputs, dim=1)\n",
        "        one_hot_labels = F.one_hot(labels, num_classes=outputs.size(1)).float()\n",
        "        reverse_probs = 1.0 - probs\n",
        "        loss = -torch.sum(reverse_probs * one_hot_labels, dim=1).mean()\n",
        "        # Normalize RCE to prevent it from dominating\n",
        "        loss /= outputs.size(1)\n",
        "        return loss\n",
        "\n",
        "\n",
        "# ======================\n",
        "# Active Passive Loss (APL)\n",
        "# ======================\n",
        "class APLLoss(nn.Module):\n",
        "    def __init__(self, active_loss, passive_loss, alpha=1.0, beta=1.0, debug=False):\n",
        "        super(APLLoss, self).__init__()\n",
        "        self.active_loss = active_loss\n",
        "        self.passive_loss = passive_loss\n",
        "        self.alpha = alpha\n",
        "        self.beta = beta\n",
        "        self.debug = debug\n",
        "\n",
        "    def forward(self, outputs, labels):\n",
        "        active = self.active_loss(outputs, labels)\n",
        "        passive = self.passive_loss(outputs, labels)\n",
        "\n",
        "        # Safe APL: Prevent negative loss by clamping\n",
        "        loss = self.alpha * active + self.beta * passive\n",
        "        loss = torch.clamp(loss, min=0)\n",
        "\n",
        "      #  if self.debug:\n",
        "       #     print(f\"APL => Active: {active:.6f}, Passive: {passive:.6f}, Total: {loss:.6f}\")\n",
        "\n",
        "        return loss\n",
        "\n",
        "\n",
        "# ======================\n",
        "# Instantiate the APL combinations with safe parameters\n",
        "# ======================\n",
        "\n",
        "# Safeguard NCE + MAE (No risk of negative loss)\n",
        "apl_nce_mae = APLLoss(NormalizedCrossEntropyLoss(), MAELoss(), debug=True)\n",
        "\n",
        "# NCE + RCE (Lower beta to reduce passive loss impact)\n",
        "apl_nce_rce = APLLoss(NormalizedCrossEntropyLoss(), RCELoss(), alpha=1.0, beta=0.001, debug=True)\n",
        "\n",
        "# NFL + MAE (No risk of negative loss)\n",
        "apl_nfl_mae = APLLoss(NormalizedFocalLoss(), MAELoss(), debug=True)\n",
        "\n",
        "# NFL + RCE (Lower beta to prevent negative loss)\n",
        "apl_nfl_rce = APLLoss(NormalizedFocalLoss(), RCELoss(), alpha=1.0, beta=0.001, debug=True)\n",
        "\n",
        "\n"
      ],
      "metadata": {
        "id": "yiX-TG7xEjyS",
        "colab": {
          "base_uri": "https://localhost:8080/"
        },
        "outputId": "087f7c45-1ced-469e-d273-bd615663b3a6"
      },
      "execution_count": null,
      "outputs": [
        {
          "output_type": "stream",
          "name": "stdout",
          "text": [
            "✅ APL Losses are now safe! No more negative losses. 🚀\n"
          ]
        }
      ]
    },
    {
      "cell_type": "code",
      "source": [
        "noise_rates = [0.1, 0.3, 0.5, 0.7]  # Different noise levels\n"
      ],
      "metadata": {
        "id": "9-tEa638KD0T"
      },
      "execution_count": null,
      "outputs": []
    },
    {
      "cell_type": "code",
      "source": [],
      "metadata": {
        "id": "UJc0vfGZyhCM"
      },
      "execution_count": null,
      "outputs": []
    },
    {
      "cell_type": "markdown",
      "source": [
        " {'CE': [0.678, 0.5937, 0.4565], 'FL': [0.6594, 0.6004, 0.4626], 'NCE': [0.6575, 0.5793, 0.4979], 'NFL': [0.6589, 0.597, 0.5062]}"
      ],
      "metadata": {
        "id": "wZzC_igCWe9r"
      }
    },
    {
      "cell_type": "code",
      "source": [
        " # Train Cross-Entropy Loss Model\n",
        "\n",
        "for noise_rate in noise_rates:\n",
        "\n",
        "\n",
        "    # Train APL (NCE + MAE)\n",
        "    apl_nce_mae_model = SimpleCNN().to(device)\n",
        "    optimizer = optim.Adam(apl_nce_mae_model.parameters(), lr=0.001)\n",
        "    apl_nce_mae_acc = train_model(apl_nce_mae_model, train_loader,test_loader, apl_nce_mae, optimizer)\n",
        "    results[\"APL_NCE_MAE\"].append(apl_nce_mae_acc)\n",
        "    print(f\"APL (NCE + MAE) Accuracy for Noise Rate {noise_rate}: {apl_nce_mae_acc}\")\n",
        "    print(\"Results so far:\", results)\n",
        "\n",
        "     # Train APL (NFL + MAE)\n",
        "    apl_nfl_mae_model = SimpleCNN().to(device)\n",
        "    optimizer = optim.Adam(apl_nfl_mae_model.parameters(), lr=0.001)\n",
        "    apl_nfl_mae_acc = train_model(apl_nfl_mae_model, train_loader,test_loader, apl_nfl_mae, optimizer)\n",
        "    results[\"APL_NFL_MAE\"].append(apl_nfl_mae_acc)\n",
        "    print(f\"APL (NFL + MAE) Accuracy for Noise Rate {noise_rate}: {apl_nfl_mae_acc}\")\n",
        "    print(\"Results so far:\", results)\n",
        "\n",
        "\n",
        "\n",
        "    # Train APL (NCE + RCE)\n",
        "    apl_nce_rce_model = SimpleCNN().to(device)\n",
        "    optimizer = optim.Adam(apl_nce_rce_model.parameters(), lr=0.001)\n",
        "    apl_nce_rce_acc = train_model(apl_nce_rce_model, train_loader,test_loader, apl_nce_rce, optimizer)\n",
        "    results[\"APL_NCE_RCE\"].append(apl_nce_rce_acc)\n",
        "    print(f\"APL (NCE + RCE) Accuracy for Noise Rate {noise_rate}: {apl_nce_rce_acc}\")\n",
        "    print(\"Results so far:\", results)\n",
        "\n",
        "\n",
        "\n",
        "    # Train APL (NFL + RCE)\n",
        "    apl_nfl_rce_model = SimpleCNN().to(device)\n",
        "    optimizer = optim.Adam(apl_nfl_rce_model.parameters(), lr=0.001)\n",
        "    apl_nfl_rce_acc = train_model(apl_nfl_rce_model, train_loader,test_loader, apl_nfl_rce, optimizer)\n",
        "    results[\"APL_NFL_RCE\"].append(apl_nfl_rce_acc)\n",
        "    print(f\"APL (NFL + RCE) Accuracy for Noise Rate {noise_rate}: {apl_nfl_rce_acc}\")\n",
        "    print(\"Results so far:\", results)\n"
      ],
      "metadata": {
        "colab": {
          "base_uri": "https://localhost:8080/",
          "height": 106
        },
        "id": "cgzLPibJYXL6",
        "outputId": "0ceb2984-7656-4ed3-ddfe-c078660cc579"
      },
      "execution_count": null,
      "outputs": [
        {
          "output_type": "error",
          "ename": "IndentationError",
          "evalue": "unexpected indent (<ipython-input-33-55f780be440e>, line 2)",
          "traceback": [
            "\u001b[0;36m  File \u001b[0;32m\"<ipython-input-33-55f780be440e>\"\u001b[0;36m, line \u001b[0;32m2\u001b[0m\n\u001b[0;31m    ce_model = SimpleCNN().to(device)\u001b[0m\n\u001b[0m    ^\u001b[0m\n\u001b[0;31mIndentationError\u001b[0m\u001b[0;31m:\u001b[0m unexpected indent\n"
          ]
        }
      ]
    },
    {
      "cell_type": "code",
      "source": [
        "\n",
        "for noise_rate in noise_rates:\n",
        "    print(f\"\\nTraining APL models with noise rate: {noise_rate}\")\n",
        "\n",
        "    # Create noisy dataset\n",
        "    train_dataset = datasets.CIFAR10(root='./data', train=True, download=False, transform=transform)\n",
        "    test_dataset = datasets.CIFAR10(root='./data', train=False, download=False, transform=transform)\n",
        "    noisy_labels = add_symmetric_noise(train_dataset.targets, noise_rate, num_classes)\n",
        "    train_dataset.targets = noisy_labels  # Overwrite labels with noisy ones\n",
        "\n",
        "    noisy_labels_test = add_symmetric_noise(test_dataset.targets, noise_rate, num_classes)\n",
        "    test_dataset.targets = noisy_labels_test  # Overwrite labels with noisy ones\n",
        "    train_loader = DataLoader(train_dataset, batch_size=512, shuffle=True, num_workers=num_workers, pin_memory=True)\n",
        "    test_loader = DataLoader(test_dataset, batch_size=512, shuffle=False, num_workers=num_workers, pin_memory=True)\n",
        "\n",
        "\n",
        "\n",
        "\n",
        "    ce_model = SimpleCNN().to(device)\n",
        "    ce_criterion = CrossEntropyLoss().to(device)\n",
        "    ce_optimizer = optim.Adam(ce_model.parameters(), lr=0.001)\n",
        "    ce_acc = train_model(ce_model, train_loader, test_loader ,ce_criterion, ce_optimizer)\n",
        "    results[\"CE\"].append(ce_acc)\n",
        "    print(f\"CE Accuracy for Noise Rate {noise_rate}: {ce_acc}\")\n",
        "    print(\"Results so far:\", results)\n",
        "\n",
        "    # Train Focal Loss Model\n",
        "    fl_model = SimpleCNN().to(device)\n",
        "    fl_criterion = NormalizedFocalLoss().to(device)  # Replace with actual FocalLoss\n",
        "    fl_optimizer = optim.Adam(fl_model.parameters(), lr=0.001)\n",
        "    fl_acc = train_model(fl_model, train_loader, test_loader,fl_criterion, fl_optimizer)\n",
        "    results[\"FL\"].append(fl_acc)\n",
        "    print(f\"FL Accuracy for Noise Rate {noise_rate}: {fl_acc}\")\n",
        "    print(\"Results so far:\", results)\n",
        "\n",
        "    # Train Normalized Cross-Entropy Model\n",
        "    nce_model = SimpleCNN().to(device)\n",
        "    nce_criterion = NormalizedCrossEntropyLoss().to(device)  # Replace with actual NCE Loss\n",
        "    nce_optimizer = optim.Adam(nce_model.parameters(), lr=0.001)\n",
        "    nce_acc = train_model(nce_model, train_loader, test_loader,nce_criterion, nce_optimizer)\n",
        "    results[\"NCE\"].append(nce_acc)\n",
        "    print(f\"NCE Accuracy for Noise Rate {noise_rate}: {nce_acc}\")\n",
        "    print(\"Results so far:\", results)\n",
        "\n",
        "    # Train Normalized Focal Loss Model\n",
        "    nfl_model = SimpleCNN().to(device)\n",
        "    nfl_criterion = NormalizedFocalLoss().to(device)  # Replace with actual NFL Loss\n",
        "    nfl_optimizer = optim.Adam(nfl_model.parameters(), lr=0.001)\n",
        "    nfl_acc = train_model(nfl_model, train_loader,test_loader,nfl_criterion, nfl_optimizer)\n",
        "    results[\"NFL\"].append(nfl_acc)\n",
        "    print(f\"NFL Accuracy for Noise Rate {noise_rate}: {nfl_acc}\")\n",
        "    print(\"Results so far:\", results)\n",
        "\n",
        "# Save results\n",
        "torch.save(results, \"apl_accuracy_vs_noise.pth\")\n"
      ],
      "metadata": {
        "colab": {
          "base_uri": "https://localhost:8080/"
        },
        "id": "jJ2tG-EkJbqt",
        "outputId": "ab3c01a3-6e82-400d-b0d1-f27dc705dd16"
      },
      "execution_count": null,
      "outputs": [
        {
          "output_type": "stream",
          "name": "stdout",
          "text": [
            "\n",
            "Training APL models with noise rate: 0.1\n"
          ]
        },
        {
          "output_type": "stream",
          "name": "stderr",
          "text": []
        },
        {
          "output_type": "stream",
          "name": "stdout",
          "text": [
            "Epoch 1/25 - Avg Loss: 1.7942 - Accuracy: 0.3783\n",
            "✅ Model saved!\n"
          ]
        },
        {
          "output_type": "stream",
          "name": "stderr",
          "text": []
        },
        {
          "output_type": "stream",
          "name": "stdout",
          "text": [
            "Epoch 2/25 - Avg Loss: 1.5247 - Accuracy: 0.4994\n",
            "✅ Model saved!\n"
          ]
        },
        {
          "output_type": "stream",
          "name": "stderr",
          "text": []
        },
        {
          "output_type": "stream",
          "name": "stdout",
          "text": [
            "Epoch 3/25 - Avg Loss: 1.4224 - Accuracy: 0.5446\n",
            "✅ Model saved!\n"
          ]
        },
        {
          "output_type": "stream",
          "name": "stderr",
          "text": []
        },
        {
          "output_type": "stream",
          "name": "stdout",
          "text": [
            "Epoch 4/25 - Avg Loss: 1.3418 - Accuracy: 0.5794\n",
            "✅ Model saved!\n"
          ]
        },
        {
          "output_type": "stream",
          "name": "stderr",
          "text": []
        },
        {
          "output_type": "stream",
          "name": "stdout",
          "text": [
            "Epoch 5/25 - Avg Loss: 1.2873 - Accuracy: 0.6037\n",
            "✅ Model saved!\n"
          ]
        },
        {
          "output_type": "stream",
          "name": "stderr",
          "text": []
        },
        {
          "output_type": "stream",
          "name": "stdout",
          "text": [
            "Epoch 6/25 - Avg Loss: 1.2344 - Accuracy: 0.6202\n",
            "✅ Model saved!\n"
          ]
        },
        {
          "output_type": "stream",
          "name": "stderr",
          "text": []
        },
        {
          "output_type": "stream",
          "name": "stdout",
          "text": [
            "Epoch 7/25 - Avg Loss: 1.1847 - Accuracy: 0.6435\n",
            "✅ Model saved!\n"
          ]
        },
        {
          "output_type": "stream",
          "name": "stderr",
          "text": []
        },
        {
          "output_type": "stream",
          "name": "stdout",
          "text": [
            "Epoch 8/25 - Avg Loss: 1.1439 - Accuracy: 0.6586\n",
            "✅ Model saved!\n"
          ]
        },
        {
          "output_type": "stream",
          "name": "stderr",
          "text": []
        },
        {
          "output_type": "stream",
          "name": "stdout",
          "text": [
            "Epoch 9/25 - Avg Loss: 1.1085 - Accuracy: 0.6709\n",
            "✅ Model saved!\n"
          ]
        },
        {
          "output_type": "stream",
          "name": "stderr",
          "text": []
        },
        {
          "output_type": "stream",
          "name": "stdout",
          "text": [
            "Epoch 10/25 - Avg Loss: 1.0639 - Accuracy: 0.6870\n",
            "✅ Model saved!\n"
          ]
        },
        {
          "output_type": "stream",
          "name": "stderr",
          "text": []
        },
        {
          "output_type": "stream",
          "name": "stdout",
          "text": [
            "Epoch 11/25 - Avg Loss: 1.0294 - Accuracy: 0.6987\n",
            "✅ Model saved!\n"
          ]
        },
        {
          "output_type": "stream",
          "name": "stderr",
          "text": []
        },
        {
          "output_type": "stream",
          "name": "stdout",
          "text": [
            "Epoch 12/25 - Avg Loss: 0.9941 - Accuracy: 0.7104\n",
            "✅ Model saved!\n"
          ]
        },
        {
          "output_type": "stream",
          "name": "stderr",
          "text": []
        },
        {
          "output_type": "stream",
          "name": "stdout",
          "text": [
            "Epoch 13/25 - Avg Loss: 0.9493 - Accuracy: 0.7233\n",
            "✅ Model saved!\n"
          ]
        },
        {
          "output_type": "stream",
          "name": "stderr",
          "text": []
        },
        {
          "output_type": "stream",
          "name": "stdout",
          "text": [
            "Epoch 14/25 - Avg Loss: 0.9123 - Accuracy: 0.7357\n",
            "✅ Model saved!\n"
          ]
        },
        {
          "output_type": "stream",
          "name": "stderr",
          "text": []
        },
        {
          "output_type": "stream",
          "name": "stdout",
          "text": [
            "Epoch 15/25 - Avg Loss: 0.8698 - Accuracy: 0.7462\n",
            "✅ Model saved!\n"
          ]
        },
        {
          "output_type": "stream",
          "name": "stderr",
          "text": []
        },
        {
          "output_type": "stream",
          "name": "stdout",
          "text": [
            "Epoch 16/25 - Avg Loss: 0.8222 - Accuracy: 0.7608\n",
            "✅ Model saved!\n"
          ]
        },
        {
          "output_type": "stream",
          "name": "stderr",
          "text": []
        },
        {
          "output_type": "stream",
          "name": "stdout",
          "text": [
            "Epoch 17/25 - Avg Loss: 0.7807 - Accuracy: 0.7738\n",
            "✅ Model saved!\n"
          ]
        },
        {
          "output_type": "stream",
          "name": "stderr",
          "text": []
        },
        {
          "output_type": "stream",
          "name": "stdout",
          "text": [
            "Epoch 18/25 - Avg Loss: 0.7323 - Accuracy: 0.7881\n",
            "✅ Model saved!\n"
          ]
        },
        {
          "output_type": "stream",
          "name": "stderr",
          "text": []
        },
        {
          "output_type": "stream",
          "name": "stdout",
          "text": [
            "Epoch 19/25 - Avg Loss: 0.6861 - Accuracy: 0.8008\n",
            "✅ Model saved!\n"
          ]
        },
        {
          "output_type": "stream",
          "name": "stderr",
          "text": []
        },
        {
          "output_type": "stream",
          "name": "stdout",
          "text": [
            "Epoch 20/25 - Avg Loss: 0.6414 - Accuracy: 0.8132\n",
            "✅ Model saved!\n"
          ]
        },
        {
          "output_type": "stream",
          "name": "stderr",
          "text": []
        },
        {
          "output_type": "stream",
          "name": "stdout",
          "text": [
            "Epoch 21/25 - Avg Loss: 0.5913 - Accuracy: 0.8281\n",
            "✅ Model saved!\n"
          ]
        },
        {
          "output_type": "stream",
          "name": "stderr",
          "text": []
        },
        {
          "output_type": "stream",
          "name": "stdout",
          "text": [
            "Epoch 22/25 - Avg Loss: 0.5488 - Accuracy: 0.8412\n",
            "✅ Model saved!\n"
          ]
        },
        {
          "output_type": "stream",
          "name": "stderr",
          "text": []
        },
        {
          "output_type": "stream",
          "name": "stdout",
          "text": [
            "Epoch 23/25 - Avg Loss: 0.5057 - Accuracy: 0.8532\n",
            "✅ Model saved!\n"
          ]
        },
        {
          "output_type": "stream",
          "name": "stderr",
          "text": []
        },
        {
          "output_type": "stream",
          "name": "stdout",
          "text": [
            "Epoch 24/25 - Avg Loss: 0.4591 - Accuracy: 0.8673\n",
            "✅ Model saved!\n"
          ]
        },
        {
          "output_type": "stream",
          "name": "stderr",
          "text": []
        },
        {
          "output_type": "stream",
          "name": "stdout",
          "text": [
            "Epoch 25/25 - Avg Loss: 0.4118 - Accuracy: 0.8815\n",
            "✅ Model saved!\n"
          ]
        },
        {
          "output_type": "stream",
          "name": "stderr",
          "text": []
        },
        {
          "output_type": "stream",
          "name": "stdout",
          "text": [
            "Test Accuracy: 0.5866\n",
            "CE Accuracy for Noise Rate 0.1: 0.5866\n",
            "Results so far: {'CE': [0.5866], 'FL': [], 'NCE': [], 'NFL': [], 'APL_NCE_MAE': [0.6138, 0.4692, 0.3255, 0.1876], 'APL_NCE_RCE': [0.5669, 0.4396, 0.2963, 0.1824], 'APL_NFL_MAE': [0.6131, 0.4724, 0.3345, 0.185], 'APL_NFL_RCE': [0.5834, 0.426, 0.2927, 0.1854]}\n"
          ]
        },
        {
          "output_type": "stream",
          "name": "stderr",
          "text": []
        },
        {
          "output_type": "stream",
          "name": "stdout",
          "text": [
            "Epoch 1/25 - Avg Loss: 0.0009 - Accuracy: 0.3423\n",
            "✅ Model saved!\n"
          ]
        },
        {
          "output_type": "stream",
          "name": "stderr",
          "text": []
        },
        {
          "output_type": "stream",
          "name": "stdout",
          "text": [
            "Epoch 2/25 - Avg Loss: 0.0006 - Accuracy: 0.4621\n",
            "✅ Model saved!\n"
          ]
        },
        {
          "output_type": "stream",
          "name": "stderr",
          "text": []
        },
        {
          "output_type": "stream",
          "name": "stdout",
          "text": [
            "Epoch 3/25 - Avg Loss: 0.0006 - Accuracy: 0.5036\n"
          ]
        },
        {
          "output_type": "stream",
          "name": "stderr",
          "text": []
        },
        {
          "output_type": "stream",
          "name": "stdout",
          "text": [
            "Epoch 4/25 - Avg Loss: 0.0005 - Accuracy: 0.5296\n"
          ]
        },
        {
          "output_type": "stream",
          "name": "stderr",
          "text": []
        },
        {
          "output_type": "stream",
          "name": "stdout",
          "text": [
            "Epoch 5/25 - Avg Loss: 0.0005 - Accuracy: 0.5526\n",
            "✅ Model saved!\n"
          ]
        },
        {
          "output_type": "stream",
          "name": "stderr",
          "text": []
        },
        {
          "output_type": "stream",
          "name": "stdout",
          "text": [
            "Epoch 6/25 - Avg Loss: 0.0005 - Accuracy: 0.5755\n"
          ]
        },
        {
          "output_type": "stream",
          "name": "stderr",
          "text": []
        },
        {
          "output_type": "stream",
          "name": "stdout",
          "text": [
            "Epoch 7/25 - Avg Loss: 0.0005 - Accuracy: 0.5928\n"
          ]
        },
        {
          "output_type": "stream",
          "name": "stderr",
          "text": []
        },
        {
          "output_type": "stream",
          "name": "stdout",
          "text": [
            "Epoch 8/25 - Avg Loss: 0.0004 - Accuracy: 0.6081\n",
            "Early stopping at epoch 8 (No improvement for 3 epochs)\n"
          ]
        },
        {
          "output_type": "stream",
          "name": "stderr",
          "text": []
        },
        {
          "output_type": "stream",
          "name": "stdout",
          "text": [
            "Test Accuracy: 0.5971\n",
            "FL Accuracy for Noise Rate 0.1: 0.5971\n",
            "Results so far: {'CE': [0.5866], 'FL': [0.5971], 'NCE': [], 'NFL': [], 'APL_NCE_MAE': [0.6138, 0.4692, 0.3255, 0.1876], 'APL_NCE_RCE': [0.5669, 0.4396, 0.2963, 0.1824], 'APL_NFL_MAE': [0.6131, 0.4724, 0.3345, 0.185], 'APL_NFL_RCE': [0.5834, 0.426, 0.2927, 0.1854]}\n"
          ]
        },
        {
          "output_type": "stream",
          "name": "stderr",
          "text": []
        },
        {
          "output_type": "stream",
          "name": "stdout",
          "text": [
            "Epoch 1/25 - Avg Loss: 0.0009 - Accuracy: 0.3457\n",
            "✅ Model saved!\n"
          ]
        },
        {
          "output_type": "stream",
          "name": "stderr",
          "text": []
        },
        {
          "output_type": "stream",
          "name": "stdout",
          "text": [
            "Epoch 2/25 - Avg Loss: 0.0006 - Accuracy: 0.4650\n",
            "✅ Model saved!\n"
          ]
        },
        {
          "output_type": "stream",
          "name": "stderr",
          "text": []
        },
        {
          "output_type": "stream",
          "name": "stdout",
          "text": [
            "Epoch 3/25 - Avg Loss: 0.0006 - Accuracy: 0.5081\n"
          ]
        },
        {
          "output_type": "stream",
          "name": "stderr",
          "text": []
        },
        {
          "output_type": "stream",
          "name": "stdout",
          "text": [
            "Epoch 4/25 - Avg Loss: 0.0005 - Accuracy: 0.5325\n"
          ]
        },
        {
          "output_type": "stream",
          "name": "stderr",
          "text": []
        },
        {
          "output_type": "stream",
          "name": "stdout",
          "text": [
            "Epoch 5/25 - Avg Loss: 0.0005 - Accuracy: 0.5606\n",
            "✅ Model saved!\n"
          ]
        },
        {
          "output_type": "stream",
          "name": "stderr",
          "text": []
        },
        {
          "output_type": "stream",
          "name": "stdout",
          "text": [
            "Epoch 6/25 - Avg Loss: 0.0005 - Accuracy: 0.5771\n"
          ]
        },
        {
          "output_type": "stream",
          "name": "stderr",
          "text": []
        },
        {
          "output_type": "stream",
          "name": "stdout",
          "text": [
            "Epoch 7/25 - Avg Loss: 0.0005 - Accuracy: 0.5948\n"
          ]
        },
        {
          "output_type": "stream",
          "name": "stderr",
          "text": []
        },
        {
          "output_type": "stream",
          "name": "stdout",
          "text": [
            "Epoch 8/25 - Avg Loss: 0.0004 - Accuracy: 0.6135\n",
            "Early stopping at epoch 8 (No improvement for 3 epochs)\n"
          ]
        },
        {
          "output_type": "stream",
          "name": "stderr",
          "text": []
        },
        {
          "output_type": "stream",
          "name": "stdout",
          "text": [
            "Test Accuracy: 0.5854\n",
            "NCE Accuracy for Noise Rate 0.1: 0.5854\n",
            "Results so far: {'CE': [0.5866], 'FL': [0.5971], 'NCE': [0.5854], 'NFL': [], 'APL_NCE_MAE': [0.6138, 0.4692, 0.3255, 0.1876], 'APL_NCE_RCE': [0.5669, 0.4396, 0.2963, 0.1824], 'APL_NFL_MAE': [0.6131, 0.4724, 0.3345, 0.185], 'APL_NFL_RCE': [0.5834, 0.426, 0.2927, 0.1854]}\n"
          ]
        },
        {
          "output_type": "stream",
          "name": "stderr",
          "text": []
        },
        {
          "output_type": "stream",
          "name": "stdout",
          "text": [
            "Epoch 1/25 - Avg Loss: 0.0010 - Accuracy: 0.3333\n",
            "✅ Model saved!\n"
          ]
        },
        {
          "output_type": "stream",
          "name": "stderr",
          "text": []
        },
        {
          "output_type": "stream",
          "name": "stdout",
          "text": [
            "Epoch 2/25 - Avg Loss: 0.0007 - Accuracy: 0.4539\n",
            "✅ Model saved!\n"
          ]
        },
        {
          "output_type": "stream",
          "name": "stderr",
          "text": []
        },
        {
          "output_type": "stream",
          "name": "stdout",
          "text": [
            "Epoch 3/25 - Avg Loss: 0.0006 - Accuracy: 0.4914\n"
          ]
        },
        {
          "output_type": "stream",
          "name": "stderr",
          "text": []
        },
        {
          "output_type": "stream",
          "name": "stdout",
          "text": [
            "Epoch 4/25 - Avg Loss: 0.0006 - Accuracy: 0.5162\n"
          ]
        },
        {
          "output_type": "stream",
          "name": "stderr",
          "text": []
        },
        {
          "output_type": "stream",
          "name": "stdout",
          "text": [
            "Epoch 5/25 - Avg Loss: 0.0005 - Accuracy: 0.5433\n",
            "✅ Model saved!\n"
          ]
        },
        {
          "output_type": "stream",
          "name": "stderr",
          "text": []
        },
        {
          "output_type": "stream",
          "name": "stdout",
          "text": [
            "Epoch 6/25 - Avg Loss: 0.0005 - Accuracy: 0.5615\n"
          ]
        },
        {
          "output_type": "stream",
          "name": "stderr",
          "text": []
        },
        {
          "output_type": "stream",
          "name": "stdout",
          "text": [
            "Epoch 7/25 - Avg Loss: 0.0005 - Accuracy: 0.5791\n"
          ]
        },
        {
          "output_type": "stream",
          "name": "stderr",
          "text": []
        },
        {
          "output_type": "stream",
          "name": "stdout",
          "text": [
            "Epoch 8/25 - Avg Loss: 0.0005 - Accuracy: 0.5960\n",
            "Early stopping at epoch 8 (No improvement for 3 epochs)\n"
          ]
        },
        {
          "output_type": "stream",
          "name": "stderr",
          "text": []
        },
        {
          "output_type": "stream",
          "name": "stdout",
          "text": [
            "Test Accuracy: 0.5777\n",
            "NFL Accuracy for Noise Rate 0.1: 0.5777\n",
            "Results so far: {'CE': [0.5866], 'FL': [0.5971], 'NCE': [0.5854], 'NFL': [0.5777], 'APL_NCE_MAE': [0.6138, 0.4692, 0.3255, 0.1876], 'APL_NCE_RCE': [0.5669, 0.4396, 0.2963, 0.1824], 'APL_NFL_MAE': [0.6131, 0.4724, 0.3345, 0.185], 'APL_NFL_RCE': [0.5834, 0.426, 0.2927, 0.1854]}\n",
            "\n",
            "Training APL models with noise rate: 0.3\n"
          ]
        },
        {
          "output_type": "stream",
          "name": "stderr",
          "text": []
        },
        {
          "output_type": "stream",
          "name": "stdout",
          "text": [
            "Epoch 1/25 - Avg Loss: 2.0341 - Accuracy: 0.3035\n",
            "✅ Model saved!\n"
          ]
        },
        {
          "output_type": "stream",
          "name": "stderr",
          "text": []
        },
        {
          "output_type": "stream",
          "name": "stdout",
          "text": [
            "Epoch 2/25 - Avg Loss: 1.8827 - Accuracy: 0.3918\n",
            "✅ Model saved!\n"
          ]
        },
        {
          "output_type": "stream",
          "name": "stderr",
          "text": []
        },
        {
          "output_type": "stream",
          "name": "stdout",
          "text": [
            "Epoch 3/25 - Avg Loss: 1.8147 - Accuracy: 0.4290\n",
            "✅ Model saved!\n"
          ]
        },
        {
          "output_type": "stream",
          "name": "stderr",
          "text": []
        },
        {
          "output_type": "stream",
          "name": "stdout",
          "text": [
            "Epoch 4/25 - Avg Loss: 1.7609 - Accuracy: 0.4555\n",
            "✅ Model saved!\n"
          ]
        },
        {
          "output_type": "stream",
          "name": "stderr",
          "text": []
        },
        {
          "output_type": "stream",
          "name": "stdout",
          "text": [
            "Epoch 5/25 - Avg Loss: 1.7210 - Accuracy: 0.4734\n",
            "✅ Model saved!\n"
          ]
        },
        {
          "output_type": "stream",
          "name": "stderr",
          "text": []
        },
        {
          "output_type": "stream",
          "name": "stdout",
          "text": [
            "Epoch 6/25 - Avg Loss: 1.6840 - Accuracy: 0.4902\n",
            "✅ Model saved!\n"
          ]
        },
        {
          "output_type": "stream",
          "name": "stderr",
          "text": []
        },
        {
          "output_type": "stream",
          "name": "stdout",
          "text": [
            "Epoch 7/25 - Avg Loss: 1.6475 - Accuracy: 0.5037\n",
            "✅ Model saved!\n"
          ]
        },
        {
          "output_type": "stream",
          "name": "stderr",
          "text": []
        },
        {
          "output_type": "stream",
          "name": "stdout",
          "text": [
            "Epoch 8/25 - Avg Loss: 1.6089 - Accuracy: 0.5158\n",
            "✅ Model saved!\n"
          ]
        },
        {
          "output_type": "stream",
          "name": "stderr",
          "text": []
        },
        {
          "output_type": "stream",
          "name": "stdout",
          "text": [
            "Epoch 9/25 - Avg Loss: 1.5713 - Accuracy: 0.5285\n",
            "✅ Model saved!\n"
          ]
        },
        {
          "output_type": "stream",
          "name": "stderr",
          "text": []
        },
        {
          "output_type": "stream",
          "name": "stdout",
          "text": [
            "Epoch 10/25 - Avg Loss: 1.5290 - Accuracy: 0.5406\n",
            "✅ Model saved!\n"
          ]
        },
        {
          "output_type": "stream",
          "name": "stderr",
          "text": []
        },
        {
          "output_type": "stream",
          "name": "stdout",
          "text": [
            "Epoch 11/25 - Avg Loss: 1.4915 - Accuracy: 0.5507\n",
            "✅ Model saved!\n"
          ]
        },
        {
          "output_type": "stream",
          "name": "stderr",
          "text": []
        },
        {
          "output_type": "stream",
          "name": "stdout",
          "text": [
            "Epoch 12/25 - Avg Loss: 1.4422 - Accuracy: 0.5639\n",
            "✅ Model saved!\n"
          ]
        },
        {
          "output_type": "stream",
          "name": "stderr",
          "text": []
        },
        {
          "output_type": "stream",
          "name": "stdout",
          "text": [
            "Epoch 13/25 - Avg Loss: 1.3982 - Accuracy: 0.5763\n",
            "✅ Model saved!\n"
          ]
        },
        {
          "output_type": "stream",
          "name": "stderr",
          "text": []
        },
        {
          "output_type": "stream",
          "name": "stdout",
          "text": [
            "Epoch 14/25 - Avg Loss: 1.3461 - Accuracy: 0.5885\n",
            "✅ Model saved!\n"
          ]
        },
        {
          "output_type": "stream",
          "name": "stderr",
          "text": []
        },
        {
          "output_type": "stream",
          "name": "stdout",
          "text": [
            "Epoch 15/25 - Avg Loss: 1.2884 - Accuracy: 0.6056\n",
            "✅ Model saved!\n"
          ]
        },
        {
          "output_type": "stream",
          "name": "stderr",
          "text": []
        },
        {
          "output_type": "stream",
          "name": "stdout",
          "text": [
            "Epoch 16/25 - Avg Loss: 1.2331 - Accuracy: 0.6198\n",
            "✅ Model saved!\n"
          ]
        },
        {
          "output_type": "stream",
          "name": "stderr",
          "text": []
        },
        {
          "output_type": "stream",
          "name": "stdout",
          "text": [
            "Epoch 17/25 - Avg Loss: 1.1746 - Accuracy: 0.6363\n",
            "✅ Model saved!\n"
          ]
        },
        {
          "output_type": "stream",
          "name": "stderr",
          "text": []
        },
        {
          "output_type": "stream",
          "name": "stdout",
          "text": [
            "Epoch 18/25 - Avg Loss: 1.1155 - Accuracy: 0.6513\n",
            "✅ Model saved!\n"
          ]
        },
        {
          "output_type": "stream",
          "name": "stderr",
          "text": []
        },
        {
          "output_type": "stream",
          "name": "stdout",
          "text": [
            "Epoch 19/25 - Avg Loss: 1.0505 - Accuracy: 0.6705\n",
            "✅ Model saved!\n"
          ]
        },
        {
          "output_type": "stream",
          "name": "stderr",
          "text": []
        },
        {
          "output_type": "stream",
          "name": "stdout",
          "text": [
            "Epoch 20/25 - Avg Loss: 0.9866 - Accuracy: 0.6898\n",
            "✅ Model saved!\n"
          ]
        },
        {
          "output_type": "stream",
          "name": "stderr",
          "text": []
        },
        {
          "output_type": "stream",
          "name": "stdout",
          "text": [
            "Epoch 21/25 - Avg Loss: 0.9255 - Accuracy: 0.7086\n",
            "✅ Model saved!\n"
          ]
        },
        {
          "output_type": "stream",
          "name": "stderr",
          "text": []
        },
        {
          "output_type": "stream",
          "name": "stdout",
          "text": [
            "Epoch 22/25 - Avg Loss: 0.8709 - Accuracy: 0.7258\n",
            "✅ Model saved!\n"
          ]
        },
        {
          "output_type": "stream",
          "name": "stderr",
          "text": []
        },
        {
          "output_type": "stream",
          "name": "stdout",
          "text": [
            "Epoch 23/25 - Avg Loss: 0.8062 - Accuracy: 0.7459\n",
            "✅ Model saved!\n"
          ]
        },
        {
          "output_type": "stream",
          "name": "stderr",
          "text": []
        },
        {
          "output_type": "stream",
          "name": "stdout",
          "text": [
            "Epoch 24/25 - Avg Loss: 0.7558 - Accuracy: 0.7615\n",
            "✅ Model saved!\n"
          ]
        },
        {
          "output_type": "stream",
          "name": "stderr",
          "text": []
        },
        {
          "output_type": "stream",
          "name": "stdout",
          "text": [
            "Epoch 25/25 - Avg Loss: 0.6889 - Accuracy: 0.7839\n",
            "✅ Model saved!\n"
          ]
        },
        {
          "output_type": "stream",
          "name": "stderr",
          "text": []
        },
        {
          "output_type": "stream",
          "name": "stdout",
          "text": [
            "Test Accuracy: 0.3728\n",
            "CE Accuracy for Noise Rate 0.3: 0.3728\n",
            "Results so far: {'CE': [0.5866, 0.3728], 'FL': [0.5971], 'NCE': [0.5854], 'NFL': [0.5777], 'APL_NCE_MAE': [0.6138, 0.4692, 0.3255, 0.1876], 'APL_NCE_RCE': [0.5669, 0.4396, 0.2963, 0.1824], 'APL_NFL_MAE': [0.6131, 0.4724, 0.3345, 0.185], 'APL_NFL_RCE': [0.5834, 0.426, 0.2927, 0.1854]}\n"
          ]
        },
        {
          "output_type": "stream",
          "name": "stderr",
          "text": []
        },
        {
          "output_type": "stream",
          "name": "stdout",
          "text": [
            "Epoch 1/25 - Avg Loss: 0.0012 - Accuracy: 0.2662\n",
            "✅ Model saved!\n"
          ]
        },
        {
          "output_type": "stream",
          "name": "stderr",
          "text": []
        },
        {
          "output_type": "stream",
          "name": "stdout",
          "text": [
            "Epoch 2/25 - Avg Loss: 0.0010 - Accuracy: 0.3505\n",
            "✅ Model saved!\n"
          ]
        },
        {
          "output_type": "stream",
          "name": "stderr",
          "text": []
        },
        {
          "output_type": "stream",
          "name": "stdout",
          "text": [
            "Epoch 3/25 - Avg Loss: 0.0010 - Accuracy: 0.3785\n"
          ]
        },
        {
          "output_type": "stream",
          "name": "stderr",
          "text": []
        },
        {
          "output_type": "stream",
          "name": "stdout",
          "text": [
            "Epoch 4/25 - Avg Loss: 0.0009 - Accuracy: 0.4041\n"
          ]
        },
        {
          "output_type": "stream",
          "name": "stderr",
          "text": []
        },
        {
          "output_type": "stream",
          "name": "stdout",
          "text": [
            "Epoch 5/25 - Avg Loss: 0.0009 - Accuracy: 0.4189\n",
            "✅ Model saved!\n"
          ]
        },
        {
          "output_type": "stream",
          "name": "stderr",
          "text": []
        },
        {
          "output_type": "stream",
          "name": "stdout",
          "text": [
            "Epoch 6/25 - Avg Loss: 0.0009 - Accuracy: 0.4354\n"
          ]
        },
        {
          "output_type": "stream",
          "name": "stderr",
          "text": []
        },
        {
          "output_type": "stream",
          "name": "stdout",
          "text": [
            "Epoch 7/25 - Avg Loss: 0.0008 - Accuracy: 0.4513\n"
          ]
        },
        {
          "output_type": "stream",
          "name": "stderr",
          "text": []
        },
        {
          "output_type": "stream",
          "name": "stdout",
          "text": [
            "Epoch 8/25 - Avg Loss: 0.0008 - Accuracy: 0.4631\n",
            "Early stopping at epoch 8 (No improvement for 3 epochs)\n"
          ]
        },
        {
          "output_type": "stream",
          "name": "stderr",
          "text": []
        },
        {
          "output_type": "stream",
          "name": "stdout",
          "text": [
            "Test Accuracy: 0.4471\n",
            "FL Accuracy for Noise Rate 0.3: 0.4471\n",
            "Results so far: {'CE': [0.5866, 0.3728], 'FL': [0.5971, 0.4471], 'NCE': [0.5854], 'NFL': [0.5777], 'APL_NCE_MAE': [0.6138, 0.4692, 0.3255, 0.1876], 'APL_NCE_RCE': [0.5669, 0.4396, 0.2963, 0.1824], 'APL_NFL_MAE': [0.6131, 0.4724, 0.3345, 0.185], 'APL_NFL_RCE': [0.5834, 0.426, 0.2927, 0.1854]}\n"
          ]
        },
        {
          "output_type": "stream",
          "name": "stderr",
          "text": []
        },
        {
          "output_type": "stream",
          "name": "stdout",
          "text": [
            "Epoch 1/25 - Avg Loss: 0.0012 - Accuracy: 0.2632\n",
            "✅ Model saved!\n"
          ]
        },
        {
          "output_type": "stream",
          "name": "stderr",
          "text": []
        },
        {
          "output_type": "stream",
          "name": "stdout",
          "text": [
            "Epoch 2/25 - Avg Loss: 0.0010 - Accuracy: 0.3435\n",
            "✅ Model saved!\n"
          ]
        },
        {
          "output_type": "stream",
          "name": "stderr",
          "text": []
        },
        {
          "output_type": "stream",
          "name": "stdout",
          "text": [
            "Epoch 3/25 - Avg Loss: 0.0010 - Accuracy: 0.3742\n"
          ]
        },
        {
          "output_type": "stream",
          "name": "stderr",
          "text": []
        },
        {
          "output_type": "stream",
          "name": "stdout",
          "text": [
            "Epoch 4/25 - Avg Loss: 0.0009 - Accuracy: 0.3988\n"
          ]
        },
        {
          "output_type": "stream",
          "name": "stderr",
          "text": []
        },
        {
          "output_type": "stream",
          "name": "stdout",
          "text": [
            "Epoch 5/25 - Avg Loss: 0.0009 - Accuracy: 0.4196\n",
            "✅ Model saved!\n"
          ]
        },
        {
          "output_type": "stream",
          "name": "stderr",
          "text": []
        },
        {
          "output_type": "stream",
          "name": "stdout",
          "text": [
            "Epoch 6/25 - Avg Loss: 0.0009 - Accuracy: 0.4341\n"
          ]
        },
        {
          "output_type": "stream",
          "name": "stderr",
          "text": []
        },
        {
          "output_type": "stream",
          "name": "stdout",
          "text": [
            "Epoch 7/25 - Avg Loss: 0.0008 - Accuracy: 0.4503\n"
          ]
        },
        {
          "output_type": "stream",
          "name": "stderr",
          "text": []
        },
        {
          "output_type": "stream",
          "name": "stdout",
          "text": [
            "Epoch 8/25 - Avg Loss: 0.0008 - Accuracy: 0.4637\n",
            "Early stopping at epoch 8 (No improvement for 3 epochs)\n"
          ]
        },
        {
          "output_type": "stream",
          "name": "stderr",
          "text": []
        },
        {
          "output_type": "stream",
          "name": "stdout",
          "text": [
            "Test Accuracy: 0.4443\n",
            "NCE Accuracy for Noise Rate 0.3: 0.4443\n",
            "Results so far: {'CE': [0.5866, 0.3728], 'FL': [0.5971, 0.4471], 'NCE': [0.5854, 0.4443], 'NFL': [0.5777], 'APL_NCE_MAE': [0.6138, 0.4692, 0.3255, 0.1876], 'APL_NCE_RCE': [0.5669, 0.4396, 0.2963, 0.1824], 'APL_NFL_MAE': [0.6131, 0.4724, 0.3345, 0.185], 'APL_NFL_RCE': [0.5834, 0.426, 0.2927, 0.1854]}\n"
          ]
        },
        {
          "output_type": "stream",
          "name": "stderr",
          "text": []
        },
        {
          "output_type": "stream",
          "name": "stdout",
          "text": [
            "Epoch 1/25 - Avg Loss: 0.0013 - Accuracy: 0.2506\n",
            "✅ Model saved!\n"
          ]
        },
        {
          "output_type": "stream",
          "name": "stderr",
          "text": []
        },
        {
          "output_type": "stream",
          "name": "stdout",
          "text": [
            "Epoch 2/25 - Avg Loss: 0.0010 - Accuracy: 0.3462\n",
            "✅ Model saved!\n"
          ]
        },
        {
          "output_type": "stream",
          "name": "stderr",
          "text": []
        },
        {
          "output_type": "stream",
          "name": "stdout",
          "text": [
            "Epoch 3/25 - Avg Loss: 0.0010 - Accuracy: 0.3793\n"
          ]
        },
        {
          "output_type": "stream",
          "name": "stderr",
          "text": []
        },
        {
          "output_type": "stream",
          "name": "stdout",
          "text": [
            "Epoch 4/25 - Avg Loss: 0.0009 - Accuracy: 0.4010\n"
          ]
        },
        {
          "output_type": "stream",
          "name": "stderr",
          "text": []
        },
        {
          "output_type": "stream",
          "name": "stdout",
          "text": [
            "Epoch 5/25 - Avg Loss: 0.0009 - Accuracy: 0.4186\n",
            "✅ Model saved!\n"
          ]
        },
        {
          "output_type": "stream",
          "name": "stderr",
          "text": []
        },
        {
          "output_type": "stream",
          "name": "stdout",
          "text": [
            "Epoch 6/25 - Avg Loss: 0.0009 - Accuracy: 0.4336\n"
          ]
        },
        {
          "output_type": "stream",
          "name": "stderr",
          "text": []
        },
        {
          "output_type": "stream",
          "name": "stdout",
          "text": [
            "Epoch 7/25 - Avg Loss: 0.0009 - Accuracy: 0.4500\n"
          ]
        },
        {
          "output_type": "stream",
          "name": "stderr",
          "text": []
        },
        {
          "output_type": "stream",
          "name": "stdout",
          "text": [
            "Epoch 8/25 - Avg Loss: 0.0008 - Accuracy: 0.4565\n",
            "Early stopping at epoch 8 (No improvement for 3 epochs)\n"
          ]
        },
        {
          "output_type": "stream",
          "name": "stderr",
          "text": []
        },
        {
          "output_type": "stream",
          "name": "stdout",
          "text": [
            "Test Accuracy: 0.4431\n",
            "NFL Accuracy for Noise Rate 0.3: 0.4431\n",
            "Results so far: {'CE': [0.5866, 0.3728], 'FL': [0.5971, 0.4471], 'NCE': [0.5854, 0.4443], 'NFL': [0.5777, 0.4431], 'APL_NCE_MAE': [0.6138, 0.4692, 0.3255, 0.1876], 'APL_NCE_RCE': [0.5669, 0.4396, 0.2963, 0.1824], 'APL_NFL_MAE': [0.6131, 0.4724, 0.3345, 0.185], 'APL_NFL_RCE': [0.5834, 0.426, 0.2927, 0.1854]}\n",
            "\n",
            "Training APL models with noise rate: 0.5\n"
          ]
        },
        {
          "output_type": "stream",
          "name": "stderr",
          "text": []
        },
        {
          "output_type": "stream",
          "name": "stdout",
          "text": [
            "Epoch 1/25 - Avg Loss: 2.2069 - Accuracy: 0.2108\n",
            "✅ Model saved!\n"
          ]
        },
        {
          "output_type": "stream",
          "name": "stderr",
          "text": []
        },
        {
          "output_type": "stream",
          "name": "stdout",
          "text": [
            "Epoch 2/25 - Avg Loss: 2.1307 - Accuracy: 0.2756\n",
            "✅ Model saved!\n"
          ]
        },
        {
          "output_type": "stream",
          "name": "stderr",
          "text": []
        },
        {
          "output_type": "stream",
          "name": "stdout",
          "text": [
            "Epoch 3/25 - Avg Loss: 2.0927 - Accuracy: 0.3012\n",
            "✅ Model saved!\n"
          ]
        },
        {
          "output_type": "stream",
          "name": "stderr",
          "text": []
        },
        {
          "output_type": "stream",
          "name": "stdout",
          "text": [
            "Epoch 4/25 - Avg Loss: 2.0623 - Accuracy: 0.3190\n",
            "✅ Model saved!\n"
          ]
        },
        {
          "output_type": "stream",
          "name": "stderr",
          "text": []
        },
        {
          "output_type": "stream",
          "name": "stdout",
          "text": [
            "Epoch 5/25 - Avg Loss: 2.0344 - Accuracy: 0.3309\n",
            "✅ Model saved!\n"
          ]
        },
        {
          "output_type": "stream",
          "name": "stderr",
          "text": []
        },
        {
          "output_type": "stream",
          "name": "stdout",
          "text": [
            "Epoch 6/25 - Avg Loss: 2.0021 - Accuracy: 0.3506\n",
            "✅ Model saved!\n"
          ]
        },
        {
          "output_type": "stream",
          "name": "stderr",
          "text": []
        },
        {
          "output_type": "stream",
          "name": "stdout",
          "text": [
            "Epoch 7/25 - Avg Loss: 1.9724 - Accuracy: 0.3597\n",
            "✅ Model saved!\n"
          ]
        },
        {
          "output_type": "stream",
          "name": "stderr",
          "text": []
        },
        {
          "output_type": "stream",
          "name": "stdout",
          "text": [
            "Epoch 8/25 - Avg Loss: 1.9379 - Accuracy: 0.3715\n",
            "✅ Model saved!\n"
          ]
        },
        {
          "output_type": "stream",
          "name": "stderr",
          "text": []
        },
        {
          "output_type": "stream",
          "name": "stdout",
          "text": [
            "Epoch 9/25 - Avg Loss: 1.8962 - Accuracy: 0.3863\n",
            "✅ Model saved!\n"
          ]
        },
        {
          "output_type": "stream",
          "name": "stderr",
          "text": []
        },
        {
          "output_type": "stream",
          "name": "stdout",
          "text": [
            "Epoch 10/25 - Avg Loss: 1.8483 - Accuracy: 0.3993\n",
            "✅ Model saved!\n"
          ]
        },
        {
          "output_type": "stream",
          "name": "stderr",
          "text": []
        },
        {
          "output_type": "stream",
          "name": "stdout",
          "text": [
            "Epoch 11/25 - Avg Loss: 1.7981 - Accuracy: 0.4131\n",
            "✅ Model saved!\n"
          ]
        },
        {
          "output_type": "stream",
          "name": "stderr",
          "text": []
        },
        {
          "output_type": "stream",
          "name": "stdout",
          "text": [
            "Epoch 12/25 - Avg Loss: 1.7435 - Accuracy: 0.4300\n",
            "✅ Model saved!\n"
          ]
        },
        {
          "output_type": "stream",
          "name": "stderr",
          "text": []
        },
        {
          "output_type": "stream",
          "name": "stdout",
          "text": [
            "Epoch 13/25 - Avg Loss: 1.6781 - Accuracy: 0.4487\n",
            "✅ Model saved!\n"
          ]
        },
        {
          "output_type": "stream",
          "name": "stderr",
          "text": []
        },
        {
          "output_type": "stream",
          "name": "stdout",
          "text": [
            "Epoch 14/25 - Avg Loss: 1.6109 - Accuracy: 0.4667\n",
            "✅ Model saved!\n"
          ]
        },
        {
          "output_type": "stream",
          "name": "stderr",
          "text": []
        },
        {
          "output_type": "stream",
          "name": "stdout",
          "text": [
            "Epoch 15/25 - Avg Loss: 1.5412 - Accuracy: 0.4884\n",
            "✅ Model saved!\n"
          ]
        },
        {
          "output_type": "stream",
          "name": "stderr",
          "text": []
        },
        {
          "output_type": "stream",
          "name": "stdout",
          "text": [
            "Epoch 16/25 - Avg Loss: 1.4741 - Accuracy: 0.5117\n",
            "✅ Model saved!\n"
          ]
        },
        {
          "output_type": "stream",
          "name": "stderr",
          "text": []
        },
        {
          "output_type": "stream",
          "name": "stdout",
          "text": [
            "Epoch 17/25 - Avg Loss: 1.3962 - Accuracy: 0.5384\n",
            "✅ Model saved!\n"
          ]
        },
        {
          "output_type": "stream",
          "name": "stderr",
          "text": []
        },
        {
          "output_type": "stream",
          "name": "stdout",
          "text": [
            "Epoch 18/25 - Avg Loss: 1.3281 - Accuracy: 0.5620\n",
            "✅ Model saved!\n"
          ]
        },
        {
          "output_type": "stream",
          "name": "stderr",
          "text": []
        },
        {
          "output_type": "stream",
          "name": "stdout",
          "text": [
            "Epoch 19/25 - Avg Loss: 1.2575 - Accuracy: 0.5852\n",
            "✅ Model saved!\n"
          ]
        },
        {
          "output_type": "stream",
          "name": "stderr",
          "text": []
        },
        {
          "output_type": "stream",
          "name": "stdout",
          "text": [
            "Epoch 20/25 - Avg Loss: 1.1813 - Accuracy: 0.6105\n",
            "✅ Model saved!\n"
          ]
        },
        {
          "output_type": "stream",
          "name": "stderr",
          "text": []
        },
        {
          "output_type": "stream",
          "name": "stdout",
          "text": [
            "Epoch 21/25 - Avg Loss: 1.1109 - Accuracy: 0.6326\n",
            "✅ Model saved!\n"
          ]
        },
        {
          "output_type": "stream",
          "name": "stderr",
          "text": []
        },
        {
          "output_type": "stream",
          "name": "stdout",
          "text": [
            "Epoch 22/25 - Avg Loss: 1.0526 - Accuracy: 0.6522\n",
            "✅ Model saved!\n"
          ]
        },
        {
          "output_type": "stream",
          "name": "stderr",
          "text": []
        },
        {
          "output_type": "stream",
          "name": "stdout",
          "text": [
            "Epoch 23/25 - Avg Loss: 0.9804 - Accuracy: 0.6775\n",
            "✅ Model saved!\n"
          ]
        },
        {
          "output_type": "stream",
          "name": "stderr",
          "text": []
        },
        {
          "output_type": "stream",
          "name": "stdout",
          "text": [
            "Epoch 24/25 - Avg Loss: 0.9225 - Accuracy: 0.6977\n",
            "✅ Model saved!\n"
          ]
        },
        {
          "output_type": "stream",
          "name": "stderr",
          "text": []
        },
        {
          "output_type": "stream",
          "name": "stdout",
          "text": [
            "Epoch 25/25 - Avg Loss: 0.8511 - Accuracy: 0.7220\n",
            "✅ Model saved!\n"
          ]
        },
        {
          "output_type": "stream",
          "name": "stderr",
          "text": []
        },
        {
          "output_type": "stream",
          "name": "stdout",
          "text": [
            "Test Accuracy: 0.2152\n",
            "CE Accuracy for Noise Rate 0.5: 0.2152\n",
            "Results so far: {'CE': [0.5866, 0.3728, 0.2152], 'FL': [0.5971, 0.4471], 'NCE': [0.5854, 0.4443], 'NFL': [0.5777, 0.4431], 'APL_NCE_MAE': [0.6138, 0.4692, 0.3255, 0.1876], 'APL_NCE_RCE': [0.5669, 0.4396, 0.2963, 0.1824], 'APL_NFL_MAE': [0.6131, 0.4724, 0.3345, 0.185], 'APL_NFL_RCE': [0.5834, 0.426, 0.2927, 0.1854]}\n"
          ]
        },
        {
          "output_type": "stream",
          "name": "stderr",
          "text": []
        },
        {
          "output_type": "stream",
          "name": "stdout",
          "text": [
            "Epoch 1/25 - Avg Loss: 0.0015 - Accuracy: 0.2003\n",
            "✅ Model saved!\n"
          ]
        },
        {
          "output_type": "stream",
          "name": "stderr",
          "text": []
        },
        {
          "output_type": "stream",
          "name": "stdout",
          "text": [
            "Epoch 2/25 - Avg Loss: 0.0013 - Accuracy: 0.2493\n",
            "✅ Model saved!\n"
          ]
        },
        {
          "output_type": "stream",
          "name": "stderr",
          "text": []
        },
        {
          "output_type": "stream",
          "name": "stdout",
          "text": [
            "Epoch 3/25 - Avg Loss: 0.0013 - Accuracy: 0.2741\n"
          ]
        },
        {
          "output_type": "stream",
          "name": "stderr",
          "text": []
        },
        {
          "output_type": "stream",
          "name": "stdout",
          "text": [
            "Epoch 4/25 - Avg Loss: 0.0013 - Accuracy: 0.2854\n"
          ]
        },
        {
          "output_type": "stream",
          "name": "stderr",
          "text": []
        },
        {
          "output_type": "stream",
          "name": "stdout",
          "text": [
            "Epoch 5/25 - Avg Loss: 0.0013 - Accuracy: 0.2952\n",
            "Early stopping at epoch 5 (No improvement for 3 epochs)\n"
          ]
        },
        {
          "output_type": "stream",
          "name": "stderr",
          "text": []
        },
        {
          "output_type": "stream",
          "name": "stdout",
          "text": [
            "Test Accuracy: 0.2880\n",
            "FL Accuracy for Noise Rate 0.5: 0.288\n",
            "Results so far: {'CE': [0.5866, 0.3728, 0.2152], 'FL': [0.5971, 0.4471, 0.288], 'NCE': [0.5854, 0.4443], 'NFL': [0.5777, 0.4431], 'APL_NCE_MAE': [0.6138, 0.4692, 0.3255, 0.1876], 'APL_NCE_RCE': [0.5669, 0.4396, 0.2963, 0.1824], 'APL_NFL_MAE': [0.6131, 0.4724, 0.3345, 0.185], 'APL_NFL_RCE': [0.5834, 0.426, 0.2927, 0.1854]}\n"
          ]
        },
        {
          "output_type": "stream",
          "name": "stderr",
          "text": []
        },
        {
          "output_type": "stream",
          "name": "stdout",
          "text": [
            "Epoch 1/25 - Avg Loss: 0.0015 - Accuracy: 0.1933\n",
            "✅ Model saved!\n"
          ]
        },
        {
          "output_type": "stream",
          "name": "stderr",
          "text": []
        },
        {
          "output_type": "stream",
          "name": "stdout",
          "text": [
            "Epoch 2/25 - Avg Loss: 0.0013 - Accuracy: 0.2541\n",
            "✅ Model saved!\n"
          ]
        },
        {
          "output_type": "stream",
          "name": "stderr",
          "text": []
        },
        {
          "output_type": "stream",
          "name": "stdout",
          "text": [
            "Epoch 3/25 - Avg Loss: 0.0013 - Accuracy: 0.2763\n"
          ]
        },
        {
          "output_type": "stream",
          "name": "stderr",
          "text": []
        },
        {
          "output_type": "stream",
          "name": "stdout",
          "text": [
            "Epoch 4/25 - Avg Loss: 0.0013 - Accuracy: 0.2898\n"
          ]
        },
        {
          "output_type": "stream",
          "name": "stderr",
          "text": []
        },
        {
          "output_type": "stream",
          "name": "stdout",
          "text": [
            "Epoch 5/25 - Avg Loss: 0.0013 - Accuracy: 0.3004\n",
            "Early stopping at epoch 5 (No improvement for 3 epochs)\n"
          ]
        },
        {
          "output_type": "stream",
          "name": "stderr",
          "text": []
        },
        {
          "output_type": "stream",
          "name": "stdout",
          "text": [
            "Test Accuracy: 0.2938\n",
            "NCE Accuracy for Noise Rate 0.5: 0.2938\n",
            "Results so far: {'CE': [0.5866, 0.3728, 0.2152], 'FL': [0.5971, 0.4471, 0.288], 'NCE': [0.5854, 0.4443, 0.2938], 'NFL': [0.5777, 0.4431], 'APL_NCE_MAE': [0.6138, 0.4692, 0.3255, 0.1876], 'APL_NCE_RCE': [0.5669, 0.4396, 0.2963, 0.1824], 'APL_NFL_MAE': [0.6131, 0.4724, 0.3345, 0.185], 'APL_NFL_RCE': [0.5834, 0.426, 0.2927, 0.1854]}\n"
          ]
        },
        {
          "output_type": "stream",
          "name": "stderr",
          "text": []
        },
        {
          "output_type": "stream",
          "name": "stdout",
          "text": [
            "Epoch 1/25 - Avg Loss: 0.0015 - Accuracy: 0.1965\n",
            "✅ Model saved!\n"
          ]
        },
        {
          "output_type": "stream",
          "name": "stderr",
          "text": []
        },
        {
          "output_type": "stream",
          "name": "stdout",
          "text": [
            "Epoch 2/25 - Avg Loss: 0.0014 - Accuracy: 0.2495\n",
            "✅ Model saved!\n"
          ]
        },
        {
          "output_type": "stream",
          "name": "stderr",
          "text": []
        },
        {
          "output_type": "stream",
          "name": "stdout",
          "text": [
            "Epoch 3/25 - Avg Loss: 0.0013 - Accuracy: 0.2747\n"
          ]
        },
        {
          "output_type": "stream",
          "name": "stderr",
          "text": []
        },
        {
          "output_type": "stream",
          "name": "stdout",
          "text": [
            "Epoch 4/25 - Avg Loss: 0.0013 - Accuracy: 0.2858\n"
          ]
        },
        {
          "output_type": "stream",
          "name": "stderr",
          "text": []
        },
        {
          "output_type": "stream",
          "name": "stdout",
          "text": [
            "Epoch 5/25 - Avg Loss: 0.0013 - Accuracy: 0.2970\n",
            "Early stopping at epoch 5 (No improvement for 3 epochs)\n"
          ]
        },
        {
          "output_type": "stream",
          "name": "stderr",
          "text": []
        },
        {
          "output_type": "stream",
          "name": "stdout",
          "text": [
            "Test Accuracy: 0.2930\n",
            "NFL Accuracy for Noise Rate 0.5: 0.293\n",
            "Results so far: {'CE': [0.5866, 0.3728, 0.2152], 'FL': [0.5971, 0.4471, 0.288], 'NCE': [0.5854, 0.4443, 0.2938], 'NFL': [0.5777, 0.4431, 0.293], 'APL_NCE_MAE': [0.6138, 0.4692, 0.3255, 0.1876], 'APL_NCE_RCE': [0.5669, 0.4396, 0.2963, 0.1824], 'APL_NFL_MAE': [0.6131, 0.4724, 0.3345, 0.185], 'APL_NFL_RCE': [0.5834, 0.426, 0.2927, 0.1854]}\n",
            "\n",
            "Training APL models with noise rate: 0.7\n"
          ]
        },
        {
          "output_type": "stream",
          "name": "stderr",
          "text": []
        },
        {
          "output_type": "stream",
          "name": "stdout",
          "text": [
            "Epoch 1/25 - Avg Loss: 2.2865 - Accuracy: 0.1419\n",
            "✅ Model saved!\n"
          ]
        },
        {
          "output_type": "stream",
          "name": "stderr",
          "text": []
        },
        {
          "output_type": "stream",
          "name": "stdout",
          "text": [
            "Epoch 2/25 - Avg Loss: 2.2634 - Accuracy: 0.1740\n",
            "✅ Model saved!\n"
          ]
        },
        {
          "output_type": "stream",
          "name": "stderr",
          "text": []
        },
        {
          "output_type": "stream",
          "name": "stdout",
          "text": [
            "Epoch 3/25 - Avg Loss: 2.2465 - Accuracy: 0.1905\n",
            "✅ Model saved!\n"
          ]
        },
        {
          "output_type": "stream",
          "name": "stderr",
          "text": []
        },
        {
          "output_type": "stream",
          "name": "stdout",
          "text": [
            "Epoch 4/25 - Avg Loss: 2.2261 - Accuracy: 0.2064\n",
            "✅ Model saved!\n"
          ]
        },
        {
          "output_type": "stream",
          "name": "stderr",
          "text": []
        },
        {
          "output_type": "stream",
          "name": "stdout",
          "text": [
            "Epoch 5/25 - Avg Loss: 2.2037 - Accuracy: 0.2161\n",
            "✅ Model saved!\n"
          ]
        },
        {
          "output_type": "stream",
          "name": "stderr",
          "text": []
        },
        {
          "output_type": "stream",
          "name": "stdout",
          "text": [
            "Epoch 6/25 - Avg Loss: 2.1760 - Accuracy: 0.2312\n",
            "✅ Model saved!\n"
          ]
        },
        {
          "output_type": "stream",
          "name": "stderr",
          "text": []
        },
        {
          "output_type": "stream",
          "name": "stdout",
          "text": [
            "Epoch 7/25 - Avg Loss: 2.1402 - Accuracy: 0.2450\n",
            "✅ Model saved!\n"
          ]
        },
        {
          "output_type": "stream",
          "name": "stderr",
          "text": []
        },
        {
          "output_type": "stream",
          "name": "stdout",
          "text": [
            "Epoch 8/25 - Avg Loss: 2.0926 - Accuracy: 0.2651\n",
            "✅ Model saved!\n"
          ]
        },
        {
          "output_type": "stream",
          "name": "stderr",
          "text": []
        },
        {
          "output_type": "stream",
          "name": "stdout",
          "text": [
            "Epoch 9/25 - Avg Loss: 2.0305 - Accuracy: 0.2877\n",
            "✅ Model saved!\n"
          ]
        },
        {
          "output_type": "stream",
          "name": "stderr",
          "text": []
        },
        {
          "output_type": "stream",
          "name": "stdout",
          "text": [
            "Epoch 10/25 - Avg Loss: 1.9597 - Accuracy: 0.3155\n",
            "✅ Model saved!\n"
          ]
        },
        {
          "output_type": "stream",
          "name": "stderr",
          "text": []
        },
        {
          "output_type": "stream",
          "name": "stdout",
          "text": [
            "Epoch 11/25 - Avg Loss: 1.8879 - Accuracy: 0.3437\n",
            "✅ Model saved!\n"
          ]
        },
        {
          "output_type": "stream",
          "name": "stderr",
          "text": []
        },
        {
          "output_type": "stream",
          "name": "stdout",
          "text": [
            "Epoch 12/25 - Avg Loss: 1.8061 - Accuracy: 0.3744\n",
            "✅ Model saved!\n"
          ]
        },
        {
          "output_type": "stream",
          "name": "stderr",
          "text": []
        },
        {
          "output_type": "stream",
          "name": "stdout",
          "text": [
            "Epoch 13/25 - Avg Loss: 1.7125 - Accuracy: 0.4089\n",
            "✅ Model saved!\n"
          ]
        },
        {
          "output_type": "stream",
          "name": "stderr",
          "text": []
        },
        {
          "output_type": "stream",
          "name": "stdout",
          "text": [
            "Epoch 14/25 - Avg Loss: 1.6251 - Accuracy: 0.4435\n",
            "✅ Model saved!\n"
          ]
        },
        {
          "output_type": "stream",
          "name": "stderr",
          "text": []
        },
        {
          "output_type": "stream",
          "name": "stdout",
          "text": [
            "Epoch 15/25 - Avg Loss: 1.5332 - Accuracy: 0.4768\n",
            "✅ Model saved!\n"
          ]
        },
        {
          "output_type": "stream",
          "name": "stderr",
          "text": []
        },
        {
          "output_type": "stream",
          "name": "stdout",
          "text": [
            "Epoch 16/25 - Avg Loss: 1.4424 - Accuracy: 0.5087\n",
            "✅ Model saved!\n"
          ]
        },
        {
          "output_type": "stream",
          "name": "stderr",
          "text": []
        },
        {
          "output_type": "stream",
          "name": "stdout",
          "text": [
            "Epoch 17/25 - Avg Loss: 1.3491 - Accuracy: 0.5432\n",
            "✅ Model saved!\n"
          ]
        },
        {
          "output_type": "stream",
          "name": "stderr",
          "text": []
        },
        {
          "output_type": "stream",
          "name": "stdout",
          "text": [
            "Epoch 18/25 - Avg Loss: 1.2669 - Accuracy: 0.5718\n",
            "✅ Model saved!\n"
          ]
        },
        {
          "output_type": "stream",
          "name": "stderr",
          "text": []
        },
        {
          "output_type": "stream",
          "name": "stdout",
          "text": [
            "Epoch 19/25 - Avg Loss: 1.1779 - Accuracy: 0.6048\n",
            "✅ Model saved!\n"
          ]
        },
        {
          "output_type": "stream",
          "name": "stderr",
          "text": []
        },
        {
          "output_type": "stream",
          "name": "stdout",
          "text": [
            "Epoch 20/25 - Avg Loss: 1.0936 - Accuracy: 0.6350\n",
            "✅ Model saved!\n"
          ]
        },
        {
          "output_type": "stream",
          "name": "stderr",
          "text": []
        },
        {
          "output_type": "stream",
          "name": "stdout",
          "text": [
            "Epoch 21/25 - Avg Loss: 1.0135 - Accuracy: 0.6616\n",
            "✅ Model saved!\n"
          ]
        },
        {
          "output_type": "stream",
          "name": "stderr",
          "text": []
        },
        {
          "output_type": "stream",
          "name": "stdout",
          "text": [
            "Epoch 22/25 - Avg Loss: 0.9370 - Accuracy: 0.6917\n",
            "✅ Model saved!\n"
          ]
        },
        {
          "output_type": "stream",
          "name": "stderr",
          "text": []
        },
        {
          "output_type": "stream",
          "name": "stdout",
          "text": [
            "Epoch 23/25 - Avg Loss: 0.8606 - Accuracy: 0.7177\n",
            "✅ Model saved!\n"
          ]
        },
        {
          "output_type": "stream",
          "name": "stderr",
          "text": []
        },
        {
          "output_type": "stream",
          "name": "stdout",
          "text": [
            "Epoch 24/25 - Avg Loss: 0.7854 - Accuracy: 0.7453\n",
            "✅ Model saved!\n"
          ]
        },
        {
          "output_type": "stream",
          "name": "stderr",
          "text": []
        },
        {
          "output_type": "stream",
          "name": "stdout",
          "text": [
            "Epoch 25/25 - Avg Loss: 0.7144 - Accuracy: 0.7702\n",
            "✅ Model saved!\n"
          ]
        },
        {
          "output_type": "stream",
          "name": "stderr",
          "text": []
        },
        {
          "output_type": "stream",
          "name": "stdout",
          "text": [
            "Test Accuracy: 0.1290\n",
            "CE Accuracy for Noise Rate 0.7: 0.129\n",
            "Results so far: {'CE': [0.5866, 0.3728, 0.2152, 0.129], 'FL': [0.5971, 0.4471, 0.288], 'NCE': [0.5854, 0.4443, 0.2938], 'NFL': [0.5777, 0.4431, 0.293], 'APL_NCE_MAE': [0.6138, 0.4692, 0.3255, 0.1876], 'APL_NCE_RCE': [0.5669, 0.4396, 0.2963, 0.1824], 'APL_NFL_MAE': [0.6131, 0.4724, 0.3345, 0.185], 'APL_NFL_RCE': [0.5834, 0.426, 0.2927, 0.1854]}\n"
          ]
        },
        {
          "output_type": "stream",
          "name": "stderr",
          "text": []
        },
        {
          "output_type": "stream",
          "name": "stdout",
          "text": [
            "Epoch 1/25 - Avg Loss: 0.0018 - Accuracy: 0.1323\n",
            "✅ Model saved!\n"
          ]
        },
        {
          "output_type": "stream",
          "name": "stderr",
          "text": []
        },
        {
          "output_type": "stream",
          "name": "stdout",
          "text": [
            "Epoch 2/25 - Avg Loss: 0.0017 - Accuracy: 0.1595\n",
            "✅ Model saved!\n"
          ]
        },
        {
          "output_type": "stream",
          "name": "stderr",
          "text": []
        },
        {
          "output_type": "stream",
          "name": "stdout",
          "text": [
            "Epoch 3/25 - Avg Loss: 0.0017 - Accuracy: 0.1702\n"
          ]
        },
        {
          "output_type": "stream",
          "name": "stderr",
          "text": []
        },
        {
          "output_type": "stream",
          "name": "stdout",
          "text": [
            "Epoch 4/25 - Avg Loss: 0.0016 - Accuracy: 0.1785\n"
          ]
        },
        {
          "output_type": "stream",
          "name": "stderr",
          "text": []
        },
        {
          "output_type": "stream",
          "name": "stdout",
          "text": [
            "Epoch 5/25 - Avg Loss: 0.0016 - Accuracy: 0.1854\n",
            "Early stopping at epoch 5 (No improvement for 3 epochs)\n"
          ]
        },
        {
          "output_type": "stream",
          "name": "stderr",
          "text": []
        },
        {
          "output_type": "stream",
          "name": "stdout",
          "text": [
            "Test Accuracy: 0.1772\n",
            "FL Accuracy for Noise Rate 0.7: 0.1772\n",
            "Results so far: {'CE': [0.5866, 0.3728, 0.2152, 0.129], 'FL': [0.5971, 0.4471, 0.288, 0.1772], 'NCE': [0.5854, 0.4443, 0.2938], 'NFL': [0.5777, 0.4431, 0.293], 'APL_NCE_MAE': [0.6138, 0.4692, 0.3255, 0.1876], 'APL_NCE_RCE': [0.5669, 0.4396, 0.2963, 0.1824], 'APL_NFL_MAE': [0.6131, 0.4724, 0.3345, 0.185], 'APL_NFL_RCE': [0.5834, 0.426, 0.2927, 0.1854]}\n"
          ]
        },
        {
          "output_type": "stream",
          "name": "stderr",
          "text": []
        },
        {
          "output_type": "stream",
          "name": "stdout",
          "text": [
            "Epoch 1/25 - Avg Loss: 0.0018 - Accuracy: 0.1317\n",
            "✅ Model saved!\n"
          ]
        },
        {
          "output_type": "stream",
          "name": "stderr",
          "text": []
        },
        {
          "output_type": "stream",
          "name": "stdout",
          "text": [
            "Epoch 2/25 - Avg Loss: 0.0017 - Accuracy: 0.1604\n"
          ]
        },
        {
          "output_type": "stream",
          "name": "stderr",
          "text": []
        },
        {
          "output_type": "stream",
          "name": "stdout",
          "text": [
            "Epoch 3/25 - Avg Loss: 0.0017 - Accuracy: 0.1710\n",
            "✅ Model saved!\n"
          ]
        },
        {
          "output_type": "stream",
          "name": "stderr",
          "text": []
        },
        {
          "output_type": "stream",
          "name": "stdout",
          "text": [
            "Epoch 4/25 - Avg Loss: 0.0016 - Accuracy: 0.1799\n"
          ]
        },
        {
          "output_type": "stream",
          "name": "stderr",
          "text": []
        },
        {
          "output_type": "stream",
          "name": "stdout",
          "text": [
            "Epoch 5/25 - Avg Loss: 0.0016 - Accuracy: 0.1844\n"
          ]
        },
        {
          "output_type": "stream",
          "name": "stderr",
          "text": []
        },
        {
          "output_type": "stream",
          "name": "stdout",
          "text": [
            "Epoch 6/25 - Avg Loss: 0.0016 - Accuracy: 0.1898\n",
            "Early stopping at epoch 6 (No improvement for 3 epochs)\n"
          ]
        },
        {
          "output_type": "stream",
          "name": "stderr",
          "text": []
        },
        {
          "output_type": "stream",
          "name": "stdout",
          "text": [
            "Test Accuracy: 0.1814\n",
            "NCE Accuracy for Noise Rate 0.7: 0.1814\n",
            "Results so far: {'CE': [0.5866, 0.3728, 0.2152, 0.129], 'FL': [0.5971, 0.4471, 0.288, 0.1772], 'NCE': [0.5854, 0.4443, 0.2938, 0.1814], 'NFL': [0.5777, 0.4431, 0.293], 'APL_NCE_MAE': [0.6138, 0.4692, 0.3255, 0.1876], 'APL_NCE_RCE': [0.5669, 0.4396, 0.2963, 0.1824], 'APL_NFL_MAE': [0.6131, 0.4724, 0.3345, 0.185], 'APL_NFL_RCE': [0.5834, 0.426, 0.2927, 0.1854]}\n"
          ]
        },
        {
          "output_type": "stream",
          "name": "stderr",
          "text": []
        },
        {
          "output_type": "stream",
          "name": "stdout",
          "text": [
            "Epoch 1/25 - Avg Loss: 0.0018 - Accuracy: 0.1342\n",
            "✅ Model saved!\n"
          ]
        },
        {
          "output_type": "stream",
          "name": "stderr",
          "text": []
        },
        {
          "output_type": "stream",
          "name": "stdout",
          "text": [
            "Epoch 2/25 - Avg Loss: 0.0017 - Accuracy: 0.1607\n"
          ]
        },
        {
          "output_type": "stream",
          "name": "stderr",
          "text": []
        },
        {
          "output_type": "stream",
          "name": "stdout",
          "text": [
            "Epoch 3/25 - Avg Loss: 0.0016 - Accuracy: 0.1714\n",
            "✅ Model saved!\n"
          ]
        },
        {
          "output_type": "stream",
          "name": "stderr",
          "text": []
        },
        {
          "output_type": "stream",
          "name": "stdout",
          "text": [
            "Epoch 4/25 - Avg Loss: 0.0016 - Accuracy: 0.1794\n"
          ]
        },
        {
          "output_type": "stream",
          "name": "stderr",
          "text": []
        },
        {
          "output_type": "stream",
          "name": "stdout",
          "text": [
            "Epoch 5/25 - Avg Loss: 0.0016 - Accuracy: 0.1852\n"
          ]
        },
        {
          "output_type": "stream",
          "name": "stderr",
          "text": []
        },
        {
          "output_type": "stream",
          "name": "stdout",
          "text": [
            "Epoch 6/25 - Avg Loss: 0.0016 - Accuracy: 0.1905\n",
            "Early stopping at epoch 6 (No improvement for 3 epochs)\n"
          ]
        },
        {
          "output_type": "stream",
          "name": "stderr",
          "text": [
            "                                                           "
          ]
        },
        {
          "output_type": "stream",
          "name": "stdout",
          "text": [
            "Test Accuracy: 0.1761\n",
            "NFL Accuracy for Noise Rate 0.7: 0.1761\n",
            "Results so far: {'CE': [0.5866, 0.3728, 0.2152, 0.129], 'FL': [0.5971, 0.4471, 0.288, 0.1772], 'NCE': [0.5854, 0.4443, 0.2938, 0.1814], 'NFL': [0.5777, 0.4431, 0.293, 0.1761], 'APL_NCE_MAE': [0.6138, 0.4692, 0.3255, 0.1876], 'APL_NCE_RCE': [0.5669, 0.4396, 0.2963, 0.1824], 'APL_NFL_MAE': [0.6131, 0.4724, 0.3345, 0.185], 'APL_NFL_RCE': [0.5834, 0.426, 0.2927, 0.1854]}\n"
          ]
        },
        {
          "output_type": "stream",
          "name": "stderr",
          "text": [
            "\r"
          ]
        }
      ]
    },
    {
      "cell_type": "code",
      "source": [
        "!nvidia-smi\n"
      ],
      "metadata": {
        "id": "pWF6rvlSDGwe"
      },
      "execution_count": null,
      "outputs": []
    },
    {
      "cell_type": "code",
      "source": [
        "# Plot Accuracy vs Noise Rate\n",
        "plt.figure(figsize=(16, 20))\n",
        "for model, acc in results.items():\n",
        "    if len(acc) > 0:  # Only plot non-empty lists\n",
        "        plt.plot(noise_rates, acc, marker='o', label=model)\n",
        "\n",
        "plt.xlabel(\"Noise Rate\")\n",
        "plt.ylabel(\"Test Accuracy\")\n",
        "plt.title(\"Accuracy vs. Noise Rate for Different Loss Functions\")\n",
        "plt.legend()\n",
        "plt.grid()\n",
        "plt.show()"
      ],
      "metadata": {
        "id": "XYZOjRn-cIcS"
      },
      "execution_count": null,
      "outputs": []
    },
    {
      "cell_type": "code",
      "source": [
        "results"
      ],
      "metadata": {
        "colab": {
          "base_uri": "https://localhost:8080/"
        },
        "id": "rHFfkWSYXi76",
        "outputId": "3857562e-0fcf-4ba1-f9c2-dbd8491171f5"
      },
      "execution_count": null,
      "outputs": [
        {
          "output_type": "execute_result",
          "data": {
            "text/plain": [
              "{'CE': [0.5866, 0.3728, 0.2152, 0.129],\n",
              " 'FL': [0.5971, 0.4471, 0.288, 0.1772],\n",
              " 'NCE': [0.5854, 0.4443, 0.2938, 0.1814],\n",
              " 'NFL': [0.5777, 0.4431, 0.293, 0.1761],\n",
              " 'APL_NCE_MAE': [0.6138, 0.4692, 0.3255, 0.1876],\n",
              " 'APL_NCE_RCE': [0.5669, 0.4396, 0.2963, 0.1824],\n",
              " 'APL_NFL_MAE': [0.6131, 0.4724, 0.3345, 0.185],\n",
              " 'APL_NFL_RCE': [0.5834, 0.426, 0.2927, 0.1854]}"
            ]
          },
          "metadata": {},
          "execution_count": 16
        }
      ]
    },
    {
      "cell_type": "markdown",
      "source": [
        "unsymmetric noise"
      ],
      "metadata": {
        "id": "v5VckLtFqh1k"
      }
    },
    {
      "cell_type": "code",
      "source": [
        "# Results Storage\n",
        "results = {\n",
        "    \"CE\": [],\n",
        "    \"FL\": [],\n",
        "    \"NCE\": [],\n",
        "    \"NFL\": [],\n",
        "    \"APL_NCE_MAE\": [],\n",
        "    \"APL_NCE_RCE\": [],\n",
        "    \"APL_NFL_MAE\": [],\n",
        "    \"APL_NFL_RCE\": [],\n",
        "}"
      ],
      "metadata": {
        "id": "xz9k90l7mcPq"
      },
      "execution_count": null,
      "outputs": []
    },
    {
      "cell_type": "code",
      "source": [
        "import numpy as np\n",
        "\n",
        "def add_asymmetric_noise(labels, noise_rate, noise_map):\n",
        "\n",
        "    labels = np.array(labels)        # Ensure we have a NumPy array\n",
        "    noisy_labels = labels.copy()\n",
        "    num_samples = len(labels)\n",
        "\n",
        "    # How many samples to corrupt?\n",
        "    num_noisy = int(noise_rate * num_samples)\n",
        "\n",
        "    # Randomly choose which indices to corrupt\n",
        "    noisy_indices = np.random.choice(num_samples, num_noisy, replace=False)\n",
        "\n",
        "    # For each chosen index, flip the label according to the noise_map\n",
        "    for idx in noisy_indices:\n",
        "        original_label = labels[idx]\n",
        "        # Only flip if this original_label is in the noise map\n",
        "        if original_label in noise_map:\n",
        "            new_label = noise_map[original_label]\n",
        "            noisy_labels[idx] = new_label\n",
        "\n",
        "    return noisy_labels\n",
        "\n",
        "\n",
        "\n",
        "example_noise_map = {\n",
        "    9: 1,  # truck -> automobile\n",
        "    2: 0,  # bird  -> airplane\n",
        "    4: 7,  # deer  -> horse\n",
        "    3: 5,  # cat   -> dog\n",
        "    5: 3   # dog   -> cat\n",
        "}\n",
        "\n"
      ],
      "metadata": {
        "id": "dNXrxILCKGp3"
      },
      "execution_count": null,
      "outputs": []
    },
    {
      "cell_type": "code",
      "source": [
        "noise_rates =[0.1,0.2,0.3,0.4]"
      ],
      "metadata": {
        "id": "Owoc2bpHpcCw"
      },
      "execution_count": null,
      "outputs": []
    },
    {
      "cell_type": "code",
      "source": [
        "\n",
        "for noise_rate in noise_rates:\n",
        "    print(f\"\\nTraining APL models with noise rate: {noise_rate}\")\n",
        "\n",
        "    # Create noisy dataset\n",
        "    train_dataset = datasets.CIFAR10(root='./data', train=True, download=False, transform=transform)\n",
        "    test_dataset = datasets.CIFAR10(root='./data', train=False, download=False, transform=transform)\n",
        "    train_dataset.targets = add_asymmetric_noise(train_dataset.targets, noise_rate, example_noise_map)\n",
        "\n",
        "    test_dataset.targets = add_asymmetric_noise(test_dataset.targets, noise_rate, example_noise_map)\n",
        "\n",
        "    train_loader = DataLoader(train_dataset, batch_size=512, shuffle=True, num_workers=num_workers, pin_memory=True)\n",
        "    test_loader = DataLoader(test_dataset, batch_size=512, shuffle=False, num_workers=num_workers, pin_memory=True)\n",
        "\n",
        "\n",
        "\n",
        "\n",
        "    ce_model = SimpleCNN().to(device)\n",
        "    ce_criterion = CrossEntropyLoss().to(device)\n",
        "    ce_optimizer = optim.Adam(ce_model.parameters(), lr=0.001)\n",
        "    ce_acc = train_model(ce_model, train_loader, test_loader ,ce_criterion, ce_optimizer)\n",
        "    results[\"CE\"].append(ce_acc)\n",
        "    print(f\"CE Accuracy for Noise Rate {noise_rate}: {ce_acc}\")\n",
        "    print(\"Results so far:\", results)\n",
        "\n",
        "    # Train Focal Loss Model\n",
        "    fl_model = SimpleCNN().to(device)\n",
        "    fl_criterion = NormalizedFocalLoss().to(device)  # Replace with actual FocalLoss\n",
        "    fl_optimizer = optim.Adam(fl_model.parameters(), lr=0.001)\n",
        "    fl_acc = train_model(fl_model, train_loader, test_loader,fl_criterion, fl_optimizer)\n",
        "    results[\"FL\"].append(fl_acc)\n",
        "    print(f\"FL Accuracy for Noise Rate {noise_rate}: {fl_acc}\")\n",
        "    print(\"Results so far:\", results)\n",
        "\n",
        "    # Train Normalized Cross-Entropy Model\n",
        "    nce_model = SimpleCNN().to(device)\n",
        "    nce_criterion = NormalizedCrossEntropyLoss().to(device)  # Replace with actual NCE Loss\n",
        "    nce_optimizer = optim.Adam(nce_model.parameters(), lr=0.001)\n",
        "    nce_acc = train_model(nce_model, train_loader, test_loader,nce_criterion, nce_optimizer)\n",
        "    results[\"NCE\"].append(nce_acc)\n",
        "    print(f\"NCE Accuracy for Noise Rate {noise_rate}: {nce_acc}\")\n",
        "    print(\"Results so far:\", results)\n",
        "\n",
        "    # Train Normalized Focal Loss Model\n",
        "    nfl_model = SimpleCNN().to(device)\n",
        "    nfl_criterion = NormalizedFocalLoss().to(device)  # Replace with actual NFL Loss\n",
        "    nfl_optimizer = optim.Adam(nfl_model.parameters(), lr=0.001)\n",
        "    nfl_acc = train_model(nfl_model, train_loader,test_loader,nfl_criterion, nfl_optimizer)\n",
        "    results[\"NFL\"].append(nfl_acc)\n",
        "    print(f\"NFL Accuracy for Noise Rate {noise_rate}: {nfl_acc}\")\n",
        "    print(\"Results so far:\", results)\n",
        "\n",
        "# Save results\n",
        "torch.save(results, \"apl_accuracy_vs_noise.pth\")\n"
      ],
      "metadata": {
        "id": "rKSZxwwpHWOB",
        "colab": {
          "base_uri": "https://localhost:8080/"
        },
        "outputId": "27167b67-c3d7-402a-d92f-96a0b5b905e0"
      },
      "execution_count": null,
      "outputs": [
        {
          "output_type": "stream",
          "name": "stdout",
          "text": [
            "\n",
            "Training APL models with noise rate: 0.1\n"
          ]
        },
        {
          "output_type": "stream",
          "name": "stderr",
          "text": [
            "/usr/local/lib/python3.11/dist-packages/torch/optim/lr_scheduler.py:62: UserWarning: The verbose parameter is deprecated. Please use get_last_lr() to access the learning rate.\n",
            "  warnings.warn(\n"
          ]
        },
        {
          "output_type": "stream",
          "name": "stdout",
          "text": [
            "Epoch 1/25 - Avg Loss: 1.6421 - Accuracy: 0.4121\n",
            "✅ Model saved!\n"
          ]
        },
        {
          "output_type": "stream",
          "name": "stderr",
          "text": []
        },
        {
          "output_type": "stream",
          "name": "stdout",
          "text": [
            "Epoch 2/25 - Avg Loss: 1.3129 - Accuracy: 0.5352\n",
            "✅ Model saved!\n"
          ]
        },
        {
          "output_type": "stream",
          "name": "stderr",
          "text": []
        },
        {
          "output_type": "stream",
          "name": "stdout",
          "text": [
            "Epoch 3/25 - Avg Loss: 1.1839 - Accuracy: 0.5839\n",
            "✅ Model saved!\n"
          ]
        },
        {
          "output_type": "stream",
          "name": "stderr",
          "text": []
        },
        {
          "output_type": "stream",
          "name": "stdout",
          "text": [
            "Epoch 4/25 - Avg Loss: 1.0973 - Accuracy: 0.6158\n",
            "✅ Model saved!\n"
          ]
        },
        {
          "output_type": "stream",
          "name": "stderr",
          "text": []
        },
        {
          "output_type": "stream",
          "name": "stdout",
          "text": [
            "Epoch 5/25 - Avg Loss: 1.0148 - Accuracy: 0.6460\n",
            "✅ Model saved!\n"
          ]
        },
        {
          "output_type": "stream",
          "name": "stderr",
          "text": []
        },
        {
          "output_type": "stream",
          "name": "stdout",
          "text": [
            "Epoch 6/25 - Avg Loss: 0.9592 - Accuracy: 0.6667\n",
            "✅ Model saved!\n"
          ]
        },
        {
          "output_type": "stream",
          "name": "stderr",
          "text": []
        },
        {
          "output_type": "stream",
          "name": "stdout",
          "text": [
            "Epoch 7/25 - Avg Loss: 0.9052 - Accuracy: 0.6867\n",
            "✅ Model saved!\n"
          ]
        },
        {
          "output_type": "stream",
          "name": "stderr",
          "text": []
        },
        {
          "output_type": "stream",
          "name": "stdout",
          "text": [
            "Epoch 8/25 - Avg Loss: 0.8673 - Accuracy: 0.6968\n",
            "✅ Model saved!\n"
          ]
        },
        {
          "output_type": "stream",
          "name": "stderr",
          "text": []
        },
        {
          "output_type": "stream",
          "name": "stdout",
          "text": [
            "Epoch 9/25 - Avg Loss: 0.8225 - Accuracy: 0.7126\n",
            "✅ Model saved!\n"
          ]
        },
        {
          "output_type": "stream",
          "name": "stderr",
          "text": []
        },
        {
          "output_type": "stream",
          "name": "stdout",
          "text": [
            "Epoch 10/25 - Avg Loss: 0.7807 - Accuracy: 0.7285\n",
            "✅ Model saved!\n"
          ]
        },
        {
          "output_type": "stream",
          "name": "stderr",
          "text": []
        },
        {
          "output_type": "stream",
          "name": "stdout",
          "text": [
            "Epoch 11/25 - Avg Loss: 0.7469 - Accuracy: 0.7399\n",
            "✅ Model saved!\n"
          ]
        },
        {
          "output_type": "stream",
          "name": "stderr",
          "text": []
        },
        {
          "output_type": "stream",
          "name": "stdout",
          "text": [
            "Epoch 12/25 - Avg Loss: 0.7129 - Accuracy: 0.7511\n",
            "✅ Model saved!\n"
          ]
        },
        {
          "output_type": "stream",
          "name": "stderr",
          "text": []
        },
        {
          "output_type": "stream",
          "name": "stdout",
          "text": [
            "Epoch 13/25 - Avg Loss: 0.6728 - Accuracy: 0.7657\n",
            "✅ Model saved!\n"
          ]
        },
        {
          "output_type": "stream",
          "name": "stderr",
          "text": []
        },
        {
          "output_type": "stream",
          "name": "stdout",
          "text": [
            "Epoch 14/25 - Avg Loss: 0.6343 - Accuracy: 0.7803\n",
            "✅ Model saved!\n"
          ]
        },
        {
          "output_type": "stream",
          "name": "stderr",
          "text": []
        },
        {
          "output_type": "stream",
          "name": "stdout",
          "text": [
            "Epoch 15/25 - Avg Loss: 0.6035 - Accuracy: 0.7921\n",
            "✅ Model saved!\n"
          ]
        },
        {
          "output_type": "stream",
          "name": "stderr",
          "text": []
        },
        {
          "output_type": "stream",
          "name": "stdout",
          "text": [
            "Epoch 16/25 - Avg Loss: 0.5661 - Accuracy: 0.8032\n",
            "✅ Model saved!\n"
          ]
        },
        {
          "output_type": "stream",
          "name": "stderr",
          "text": []
        },
        {
          "output_type": "stream",
          "name": "stdout",
          "text": [
            "Epoch 17/25 - Avg Loss: 0.5356 - Accuracy: 0.8149\n",
            "✅ Model saved!\n"
          ]
        },
        {
          "output_type": "stream",
          "name": "stderr",
          "text": []
        },
        {
          "output_type": "stream",
          "name": "stdout",
          "text": [
            "Epoch 18/25 - Avg Loss: 0.4970 - Accuracy: 0.8269\n",
            "✅ Model saved!\n"
          ]
        },
        {
          "output_type": "stream",
          "name": "stderr",
          "text": []
        },
        {
          "output_type": "stream",
          "name": "stdout",
          "text": [
            "Epoch 19/25 - Avg Loss: 0.4579 - Accuracy: 0.8436\n",
            "✅ Model saved!\n"
          ]
        },
        {
          "output_type": "stream",
          "name": "stderr",
          "text": []
        },
        {
          "output_type": "stream",
          "name": "stdout",
          "text": [
            "Epoch 20/25 - Avg Loss: 0.4230 - Accuracy: 0.8560\n",
            "✅ Model saved!\n"
          ]
        },
        {
          "output_type": "stream",
          "name": "stderr",
          "text": []
        },
        {
          "output_type": "stream",
          "name": "stdout",
          "text": [
            "Epoch 21/25 - Avg Loss: 0.3958 - Accuracy: 0.8649\n",
            "✅ Model saved!\n"
          ]
        },
        {
          "output_type": "stream",
          "name": "stderr",
          "text": []
        },
        {
          "output_type": "stream",
          "name": "stdout",
          "text": [
            "Epoch 22/25 - Avg Loss: 0.3668 - Accuracy: 0.8760\n",
            "✅ Model saved!\n"
          ]
        },
        {
          "output_type": "stream",
          "name": "stderr",
          "text": []
        },
        {
          "output_type": "stream",
          "name": "stdout",
          "text": [
            "Epoch 23/25 - Avg Loss: 0.3321 - Accuracy: 0.8891\n",
            "✅ Model saved!\n"
          ]
        },
        {
          "output_type": "stream",
          "name": "stderr",
          "text": []
        },
        {
          "output_type": "stream",
          "name": "stdout",
          "text": [
            "Epoch 24/25 - Avg Loss: 0.3000 - Accuracy: 0.9021\n",
            "✅ Model saved!\n"
          ]
        },
        {
          "output_type": "stream",
          "name": "stderr",
          "text": []
        },
        {
          "output_type": "stream",
          "name": "stdout",
          "text": [
            "Epoch 25/25 - Avg Loss: 0.2591 - Accuracy: 0.9176\n",
            "✅ Model saved!\n"
          ]
        },
        {
          "output_type": "stream",
          "name": "stderr",
          "text": []
        },
        {
          "output_type": "stream",
          "name": "stdout",
          "text": [
            "Test Accuracy: 0.6673\n",
            "CE Accuracy for Noise Rate 0.1: 0.6673\n",
            "Results so far: {'CE': [0.6673], 'FL': [], 'NCE': [], 'NFL': [], 'APL_NCE_MAE': [], 'APL_NCE_RCE': [], 'APL_NFL_MAE': [], 'APL_NFL_RCE': []}\n"
          ]
        },
        {
          "output_type": "stream",
          "name": "stderr",
          "text": []
        },
        {
          "output_type": "stream",
          "name": "stdout",
          "text": [
            "Epoch 1/25 - Avg Loss: 0.0008 - Accuracy: 0.3801\n",
            "✅ Model saved!\n"
          ]
        },
        {
          "output_type": "stream",
          "name": "stderr",
          "text": []
        },
        {
          "output_type": "stream",
          "name": "stdout",
          "text": [
            "Epoch 2/25 - Avg Loss: 0.0005 - Accuracy: 0.5016\n",
            "✅ Model saved!\n"
          ]
        },
        {
          "output_type": "stream",
          "name": "stderr",
          "text": []
        },
        {
          "output_type": "stream",
          "name": "stdout",
          "text": [
            "Epoch 3/25 - Avg Loss: 0.0004 - Accuracy: 0.5412\n"
          ]
        },
        {
          "output_type": "stream",
          "name": "stderr",
          "text": []
        },
        {
          "output_type": "stream",
          "name": "stdout",
          "text": [
            "Epoch 4/25 - Avg Loss: 0.0004 - Accuracy: 0.5732\n",
            "✅ Model saved!\n"
          ]
        },
        {
          "output_type": "stream",
          "name": "stderr",
          "text": []
        },
        {
          "output_type": "stream",
          "name": "stdout",
          "text": [
            "Epoch 5/25 - Avg Loss: 0.0004 - Accuracy: 0.6019\n"
          ]
        },
        {
          "output_type": "stream",
          "name": "stderr",
          "text": []
        },
        {
          "output_type": "stream",
          "name": "stdout",
          "text": [
            "Epoch 6/25 - Avg Loss: 0.0003 - Accuracy: 0.6254\n"
          ]
        },
        {
          "output_type": "stream",
          "name": "stderr",
          "text": []
        },
        {
          "output_type": "stream",
          "name": "stdout",
          "text": [
            "Epoch 7/25 - Avg Loss: 0.0003 - Accuracy: 0.6442\n",
            "Early stopping at epoch 7 (No improvement for 3 epochs)\n"
          ]
        },
        {
          "output_type": "stream",
          "name": "stderr",
          "text": []
        },
        {
          "output_type": "stream",
          "name": "stdout",
          "text": [
            "Test Accuracy: 0.6135\n",
            "FL Accuracy for Noise Rate 0.1: 0.6135\n",
            "Results so far: {'CE': [0.6673], 'FL': [0.6135], 'NCE': [], 'NFL': [], 'APL_NCE_MAE': [], 'APL_NCE_RCE': [], 'APL_NFL_MAE': [], 'APL_NFL_RCE': []}\n"
          ]
        },
        {
          "output_type": "stream",
          "name": "stderr",
          "text": []
        },
        {
          "output_type": "stream",
          "name": "stdout",
          "text": [
            "Epoch 1/25 - Avg Loss: 0.0008 - Accuracy: 0.3713\n",
            "✅ Model saved!\n"
          ]
        },
        {
          "output_type": "stream",
          "name": "stderr",
          "text": []
        },
        {
          "output_type": "stream",
          "name": "stdout",
          "text": [
            "Epoch 2/25 - Avg Loss: 0.0005 - Accuracy: 0.4879\n",
            "✅ Model saved!\n"
          ]
        },
        {
          "output_type": "stream",
          "name": "stderr",
          "text": []
        },
        {
          "output_type": "stream",
          "name": "stdout",
          "text": [
            "Epoch 3/25 - Avg Loss: 0.0004 - Accuracy: 0.5439\n"
          ]
        },
        {
          "output_type": "stream",
          "name": "stderr",
          "text": []
        },
        {
          "output_type": "stream",
          "name": "stdout",
          "text": [
            "Epoch 4/25 - Avg Loss: 0.0004 - Accuracy: 0.5764\n",
            "✅ Model saved!\n"
          ]
        },
        {
          "output_type": "stream",
          "name": "stderr",
          "text": []
        },
        {
          "output_type": "stream",
          "name": "stdout",
          "text": [
            "Epoch 5/25 - Avg Loss: 0.0004 - Accuracy: 0.5954\n"
          ]
        },
        {
          "output_type": "stream",
          "name": "stderr",
          "text": []
        },
        {
          "output_type": "stream",
          "name": "stdout",
          "text": [
            "Epoch 6/25 - Avg Loss: 0.0003 - Accuracy: 0.6179\n"
          ]
        },
        {
          "output_type": "stream",
          "name": "stderr",
          "text": []
        },
        {
          "output_type": "stream",
          "name": "stdout",
          "text": [
            "Epoch 7/25 - Avg Loss: 0.0003 - Accuracy: 0.6354\n",
            "Early stopping at epoch 7 (No improvement for 3 epochs)\n"
          ]
        },
        {
          "output_type": "stream",
          "name": "stderr",
          "text": []
        },
        {
          "output_type": "stream",
          "name": "stdout",
          "text": [
            "Test Accuracy: 0.6290\n",
            "NCE Accuracy for Noise Rate 0.1: 0.629\n",
            "Results so far: {'CE': [0.6673], 'FL': [0.6135], 'NCE': [0.629], 'NFL': [], 'APL_NCE_MAE': [], 'APL_NCE_RCE': [], 'APL_NFL_MAE': [], 'APL_NFL_RCE': []}\n"
          ]
        },
        {
          "output_type": "stream",
          "name": "stderr",
          "text": []
        },
        {
          "output_type": "stream",
          "name": "stdout",
          "text": [
            "Epoch 1/25 - Avg Loss: 0.0008 - Accuracy: 0.3701\n",
            "✅ Model saved!\n"
          ]
        },
        {
          "output_type": "stream",
          "name": "stderr",
          "text": []
        },
        {
          "output_type": "stream",
          "name": "stdout",
          "text": [
            "Epoch 2/25 - Avg Loss: 0.0005 - Accuracy: 0.4848\n",
            "✅ Model saved!\n"
          ]
        },
        {
          "output_type": "stream",
          "name": "stderr",
          "text": []
        },
        {
          "output_type": "stream",
          "name": "stdout",
          "text": [
            "Epoch 3/25 - Avg Loss: 0.0004 - Accuracy: 0.5392\n"
          ]
        },
        {
          "output_type": "stream",
          "name": "stderr",
          "text": []
        },
        {
          "output_type": "stream",
          "name": "stdout",
          "text": [
            "Epoch 4/25 - Avg Loss: 0.0004 - Accuracy: 0.5712\n",
            "✅ Model saved!\n"
          ]
        },
        {
          "output_type": "stream",
          "name": "stderr",
          "text": []
        },
        {
          "output_type": "stream",
          "name": "stdout",
          "text": [
            "Epoch 5/25 - Avg Loss: 0.0004 - Accuracy: 0.5943\n"
          ]
        },
        {
          "output_type": "stream",
          "name": "stderr",
          "text": []
        },
        {
          "output_type": "stream",
          "name": "stdout",
          "text": [
            "Epoch 6/25 - Avg Loss: 0.0003 - Accuracy: 0.6156\n"
          ]
        },
        {
          "output_type": "stream",
          "name": "stderr",
          "text": []
        },
        {
          "output_type": "stream",
          "name": "stdout",
          "text": [
            "Epoch 7/25 - Avg Loss: 0.0003 - Accuracy: 0.6353\n",
            "Early stopping at epoch 7 (No improvement for 3 epochs)\n"
          ]
        },
        {
          "output_type": "stream",
          "name": "stderr",
          "text": []
        },
        {
          "output_type": "stream",
          "name": "stdout",
          "text": [
            "Test Accuracy: 0.6183\n",
            "NFL Accuracy for Noise Rate 0.1: 0.6183\n",
            "Results so far: {'CE': [0.6673], 'FL': [0.6135], 'NCE': [0.629], 'NFL': [0.6183], 'APL_NCE_MAE': [], 'APL_NCE_RCE': [], 'APL_NFL_MAE': [], 'APL_NFL_RCE': []}\n",
            "\n",
            "Training APL models with noise rate: 0.2\n"
          ]
        },
        {
          "output_type": "stream",
          "name": "stderr",
          "text": []
        },
        {
          "output_type": "stream",
          "name": "stdout",
          "text": [
            "Epoch 1/25 - Avg Loss: 1.6669 - Accuracy: 0.3999\n",
            "✅ Model saved!\n"
          ]
        },
        {
          "output_type": "stream",
          "name": "stderr",
          "text": []
        },
        {
          "output_type": "stream",
          "name": "stdout",
          "text": [
            "Epoch 2/25 - Avg Loss: 1.3386 - Accuracy: 0.5219\n",
            "✅ Model saved!\n"
          ]
        },
        {
          "output_type": "stream",
          "name": "stderr",
          "text": []
        },
        {
          "output_type": "stream",
          "name": "stdout",
          "text": [
            "Epoch 3/25 - Avg Loss: 1.2125 - Accuracy: 0.5675\n",
            "✅ Model saved!\n"
          ]
        },
        {
          "output_type": "stream",
          "name": "stderr",
          "text": []
        },
        {
          "output_type": "stream",
          "name": "stdout",
          "text": [
            "Epoch 4/25 - Avg Loss: 1.1203 - Accuracy: 0.6000\n",
            "✅ Model saved!\n"
          ]
        },
        {
          "output_type": "stream",
          "name": "stderr",
          "text": []
        },
        {
          "output_type": "stream",
          "name": "stdout",
          "text": [
            "Epoch 5/25 - Avg Loss: 1.0465 - Accuracy: 0.6274\n",
            "✅ Model saved!\n"
          ]
        },
        {
          "output_type": "stream",
          "name": "stderr",
          "text": []
        },
        {
          "output_type": "stream",
          "name": "stdout",
          "text": [
            "Epoch 6/25 - Avg Loss: 0.9872 - Accuracy: 0.6473\n",
            "✅ Model saved!\n"
          ]
        },
        {
          "output_type": "stream",
          "name": "stderr",
          "text": []
        },
        {
          "output_type": "stream",
          "name": "stdout",
          "text": [
            "Epoch 7/25 - Avg Loss: 0.9432 - Accuracy: 0.6629\n",
            "✅ Model saved!\n"
          ]
        },
        {
          "output_type": "stream",
          "name": "stderr",
          "text": []
        },
        {
          "output_type": "stream",
          "name": "stdout",
          "text": [
            "Epoch 8/25 - Avg Loss: 0.8970 - Accuracy: 0.6785\n",
            "✅ Model saved!\n"
          ]
        },
        {
          "output_type": "stream",
          "name": "stderr",
          "text": []
        },
        {
          "output_type": "stream",
          "name": "stdout",
          "text": [
            "Epoch 9/25 - Avg Loss: 0.8635 - Accuracy: 0.6902\n",
            "✅ Model saved!\n"
          ]
        },
        {
          "output_type": "stream",
          "name": "stderr",
          "text": []
        },
        {
          "output_type": "stream",
          "name": "stdout",
          "text": [
            "Epoch 10/25 - Avg Loss: 0.8262 - Accuracy: 0.7035\n",
            "✅ Model saved!\n"
          ]
        },
        {
          "output_type": "stream",
          "name": "stderr",
          "text": []
        },
        {
          "output_type": "stream",
          "name": "stdout",
          "text": [
            "Epoch 11/25 - Avg Loss: 0.7898 - Accuracy: 0.7171\n",
            "✅ Model saved!\n"
          ]
        },
        {
          "output_type": "stream",
          "name": "stderr",
          "text": []
        },
        {
          "output_type": "stream",
          "name": "stdout",
          "text": [
            "Epoch 12/25 - Avg Loss: 0.7538 - Accuracy: 0.7305\n",
            "✅ Model saved!\n"
          ]
        },
        {
          "output_type": "stream",
          "name": "stderr",
          "text": []
        },
        {
          "output_type": "stream",
          "name": "stdout",
          "text": [
            "Epoch 13/25 - Avg Loss: 0.7258 - Accuracy: 0.7391\n",
            "✅ Model saved!\n"
          ]
        },
        {
          "output_type": "stream",
          "name": "stderr",
          "text": []
        },
        {
          "output_type": "stream",
          "name": "stdout",
          "text": [
            "Epoch 14/25 - Avg Loss: 0.6838 - Accuracy: 0.7545\n",
            "✅ Model saved!\n"
          ]
        },
        {
          "output_type": "stream",
          "name": "stderr",
          "text": []
        },
        {
          "output_type": "stream",
          "name": "stdout",
          "text": [
            "Epoch 15/25 - Avg Loss: 0.6453 - Accuracy: 0.7696\n",
            "✅ Model saved!\n"
          ]
        },
        {
          "output_type": "stream",
          "name": "stderr",
          "text": []
        },
        {
          "output_type": "stream",
          "name": "stdout",
          "text": [
            "Epoch 16/25 - Avg Loss: 0.6162 - Accuracy: 0.7794\n",
            "✅ Model saved!\n"
          ]
        },
        {
          "output_type": "stream",
          "name": "stderr",
          "text": []
        },
        {
          "output_type": "stream",
          "name": "stdout",
          "text": [
            "Epoch 17/25 - Avg Loss: 0.5816 - Accuracy: 0.7921\n",
            "✅ Model saved!\n"
          ]
        },
        {
          "output_type": "stream",
          "name": "stderr",
          "text": []
        },
        {
          "output_type": "stream",
          "name": "stdout",
          "text": [
            "Epoch 18/25 - Avg Loss: 0.5499 - Accuracy: 0.8028\n",
            "✅ Model saved!\n"
          ]
        },
        {
          "output_type": "stream",
          "name": "stderr",
          "text": []
        },
        {
          "output_type": "stream",
          "name": "stdout",
          "text": [
            "Epoch 19/25 - Avg Loss: 0.5109 - Accuracy: 0.8192\n",
            "✅ Model saved!\n"
          ]
        },
        {
          "output_type": "stream",
          "name": "stderr",
          "text": []
        },
        {
          "output_type": "stream",
          "name": "stdout",
          "text": [
            "Epoch 20/25 - Avg Loss: 0.4742 - Accuracy: 0.8330\n",
            "✅ Model saved!\n"
          ]
        },
        {
          "output_type": "stream",
          "name": "stderr",
          "text": []
        },
        {
          "output_type": "stream",
          "name": "stdout",
          "text": [
            "Epoch 21/25 - Avg Loss: 0.4442 - Accuracy: 0.8444\n",
            "✅ Model saved!\n"
          ]
        },
        {
          "output_type": "stream",
          "name": "stderr",
          "text": []
        },
        {
          "output_type": "stream",
          "name": "stdout",
          "text": [
            "Epoch 22/25 - Avg Loss: 0.4113 - Accuracy: 0.8555\n",
            "✅ Model saved!\n"
          ]
        },
        {
          "output_type": "stream",
          "name": "stderr",
          "text": []
        },
        {
          "output_type": "stream",
          "name": "stdout",
          "text": [
            "Epoch 23/25 - Avg Loss: 0.3759 - Accuracy: 0.8694\n",
            "✅ Model saved!\n"
          ]
        },
        {
          "output_type": "stream",
          "name": "stderr",
          "text": []
        },
        {
          "output_type": "stream",
          "name": "stdout",
          "text": [
            "Epoch 24/25 - Avg Loss: 0.3435 - Accuracy: 0.8832\n",
            "✅ Model saved!\n"
          ]
        },
        {
          "output_type": "stream",
          "name": "stderr",
          "text": []
        },
        {
          "output_type": "stream",
          "name": "stdout",
          "text": [
            "Epoch 25/25 - Avg Loss: 0.3096 - Accuracy: 0.8942\n",
            "✅ Model saved!\n"
          ]
        },
        {
          "output_type": "stream",
          "name": "stderr",
          "text": []
        },
        {
          "output_type": "stream",
          "name": "stdout",
          "text": [
            "Test Accuracy: 0.6294\n",
            "CE Accuracy for Noise Rate 0.2: 0.6294\n",
            "Results so far: {'CE': [0.6673, 0.6294], 'FL': [0.6135], 'NCE': [0.629], 'NFL': [0.6183], 'APL_NCE_MAE': [], 'APL_NCE_RCE': [], 'APL_NFL_MAE': [], 'APL_NFL_RCE': []}\n"
          ]
        },
        {
          "output_type": "stream",
          "name": "stderr",
          "text": []
        },
        {
          "output_type": "stream",
          "name": "stdout",
          "text": [
            "Epoch 1/25 - Avg Loss: 0.0008 - Accuracy: 0.3587\n",
            "✅ Model saved!\n"
          ]
        },
        {
          "output_type": "stream",
          "name": "stderr",
          "text": []
        },
        {
          "output_type": "stream",
          "name": "stdout",
          "text": [
            "Epoch 2/25 - Avg Loss: 0.0005 - Accuracy: 0.4767\n",
            "✅ Model saved!\n"
          ]
        },
        {
          "output_type": "stream",
          "name": "stderr",
          "text": []
        },
        {
          "output_type": "stream",
          "name": "stdout",
          "text": [
            "Epoch 3/25 - Avg Loss: 0.0005 - Accuracy: 0.5255\n"
          ]
        },
        {
          "output_type": "stream",
          "name": "stderr",
          "text": []
        },
        {
          "output_type": "stream",
          "name": "stdout",
          "text": [
            "Epoch 4/25 - Avg Loss: 0.0004 - Accuracy: 0.5533\n",
            "✅ Model saved!\n"
          ]
        },
        {
          "output_type": "stream",
          "name": "stderr",
          "text": []
        },
        {
          "output_type": "stream",
          "name": "stdout",
          "text": [
            "Epoch 5/25 - Avg Loss: 0.0004 - Accuracy: 0.5802\n"
          ]
        },
        {
          "output_type": "stream",
          "name": "stderr",
          "text": []
        },
        {
          "output_type": "stream",
          "name": "stdout",
          "text": [
            "Epoch 6/25 - Avg Loss: 0.0003 - Accuracy: 0.5982\n"
          ]
        },
        {
          "output_type": "stream",
          "name": "stderr",
          "text": []
        },
        {
          "output_type": "stream",
          "name": "stdout",
          "text": [
            "Epoch 7/25 - Avg Loss: 0.0003 - Accuracy: 0.6208\n",
            "Early stopping at epoch 7 (No improvement for 3 epochs)\n"
          ]
        },
        {
          "output_type": "stream",
          "name": "stderr",
          "text": []
        },
        {
          "output_type": "stream",
          "name": "stdout",
          "text": [
            "Test Accuracy: 0.6083\n",
            "FL Accuracy for Noise Rate 0.2: 0.6083\n",
            "Results so far: {'CE': [0.6673, 0.6294], 'FL': [0.6135, 0.6083], 'NCE': [0.629], 'NFL': [0.6183], 'APL_NCE_MAE': [], 'APL_NCE_RCE': [], 'APL_NFL_MAE': [], 'APL_NFL_RCE': []}\n"
          ]
        },
        {
          "output_type": "stream",
          "name": "stderr",
          "text": []
        },
        {
          "output_type": "stream",
          "name": "stdout",
          "text": [
            "Epoch 1/25 - Avg Loss: 0.0009 - Accuracy: 0.3517\n",
            "✅ Model saved!\n"
          ]
        },
        {
          "output_type": "stream",
          "name": "stderr",
          "text": []
        },
        {
          "output_type": "stream",
          "name": "stdout",
          "text": [
            "Epoch 2/25 - Avg Loss: 0.0005 - Accuracy: 0.4807\n",
            "✅ Model saved!\n"
          ]
        },
        {
          "output_type": "stream",
          "name": "stderr",
          "text": []
        },
        {
          "output_type": "stream",
          "name": "stdout",
          "text": [
            "Epoch 3/25 - Avg Loss: 0.0004 - Accuracy: 0.5251\n"
          ]
        },
        {
          "output_type": "stream",
          "name": "stderr",
          "text": []
        },
        {
          "output_type": "stream",
          "name": "stdout",
          "text": [
            "Epoch 4/25 - Avg Loss: 0.0004 - Accuracy: 0.5571\n",
            "✅ Model saved!\n"
          ]
        },
        {
          "output_type": "stream",
          "name": "stderr",
          "text": []
        },
        {
          "output_type": "stream",
          "name": "stdout",
          "text": [
            "Epoch 5/25 - Avg Loss: 0.0004 - Accuracy: 0.5802\n"
          ]
        },
        {
          "output_type": "stream",
          "name": "stderr",
          "text": []
        },
        {
          "output_type": "stream",
          "name": "stdout",
          "text": [
            "Epoch 6/25 - Avg Loss: 0.0003 - Accuracy: 0.6003\n"
          ]
        },
        {
          "output_type": "stream",
          "name": "stderr",
          "text": []
        },
        {
          "output_type": "stream",
          "name": "stdout",
          "text": [
            "Epoch 7/25 - Avg Loss: 0.0003 - Accuracy: 0.6201\n",
            "Early stopping at epoch 7 (No improvement for 3 epochs)\n"
          ]
        },
        {
          "output_type": "stream",
          "name": "stderr",
          "text": []
        },
        {
          "output_type": "stream",
          "name": "stdout",
          "text": [
            "Test Accuracy: 0.6028\n",
            "NCE Accuracy for Noise Rate 0.2: 0.6028\n",
            "Results so far: {'CE': [0.6673, 0.6294], 'FL': [0.6135, 0.6083], 'NCE': [0.629, 0.6028], 'NFL': [0.6183], 'APL_NCE_MAE': [], 'APL_NCE_RCE': [], 'APL_NFL_MAE': [], 'APL_NFL_RCE': []}\n"
          ]
        },
        {
          "output_type": "stream",
          "name": "stderr",
          "text": []
        },
        {
          "output_type": "stream",
          "name": "stdout",
          "text": [
            "Epoch 1/25 - Avg Loss: 0.0008 - Accuracy: 0.3619\n",
            "✅ Model saved!\n"
          ]
        },
        {
          "output_type": "stream",
          "name": "stderr",
          "text": []
        },
        {
          "output_type": "stream",
          "name": "stdout",
          "text": [
            "Epoch 2/25 - Avg Loss: 0.0005 - Accuracy: 0.4830\n",
            "✅ Model saved!\n"
          ]
        },
        {
          "output_type": "stream",
          "name": "stderr",
          "text": []
        },
        {
          "output_type": "stream",
          "name": "stdout",
          "text": [
            "Epoch 3/25 - Avg Loss: 0.0004 - Accuracy: 0.5298\n"
          ]
        },
        {
          "output_type": "stream",
          "name": "stderr",
          "text": []
        },
        {
          "output_type": "stream",
          "name": "stdout",
          "text": [
            "Epoch 4/25 - Avg Loss: 0.0004 - Accuracy: 0.5589\n",
            "✅ Model saved!\n"
          ]
        },
        {
          "output_type": "stream",
          "name": "stderr",
          "text": []
        },
        {
          "output_type": "stream",
          "name": "stdout",
          "text": [
            "Epoch 5/25 - Avg Loss: 0.0004 - Accuracy: 0.5865\n"
          ]
        },
        {
          "output_type": "stream",
          "name": "stderr",
          "text": []
        },
        {
          "output_type": "stream",
          "name": "stdout",
          "text": [
            "Epoch 6/25 - Avg Loss: 0.0003 - Accuracy: 0.6070\n"
          ]
        },
        {
          "output_type": "stream",
          "name": "stderr",
          "text": []
        },
        {
          "output_type": "stream",
          "name": "stdout",
          "text": [
            "Epoch 7/25 - Avg Loss: 0.0003 - Accuracy: 0.6246\n",
            "Early stopping at epoch 7 (No improvement for 3 epochs)\n"
          ]
        },
        {
          "output_type": "stream",
          "name": "stderr",
          "text": []
        },
        {
          "output_type": "stream",
          "name": "stdout",
          "text": [
            "Test Accuracy: 0.6108\n",
            "NFL Accuracy for Noise Rate 0.2: 0.6108\n",
            "Results so far: {'CE': [0.6673, 0.6294], 'FL': [0.6135, 0.6083], 'NCE': [0.629, 0.6028], 'NFL': [0.6183, 0.6108], 'APL_NCE_MAE': [], 'APL_NCE_RCE': [], 'APL_NFL_MAE': [], 'APL_NFL_RCE': []}\n",
            "\n",
            "Training APL models with noise rate: 0.3\n"
          ]
        },
        {
          "output_type": "stream",
          "name": "stderr",
          "text": []
        },
        {
          "output_type": "stream",
          "name": "stdout",
          "text": [
            "Epoch 1/25 - Avg Loss: 1.6862 - Accuracy: 0.3910\n",
            "✅ Model saved!\n"
          ]
        },
        {
          "output_type": "stream",
          "name": "stderr",
          "text": []
        },
        {
          "output_type": "stream",
          "name": "stdout",
          "text": [
            "Epoch 2/25 - Avg Loss: 1.3639 - Accuracy: 0.5040\n",
            "✅ Model saved!\n"
          ]
        },
        {
          "output_type": "stream",
          "name": "stderr",
          "text": []
        },
        {
          "output_type": "stream",
          "name": "stdout",
          "text": [
            "Epoch 3/25 - Avg Loss: 1.2450 - Accuracy: 0.5458\n",
            "✅ Model saved!\n"
          ]
        },
        {
          "output_type": "stream",
          "name": "stderr",
          "text": []
        },
        {
          "output_type": "stream",
          "name": "stdout",
          "text": [
            "Epoch 4/25 - Avg Loss: 1.1615 - Accuracy: 0.5760\n",
            "✅ Model saved!\n"
          ]
        },
        {
          "output_type": "stream",
          "name": "stderr",
          "text": []
        },
        {
          "output_type": "stream",
          "name": "stdout",
          "text": [
            "Epoch 5/25 - Avg Loss: 1.0997 - Accuracy: 0.5969\n",
            "✅ Model saved!\n"
          ]
        },
        {
          "output_type": "stream",
          "name": "stderr",
          "text": []
        },
        {
          "output_type": "stream",
          "name": "stdout",
          "text": [
            "Epoch 6/25 - Avg Loss: 1.0401 - Accuracy: 0.6169\n",
            "✅ Model saved!\n"
          ]
        },
        {
          "output_type": "stream",
          "name": "stderr",
          "text": []
        },
        {
          "output_type": "stream",
          "name": "stdout",
          "text": [
            "Epoch 7/25 - Avg Loss: 1.0009 - Accuracy: 0.6288\n",
            "✅ Model saved!\n"
          ]
        },
        {
          "output_type": "stream",
          "name": "stderr",
          "text": []
        },
        {
          "output_type": "stream",
          "name": "stdout",
          "text": [
            "Epoch 8/25 - Avg Loss: 0.9493 - Accuracy: 0.6479\n",
            "✅ Model saved!\n"
          ]
        },
        {
          "output_type": "stream",
          "name": "stderr",
          "text": []
        },
        {
          "output_type": "stream",
          "name": "stdout",
          "text": [
            "Epoch 9/25 - Avg Loss: 0.9078 - Accuracy: 0.6612\n",
            "✅ Model saved!\n"
          ]
        },
        {
          "output_type": "stream",
          "name": "stderr",
          "text": []
        },
        {
          "output_type": "stream",
          "name": "stdout",
          "text": [
            "Epoch 10/25 - Avg Loss: 0.8680 - Accuracy: 0.6770\n",
            "✅ Model saved!\n"
          ]
        },
        {
          "output_type": "stream",
          "name": "stderr",
          "text": []
        },
        {
          "output_type": "stream",
          "name": "stdout",
          "text": [
            "Epoch 11/25 - Avg Loss: 0.8291 - Accuracy: 0.6889\n",
            "✅ Model saved!\n"
          ]
        },
        {
          "output_type": "stream",
          "name": "stderr",
          "text": []
        },
        {
          "output_type": "stream",
          "name": "stdout",
          "text": [
            "Epoch 12/25 - Avg Loss: 0.7960 - Accuracy: 0.7035\n",
            "✅ Model saved!\n"
          ]
        },
        {
          "output_type": "stream",
          "name": "stderr",
          "text": []
        },
        {
          "output_type": "stream",
          "name": "stdout",
          "text": [
            "Epoch 13/25 - Avg Loss: 0.7587 - Accuracy: 0.7163\n",
            "✅ Model saved!\n"
          ]
        },
        {
          "output_type": "stream",
          "name": "stderr",
          "text": []
        },
        {
          "output_type": "stream",
          "name": "stdout",
          "text": [
            "Epoch 14/25 - Avg Loss: 0.7235 - Accuracy: 0.7294\n",
            "✅ Model saved!\n"
          ]
        },
        {
          "output_type": "stream",
          "name": "stderr",
          "text": []
        },
        {
          "output_type": "stream",
          "name": "stdout",
          "text": [
            "Epoch 15/25 - Avg Loss: 0.6753 - Accuracy: 0.7475\n",
            "✅ Model saved!\n"
          ]
        },
        {
          "output_type": "stream",
          "name": "stderr",
          "text": []
        },
        {
          "output_type": "stream",
          "name": "stdout",
          "text": [
            "Epoch 16/25 - Avg Loss: 0.6384 - Accuracy: 0.7629\n",
            "✅ Model saved!\n"
          ]
        },
        {
          "output_type": "stream",
          "name": "stderr",
          "text": []
        },
        {
          "output_type": "stream",
          "name": "stdout",
          "text": [
            "Epoch 17/25 - Avg Loss: 0.6077 - Accuracy: 0.7734\n",
            "✅ Model saved!\n"
          ]
        },
        {
          "output_type": "stream",
          "name": "stderr",
          "text": []
        },
        {
          "output_type": "stream",
          "name": "stdout",
          "text": [
            "Epoch 18/25 - Avg Loss: 0.5678 - Accuracy: 0.7906\n",
            "✅ Model saved!\n"
          ]
        },
        {
          "output_type": "stream",
          "name": "stderr",
          "text": []
        },
        {
          "output_type": "stream",
          "name": "stdout",
          "text": [
            "Epoch 19/25 - Avg Loss: 0.5303 - Accuracy: 0.8055\n",
            "✅ Model saved!\n"
          ]
        },
        {
          "output_type": "stream",
          "name": "stderr",
          "text": []
        },
        {
          "output_type": "stream",
          "name": "stdout",
          "text": [
            "Epoch 20/25 - Avg Loss: 0.4897 - Accuracy: 0.8216\n",
            "✅ Model saved!\n"
          ]
        },
        {
          "output_type": "stream",
          "name": "stderr",
          "text": []
        },
        {
          "output_type": "stream",
          "name": "stdout",
          "text": [
            "Epoch 21/25 - Avg Loss: 0.4526 - Accuracy: 0.8367\n",
            "✅ Model saved!\n"
          ]
        },
        {
          "output_type": "stream",
          "name": "stderr",
          "text": []
        },
        {
          "output_type": "stream",
          "name": "stdout",
          "text": [
            "Epoch 22/25 - Avg Loss: 0.4155 - Accuracy: 0.8512\n",
            "✅ Model saved!\n"
          ]
        },
        {
          "output_type": "stream",
          "name": "stderr",
          "text": []
        },
        {
          "output_type": "stream",
          "name": "stdout",
          "text": [
            "Epoch 23/25 - Avg Loss: 0.3780 - Accuracy: 0.8669\n",
            "✅ Model saved!\n"
          ]
        },
        {
          "output_type": "stream",
          "name": "stderr",
          "text": []
        },
        {
          "output_type": "stream",
          "name": "stdout",
          "text": [
            "Epoch 24/25 - Avg Loss: 0.3429 - Accuracy: 0.8812\n",
            "✅ Model saved!\n"
          ]
        },
        {
          "output_type": "stream",
          "name": "stderr",
          "text": []
        },
        {
          "output_type": "stream",
          "name": "stdout",
          "text": [
            "Epoch 25/25 - Avg Loss: 0.3154 - Accuracy: 0.8925\n",
            "✅ Model saved!\n"
          ]
        },
        {
          "output_type": "stream",
          "name": "stderr",
          "text": []
        },
        {
          "output_type": "stream",
          "name": "stdout",
          "text": [
            "Test Accuracy: 0.5938\n",
            "CE Accuracy for Noise Rate 0.3: 0.5938\n",
            "Results so far: {'CE': [0.6673, 0.6294, 0.5938], 'FL': [0.6135, 0.6083], 'NCE': [0.629, 0.6028], 'NFL': [0.6183, 0.6108], 'APL_NCE_MAE': [], 'APL_NCE_RCE': [], 'APL_NFL_MAE': [], 'APL_NFL_RCE': []}\n"
          ]
        },
        {
          "output_type": "stream",
          "name": "stderr",
          "text": []
        },
        {
          "output_type": "stream",
          "name": "stdout",
          "text": [
            "Epoch 1/25 - Avg Loss: 0.0008 - Accuracy: 0.3571\n",
            "✅ Model saved!\n"
          ]
        },
        {
          "output_type": "stream",
          "name": "stderr",
          "text": []
        },
        {
          "output_type": "stream",
          "name": "stdout",
          "text": [
            "Epoch 2/25 - Avg Loss: 0.0005 - Accuracy: 0.4690\n",
            "✅ Model saved!\n"
          ]
        },
        {
          "output_type": "stream",
          "name": "stderr",
          "text": []
        },
        {
          "output_type": "stream",
          "name": "stdout",
          "text": [
            "Epoch 3/25 - Avg Loss: 0.0005 - Accuracy: 0.5115\n"
          ]
        },
        {
          "output_type": "stream",
          "name": "stderr",
          "text": []
        },
        {
          "output_type": "stream",
          "name": "stdout",
          "text": [
            "Epoch 4/25 - Avg Loss: 0.0004 - Accuracy: 0.5389\n",
            "✅ Model saved!\n"
          ]
        },
        {
          "output_type": "stream",
          "name": "stderr",
          "text": []
        },
        {
          "output_type": "stream",
          "name": "stdout",
          "text": [
            "Epoch 5/25 - Avg Loss: 0.0004 - Accuracy: 0.5633\n"
          ]
        },
        {
          "output_type": "stream",
          "name": "stderr",
          "text": []
        },
        {
          "output_type": "stream",
          "name": "stdout",
          "text": [
            "Epoch 6/25 - Avg Loss: 0.0004 - Accuracy: 0.5787\n"
          ]
        },
        {
          "output_type": "stream",
          "name": "stderr",
          "text": []
        },
        {
          "output_type": "stream",
          "name": "stdout",
          "text": [
            "Epoch 7/25 - Avg Loss: 0.0003 - Accuracy: 0.5956\n",
            "Early stopping at epoch 7 (No improvement for 3 epochs)\n"
          ]
        },
        {
          "output_type": "stream",
          "name": "stderr",
          "text": []
        },
        {
          "output_type": "stream",
          "name": "stdout",
          "text": [
            "Test Accuracy: 0.5822\n",
            "FL Accuracy for Noise Rate 0.3: 0.5822\n",
            "Results so far: {'CE': [0.6673, 0.6294, 0.5938], 'FL': [0.6135, 0.6083, 0.5822], 'NCE': [0.629, 0.6028], 'NFL': [0.6183, 0.6108], 'APL_NCE_MAE': [], 'APL_NCE_RCE': [], 'APL_NFL_MAE': [], 'APL_NFL_RCE': []}\n"
          ]
        },
        {
          "output_type": "stream",
          "name": "stderr",
          "text": []
        },
        {
          "output_type": "stream",
          "name": "stdout",
          "text": [
            "Epoch 1/25 - Avg Loss: 0.0008 - Accuracy: 0.3566\n",
            "✅ Model saved!\n"
          ]
        },
        {
          "output_type": "stream",
          "name": "stderr",
          "text": []
        },
        {
          "output_type": "stream",
          "name": "stdout",
          "text": [
            "Epoch 2/25 - Avg Loss: 0.0005 - Accuracy: 0.4650\n",
            "✅ Model saved!\n"
          ]
        },
        {
          "output_type": "stream",
          "name": "stderr",
          "text": []
        },
        {
          "output_type": "stream",
          "name": "stdout",
          "text": [
            "Epoch 3/25 - Avg Loss: 0.0005 - Accuracy: 0.5091\n"
          ]
        },
        {
          "output_type": "stream",
          "name": "stderr",
          "text": []
        },
        {
          "output_type": "stream",
          "name": "stdout",
          "text": [
            "Epoch 4/25 - Avg Loss: 0.0004 - Accuracy: 0.5388\n",
            "✅ Model saved!\n"
          ]
        },
        {
          "output_type": "stream",
          "name": "stderr",
          "text": []
        },
        {
          "output_type": "stream",
          "name": "stdout",
          "text": [
            "Epoch 5/25 - Avg Loss: 0.0004 - Accuracy: 0.5618\n"
          ]
        },
        {
          "output_type": "stream",
          "name": "stderr",
          "text": []
        },
        {
          "output_type": "stream",
          "name": "stdout",
          "text": [
            "Epoch 6/25 - Avg Loss: 0.0004 - Accuracy: 0.5771\n"
          ]
        },
        {
          "output_type": "stream",
          "name": "stderr",
          "text": []
        },
        {
          "output_type": "stream",
          "name": "stdout",
          "text": [
            "Epoch 7/25 - Avg Loss: 0.0003 - Accuracy: 0.5898\n",
            "Early stopping at epoch 7 (No improvement for 3 epochs)\n"
          ]
        },
        {
          "output_type": "stream",
          "name": "stderr",
          "text": []
        },
        {
          "output_type": "stream",
          "name": "stdout",
          "text": [
            "Test Accuracy: 0.5737\n",
            "NCE Accuracy for Noise Rate 0.3: 0.5737\n",
            "Results so far: {'CE': [0.6673, 0.6294, 0.5938], 'FL': [0.6135, 0.6083, 0.5822], 'NCE': [0.629, 0.6028, 0.5737], 'NFL': [0.6183, 0.6108], 'APL_NCE_MAE': [], 'APL_NCE_RCE': [], 'APL_NFL_MAE': [], 'APL_NFL_RCE': []}\n"
          ]
        },
        {
          "output_type": "stream",
          "name": "stderr",
          "text": []
        },
        {
          "output_type": "stream",
          "name": "stdout",
          "text": [
            "Epoch 1/25 - Avg Loss: 0.0008 - Accuracy: 0.3561\n",
            "✅ Model saved!\n"
          ]
        },
        {
          "output_type": "stream",
          "name": "stderr",
          "text": []
        },
        {
          "output_type": "stream",
          "name": "stdout",
          "text": [
            "Epoch 2/25 - Avg Loss: 0.0005 - Accuracy: 0.4652\n",
            "✅ Model saved!\n"
          ]
        },
        {
          "output_type": "stream",
          "name": "stderr",
          "text": []
        },
        {
          "output_type": "stream",
          "name": "stdout",
          "text": [
            "Epoch 3/25 - Avg Loss: 0.0005 - Accuracy: 0.5048\n"
          ]
        },
        {
          "output_type": "stream",
          "name": "stderr",
          "text": []
        },
        {
          "output_type": "stream",
          "name": "stdout",
          "text": [
            "Epoch 4/25 - Avg Loss: 0.0004 - Accuracy: 0.5375\n",
            "✅ Model saved!\n"
          ]
        },
        {
          "output_type": "stream",
          "name": "stderr",
          "text": []
        },
        {
          "output_type": "stream",
          "name": "stdout",
          "text": [
            "Epoch 5/25 - Avg Loss: 0.0004 - Accuracy: 0.5605\n"
          ]
        },
        {
          "output_type": "stream",
          "name": "stderr",
          "text": []
        },
        {
          "output_type": "stream",
          "name": "stdout",
          "text": [
            "Epoch 6/25 - Avg Loss: 0.0004 - Accuracy: 0.5781\n"
          ]
        },
        {
          "output_type": "stream",
          "name": "stderr",
          "text": []
        },
        {
          "output_type": "stream",
          "name": "stdout",
          "text": [
            "Epoch 7/25 - Avg Loss: 0.0003 - Accuracy: 0.5960\n",
            "Early stopping at epoch 7 (No improvement for 3 epochs)\n"
          ]
        },
        {
          "output_type": "stream",
          "name": "stderr",
          "text": []
        },
        {
          "output_type": "stream",
          "name": "stdout",
          "text": [
            "Test Accuracy: 0.5781\n",
            "NFL Accuracy for Noise Rate 0.3: 0.5781\n",
            "Results so far: {'CE': [0.6673, 0.6294, 0.5938], 'FL': [0.6135, 0.6083, 0.5822], 'NCE': [0.629, 0.6028, 0.5737], 'NFL': [0.6183, 0.6108, 0.5781], 'APL_NCE_MAE': [], 'APL_NCE_RCE': [], 'APL_NFL_MAE': [], 'APL_NFL_RCE': []}\n",
            "\n",
            "Training APL models with noise rate: 0.4\n"
          ]
        },
        {
          "output_type": "stream",
          "name": "stderr",
          "text": []
        },
        {
          "output_type": "stream",
          "name": "stdout",
          "text": [
            "Epoch 1/25 - Avg Loss: 1.6716 - Accuracy: 0.3984\n",
            "✅ Model saved!\n"
          ]
        },
        {
          "output_type": "stream",
          "name": "stderr",
          "text": []
        },
        {
          "output_type": "stream",
          "name": "stdout",
          "text": [
            "Epoch 2/25 - Avg Loss: 1.3580 - Accuracy: 0.5019\n",
            "✅ Model saved!\n"
          ]
        },
        {
          "output_type": "stream",
          "name": "stderr",
          "text": []
        },
        {
          "output_type": "stream",
          "name": "stdout",
          "text": [
            "Epoch 3/25 - Avg Loss: 1.2324 - Accuracy: 0.5426\n",
            "✅ Model saved!\n"
          ]
        },
        {
          "output_type": "stream",
          "name": "stderr",
          "text": []
        },
        {
          "output_type": "stream",
          "name": "stdout",
          "text": [
            "Epoch 4/25 - Avg Loss: 1.1412 - Accuracy: 0.5726\n",
            "✅ Model saved!\n"
          ]
        },
        {
          "output_type": "stream",
          "name": "stderr",
          "text": []
        },
        {
          "output_type": "stream",
          "name": "stdout",
          "text": [
            "Epoch 5/25 - Avg Loss: 1.0702 - Accuracy: 0.5960\n",
            "✅ Model saved!\n"
          ]
        },
        {
          "output_type": "stream",
          "name": "stderr",
          "text": []
        },
        {
          "output_type": "stream",
          "name": "stdout",
          "text": [
            "Epoch 6/25 - Avg Loss: 1.0207 - Accuracy: 0.6098\n",
            "✅ Model saved!\n"
          ]
        },
        {
          "output_type": "stream",
          "name": "stderr",
          "text": []
        },
        {
          "output_type": "stream",
          "name": "stdout",
          "text": [
            "Epoch 7/25 - Avg Loss: 0.9744 - Accuracy: 0.6270\n",
            "✅ Model saved!\n"
          ]
        },
        {
          "output_type": "stream",
          "name": "stderr",
          "text": []
        },
        {
          "output_type": "stream",
          "name": "stdout",
          "text": [
            "Epoch 8/25 - Avg Loss: 0.9328 - Accuracy: 0.6414\n",
            "✅ Model saved!\n"
          ]
        },
        {
          "output_type": "stream",
          "name": "stderr",
          "text": []
        },
        {
          "output_type": "stream",
          "name": "stdout",
          "text": [
            "Epoch 9/25 - Avg Loss: 0.8854 - Accuracy: 0.6587\n",
            "✅ Model saved!\n"
          ]
        },
        {
          "output_type": "stream",
          "name": "stderr",
          "text": []
        },
        {
          "output_type": "stream",
          "name": "stdout",
          "text": [
            "Epoch 10/25 - Avg Loss: 0.8495 - Accuracy: 0.6704\n",
            "✅ Model saved!\n"
          ]
        },
        {
          "output_type": "stream",
          "name": "stderr",
          "text": []
        },
        {
          "output_type": "stream",
          "name": "stdout",
          "text": [
            "Epoch 11/25 - Avg Loss: 0.8197 - Accuracy: 0.6815\n",
            "✅ Model saved!\n"
          ]
        },
        {
          "output_type": "stream",
          "name": "stderr",
          "text": []
        },
        {
          "output_type": "stream",
          "name": "stdout",
          "text": [
            "Epoch 12/25 - Avg Loss: 0.7770 - Accuracy: 0.7004\n",
            "✅ Model saved!\n"
          ]
        },
        {
          "output_type": "stream",
          "name": "stderr",
          "text": []
        },
        {
          "output_type": "stream",
          "name": "stdout",
          "text": [
            "Epoch 13/25 - Avg Loss: 0.7412 - Accuracy: 0.7109\n",
            "✅ Model saved!\n"
          ]
        },
        {
          "output_type": "stream",
          "name": "stderr",
          "text": []
        },
        {
          "output_type": "stream",
          "name": "stdout",
          "text": [
            "Epoch 14/25 - Avg Loss: 0.7094 - Accuracy: 0.7253\n",
            "✅ Model saved!\n"
          ]
        },
        {
          "output_type": "stream",
          "name": "stderr",
          "text": []
        },
        {
          "output_type": "stream",
          "name": "stdout",
          "text": [
            "Epoch 15/25 - Avg Loss: 0.6675 - Accuracy: 0.7409\n",
            "✅ Model saved!\n"
          ]
        },
        {
          "output_type": "stream",
          "name": "stderr",
          "text": []
        },
        {
          "output_type": "stream",
          "name": "stdout",
          "text": [
            "Epoch 16/25 - Avg Loss: 0.6326 - Accuracy: 0.7568\n",
            "✅ Model saved!\n"
          ]
        },
        {
          "output_type": "stream",
          "name": "stderr",
          "text": []
        },
        {
          "output_type": "stream",
          "name": "stdout",
          "text": [
            "Epoch 17/25 - Avg Loss: 0.5942 - Accuracy: 0.7725\n",
            "✅ Model saved!\n"
          ]
        },
        {
          "output_type": "stream",
          "name": "stderr",
          "text": []
        },
        {
          "output_type": "stream",
          "name": "stdout",
          "text": [
            "Epoch 18/25 - Avg Loss: 0.5587 - Accuracy: 0.7876\n",
            "✅ Model saved!\n"
          ]
        },
        {
          "output_type": "stream",
          "name": "stderr",
          "text": []
        },
        {
          "output_type": "stream",
          "name": "stdout",
          "text": [
            "Epoch 19/25 - Avg Loss: 0.5211 - Accuracy: 0.8028\n",
            "✅ Model saved!\n"
          ]
        },
        {
          "output_type": "stream",
          "name": "stderr",
          "text": []
        },
        {
          "output_type": "stream",
          "name": "stdout",
          "text": [
            "Epoch 20/25 - Avg Loss: 0.4821 - Accuracy: 0.8177\n",
            "✅ Model saved!\n"
          ]
        },
        {
          "output_type": "stream",
          "name": "stderr",
          "text": []
        },
        {
          "output_type": "stream",
          "name": "stdout",
          "text": [
            "Epoch 21/25 - Avg Loss: 0.4521 - Accuracy: 0.8302\n",
            "✅ Model saved!\n"
          ]
        },
        {
          "output_type": "stream",
          "name": "stderr",
          "text": []
        },
        {
          "output_type": "stream",
          "name": "stdout",
          "text": [
            "Epoch 22/25 - Avg Loss: 0.4093 - Accuracy: 0.8481\n",
            "✅ Model saved!\n"
          ]
        },
        {
          "output_type": "stream",
          "name": "stderr",
          "text": []
        },
        {
          "output_type": "stream",
          "name": "stdout",
          "text": [
            "Epoch 23/25 - Avg Loss: 0.3799 - Accuracy: 0.8605\n",
            "✅ Model saved!\n"
          ]
        },
        {
          "output_type": "stream",
          "name": "stderr",
          "text": []
        },
        {
          "output_type": "stream",
          "name": "stdout",
          "text": [
            "Epoch 24/25 - Avg Loss: 0.3470 - Accuracy: 0.8760\n",
            "✅ Model saved!\n"
          ]
        },
        {
          "output_type": "stream",
          "name": "stderr",
          "text": []
        },
        {
          "output_type": "stream",
          "name": "stdout",
          "text": [
            "Epoch 25/25 - Avg Loss: 0.3088 - Accuracy: 0.8911\n",
            "✅ Model saved!\n"
          ]
        },
        {
          "output_type": "stream",
          "name": "stderr",
          "text": []
        },
        {
          "output_type": "stream",
          "name": "stdout",
          "text": [
            "Test Accuracy: 0.5889\n",
            "CE Accuracy for Noise Rate 0.4: 0.5889\n",
            "Results so far: {'CE': [0.6673, 0.6294, 0.5938, 0.5889], 'FL': [0.6135, 0.6083, 0.5822], 'NCE': [0.629, 0.6028, 0.5737], 'NFL': [0.6183, 0.6108, 0.5781], 'APL_NCE_MAE': [], 'APL_NCE_RCE': [], 'APL_NFL_MAE': [], 'APL_NFL_RCE': []}\n"
          ]
        },
        {
          "output_type": "stream",
          "name": "stderr",
          "text": []
        },
        {
          "output_type": "stream",
          "name": "stdout",
          "text": [
            "Epoch 1/25 - Avg Loss: 0.0009 - Accuracy: 0.3611\n",
            "✅ Model saved!\n"
          ]
        },
        {
          "output_type": "stream",
          "name": "stderr",
          "text": []
        },
        {
          "output_type": "stream",
          "name": "stdout",
          "text": [
            "Epoch 2/25 - Avg Loss: 0.0005 - Accuracy: 0.4611\n",
            "✅ Model saved!\n"
          ]
        },
        {
          "output_type": "stream",
          "name": "stderr",
          "text": []
        },
        {
          "output_type": "stream",
          "name": "stdout",
          "text": [
            "Epoch 3/25 - Avg Loss: 0.0005 - Accuracy: 0.5003\n"
          ]
        },
        {
          "output_type": "stream",
          "name": "stderr",
          "text": []
        },
        {
          "output_type": "stream",
          "name": "stdout",
          "text": [
            "Epoch 4/25 - Avg Loss: 0.0004 - Accuracy: 0.5336\n",
            "✅ Model saved!\n"
          ]
        },
        {
          "output_type": "stream",
          "name": "stderr",
          "text": []
        },
        {
          "output_type": "stream",
          "name": "stdout",
          "text": [
            "Epoch 5/25 - Avg Loss: 0.0004 - Accuracy: 0.5578\n"
          ]
        },
        {
          "output_type": "stream",
          "name": "stderr",
          "text": []
        },
        {
          "output_type": "stream",
          "name": "stdout",
          "text": [
            "Epoch 6/25 - Avg Loss: 0.0003 - Accuracy: 0.5739\n"
          ]
        },
        {
          "output_type": "stream",
          "name": "stderr",
          "text": []
        },
        {
          "output_type": "stream",
          "name": "stdout",
          "text": [
            "Epoch 7/25 - Avg Loss: 0.0003 - Accuracy: 0.5906\n",
            "Early stopping at epoch 7 (No improvement for 3 epochs)\n"
          ]
        },
        {
          "output_type": "stream",
          "name": "stderr",
          "text": []
        },
        {
          "output_type": "stream",
          "name": "stdout",
          "text": [
            "Test Accuracy: 0.5684\n",
            "FL Accuracy for Noise Rate 0.4: 0.5684\n",
            "Results so far: {'CE': [0.6673, 0.6294, 0.5938, 0.5889], 'FL': [0.6135, 0.6083, 0.5822, 0.5684], 'NCE': [0.629, 0.6028, 0.5737], 'NFL': [0.6183, 0.6108, 0.5781], 'APL_NCE_MAE': [], 'APL_NCE_RCE': [], 'APL_NFL_MAE': [], 'APL_NFL_RCE': []}\n"
          ]
        },
        {
          "output_type": "stream",
          "name": "stderr",
          "text": []
        },
        {
          "output_type": "stream",
          "name": "stdout",
          "text": [
            "Epoch 1/25 - Avg Loss: 0.0008 - Accuracy: 0.3645\n",
            "✅ Model saved!\n"
          ]
        },
        {
          "output_type": "stream",
          "name": "stderr",
          "text": []
        },
        {
          "output_type": "stream",
          "name": "stdout",
          "text": [
            "Epoch 2/25 - Avg Loss: 0.0005 - Accuracy: 0.4739\n",
            "✅ Model saved!\n"
          ]
        },
        {
          "output_type": "stream",
          "name": "stderr",
          "text": []
        },
        {
          "output_type": "stream",
          "name": "stdout",
          "text": [
            "Epoch 3/25 - Avg Loss: 0.0004 - Accuracy: 0.5160\n"
          ]
        },
        {
          "output_type": "stream",
          "name": "stderr",
          "text": []
        },
        {
          "output_type": "stream",
          "name": "stdout",
          "text": [
            "Epoch 4/25 - Avg Loss: 0.0004 - Accuracy: 0.5424\n",
            "✅ Model saved!\n"
          ]
        },
        {
          "output_type": "stream",
          "name": "stderr",
          "text": []
        },
        {
          "output_type": "stream",
          "name": "stdout",
          "text": [
            "Epoch 5/25 - Avg Loss: 0.0004 - Accuracy: 0.5682\n"
          ]
        },
        {
          "output_type": "stream",
          "name": "stderr",
          "text": []
        },
        {
          "output_type": "stream",
          "name": "stdout",
          "text": [
            "Epoch 6/25 - Avg Loss: 0.0003 - Accuracy: 0.5845\n"
          ]
        },
        {
          "output_type": "stream",
          "name": "stderr",
          "text": []
        },
        {
          "output_type": "stream",
          "name": "stdout",
          "text": [
            "Epoch 7/25 - Avg Loss: 0.0003 - Accuracy: 0.5982\n",
            "Early stopping at epoch 7 (No improvement for 3 epochs)\n"
          ]
        },
        {
          "output_type": "stream",
          "name": "stderr",
          "text": []
        },
        {
          "output_type": "stream",
          "name": "stdout",
          "text": [
            "Test Accuracy: 0.5665\n",
            "NCE Accuracy for Noise Rate 0.4: 0.5665\n",
            "Results so far: {'CE': [0.6673, 0.6294, 0.5938, 0.5889], 'FL': [0.6135, 0.6083, 0.5822, 0.5684], 'NCE': [0.629, 0.6028, 0.5737, 0.5665], 'NFL': [0.6183, 0.6108, 0.5781], 'APL_NCE_MAE': [], 'APL_NCE_RCE': [], 'APL_NFL_MAE': [], 'APL_NFL_RCE': []}\n"
          ]
        },
        {
          "output_type": "stream",
          "name": "stderr",
          "text": []
        },
        {
          "output_type": "stream",
          "name": "stdout",
          "text": [
            "Epoch 1/25 - Avg Loss: 0.0008 - Accuracy: 0.3749\n",
            "✅ Model saved!\n"
          ]
        },
        {
          "output_type": "stream",
          "name": "stderr",
          "text": []
        },
        {
          "output_type": "stream",
          "name": "stdout",
          "text": [
            "Epoch 2/25 - Avg Loss: 0.0005 - Accuracy: 0.4711\n",
            "✅ Model saved!\n"
          ]
        },
        {
          "output_type": "stream",
          "name": "stderr",
          "text": []
        },
        {
          "output_type": "stream",
          "name": "stdout",
          "text": [
            "Epoch 3/25 - Avg Loss: 0.0005 - Accuracy: 0.5072\n"
          ]
        },
        {
          "output_type": "stream",
          "name": "stderr",
          "text": []
        },
        {
          "output_type": "stream",
          "name": "stdout",
          "text": [
            "Epoch 4/25 - Avg Loss: 0.0004 - Accuracy: 0.5345\n",
            "✅ Model saved!\n"
          ]
        },
        {
          "output_type": "stream",
          "name": "stderr",
          "text": []
        },
        {
          "output_type": "stream",
          "name": "stdout",
          "text": [
            "Epoch 5/25 - Avg Loss: 0.0004 - Accuracy: 0.5543\n"
          ]
        },
        {
          "output_type": "stream",
          "name": "stderr",
          "text": []
        },
        {
          "output_type": "stream",
          "name": "stdout",
          "text": [
            "Epoch 6/25 - Avg Loss: 0.0004 - Accuracy: 0.5715\n"
          ]
        },
        {
          "output_type": "stream",
          "name": "stderr",
          "text": []
        },
        {
          "output_type": "stream",
          "name": "stdout",
          "text": [
            "Epoch 7/25 - Avg Loss: 0.0003 - Accuracy: 0.5911\n",
            "Early stopping at epoch 7 (No improvement for 3 epochs)\n"
          ]
        },
        {
          "output_type": "stream",
          "name": "stderr",
          "text": [
            "                                                           "
          ]
        },
        {
          "output_type": "stream",
          "name": "stdout",
          "text": [
            "Test Accuracy: 0.5668\n",
            "NFL Accuracy for Noise Rate 0.4: 0.5668\n",
            "Results so far: {'CE': [0.6673, 0.6294, 0.5938, 0.5889], 'FL': [0.6135, 0.6083, 0.5822, 0.5684], 'NCE': [0.629, 0.6028, 0.5737, 0.5665], 'NFL': [0.6183, 0.6108, 0.5781, 0.5668], 'APL_NCE_MAE': [], 'APL_NCE_RCE': [], 'APL_NFL_MAE': [], 'APL_NFL_RCE': []}\n"
          ]
        },
        {
          "output_type": "stream",
          "name": "stderr",
          "text": [
            "\r"
          ]
        }
      ]
    },
    {
      "cell_type": "code",
      "source": [
        "\n",
        "for noise_rate in noise_rates:\n",
        "    print(f\"\\nTraining APL models with noise rate: {noise_rate}\")\n",
        "\n",
        "    # Create noisy dataset\n",
        "    train_dataset = datasets.CIFAR10(root='./data', train=True, download=False, transform=transform)\n",
        "    test_dataset = datasets.CIFAR10(root='./data', train=False, download=False, transform=transform)\n",
        "    noisy_labels = add_symmetric_noise(train_dataset.targets, noise_rate, num_classes)\n",
        "    train_dataset.targets = noisy_labels  # Overwrite labels with noisy ones\n",
        "\n",
        "    noisy_labels_test = add_symmetric_noise(test_dataset.targets, noise_rate, num_classes)\n",
        "    test_dataset.targets = noisy_labels_test  # Overwrite labels with noisy ones\n",
        "    train_loader = DataLoader(train_dataset, batch_size=512, shuffle=True, num_workers=num_workers, pin_memory=True)\n",
        "    test_loader = DataLoader(test_dataset, batch_size=512, shuffle=False, num_workers=num_workers, pin_memory=True)\n",
        "  # Train APL (NCE + MAE)\n",
        "    apl_nce_mae_model = SimpleCNN().to(device)\n",
        "    optimizer = optim.Adam(apl_nce_mae_model.parameters(), lr=0.001)\n",
        "    apl_nce_mae_acc = train_model(apl_nce_mae_model, train_loader,test_loader, apl_nce_mae, optimizer)\n",
        "    results[\"APL_NCE_MAE\"].append(apl_nce_mae_acc)\n",
        "    print(f\"APL (NCE + MAE) Accuracy for Noise Rate {noise_rate}: {apl_nce_mae_acc}\")\n",
        "    print(\"Results so far:\", results)\n",
        "\n",
        "     # Train APL (NFL + MAE)\n",
        "    apl_nfl_mae_model = SimpleCNN().to(device)\n",
        "    optimizer = optim.Adam(apl_nfl_mae_model.parameters(), lr=0.001)\n",
        "    apl_nfl_mae_acc = train_model(apl_nfl_mae_model, train_loader,test_loader, apl_nfl_mae, optimizer)\n",
        "    results[\"APL_NFL_MAE\"].append(apl_nfl_mae_acc)\n",
        "    print(f\"APL (NFL + MAE) Accuracy for Noise Rate {noise_rate}: {apl_nfl_mae_acc}\")\n",
        "    print(\"Results so far:\", results)\n",
        "\n",
        "\n",
        "\n",
        "    # Train APL (NCE + RCE)\n",
        "    apl_nce_rce_model = SimpleCNN().to(device)\n",
        "    optimizer = optim.Adam(apl_nce_rce_model.parameters(), lr=0.001)\n",
        "    apl_nce_rce_acc = train_model(apl_nce_rce_model, train_loader,test_loader, apl_nce_rce, optimizer)\n",
        "    results[\"APL_NCE_RCE\"].append(apl_nce_rce_acc)\n",
        "    print(f\"APL (NCE + RCE) Accuracy for Noise Rate {noise_rate}: {apl_nce_rce_acc}\")\n",
        "    print(\"Results so far:\", results)\n",
        "\n",
        "\n",
        "\n",
        "    # Train APL (NFL + RCE)\n",
        "    apl_nfl_rce_model = SimpleCNN().to(device)\n",
        "    optimizer = optim.Adam(apl_nfl_rce_model.parameters(), lr=0.001)\n",
        "    apl_nfl_rce_acc = train_model(apl_nfl_rce_model, train_loader,test_loader, apl_nfl_rce, optimizer)\n",
        "    results[\"APL_NFL_RCE\"].append(apl_nfl_rce_acc)\n",
        "    print(f\"APL (NFL + RCE) Accuracy for Noise Rate {noise_rate}: {apl_nfl_rce_acc}\")\n",
        "    print(\"Results so far:\", results)\n",
        "\n",
        "\n",
        "# Save results\n",
        "torch.save(results, \"apl_accuracy_vs_noise.pth\")\n"
      ],
      "metadata": {
        "id": "PQVktV7YHYWg",
        "colab": {
          "base_uri": "https://localhost:8080/"
        },
        "outputId": "1d43f25f-8778-4e76-b437-a41f4ef8a055"
      },
      "execution_count": null,
      "outputs": [
        {
          "output_type": "stream",
          "name": "stdout",
          "text": [
            "\n",
            "Training APL models with noise rate: 0.1\n"
          ]
        },
        {
          "output_type": "stream",
          "name": "stderr",
          "text": []
        },
        {
          "output_type": "stream",
          "name": "stdout",
          "text": [
            "Epoch 1/25 - Avg Loss: 0.1498 - Accuracy: 0.2638\n",
            "✅ Model saved!\n"
          ]
        },
        {
          "output_type": "stream",
          "name": "stderr",
          "text": []
        },
        {
          "output_type": "stream",
          "name": "stdout",
          "text": [
            "Epoch 2/25 - Avg Loss: 0.1252 - Accuracy: 0.3883\n",
            "✅ Model saved!\n"
          ]
        },
        {
          "output_type": "stream",
          "name": "stderr",
          "text": []
        },
        {
          "output_type": "stream",
          "name": "stdout",
          "text": [
            "Epoch 3/25 - Avg Loss: 0.1165 - Accuracy: 0.4305\n",
            "✅ Model saved!\n"
          ]
        },
        {
          "output_type": "stream",
          "name": "stderr",
          "text": []
        },
        {
          "output_type": "stream",
          "name": "stdout",
          "text": [
            "Epoch 4/25 - Avg Loss: 0.1072 - Accuracy: 0.4793\n",
            "✅ Model saved!\n"
          ]
        },
        {
          "output_type": "stream",
          "name": "stderr",
          "text": []
        },
        {
          "output_type": "stream",
          "name": "stdout",
          "text": [
            "Epoch 5/25 - Avg Loss: 0.1016 - Accuracy: 0.5055\n",
            "✅ Model saved!\n"
          ]
        },
        {
          "output_type": "stream",
          "name": "stderr",
          "text": []
        },
        {
          "output_type": "stream",
          "name": "stdout",
          "text": [
            "Epoch 6/25 - Avg Loss: 0.0981 - Accuracy: 0.5227\n",
            "✅ Model saved!\n"
          ]
        },
        {
          "output_type": "stream",
          "name": "stderr",
          "text": []
        },
        {
          "output_type": "stream",
          "name": "stdout",
          "text": [
            "Epoch 7/25 - Avg Loss: 0.0940 - Accuracy: 0.5431\n",
            "✅ Model saved!\n"
          ]
        },
        {
          "output_type": "stream",
          "name": "stderr",
          "text": []
        },
        {
          "output_type": "stream",
          "name": "stdout",
          "text": [
            "Epoch 8/25 - Avg Loss: 0.0916 - Accuracy: 0.5533\n",
            "✅ Model saved!\n"
          ]
        },
        {
          "output_type": "stream",
          "name": "stderr",
          "text": []
        },
        {
          "output_type": "stream",
          "name": "stdout",
          "text": [
            "Epoch 9/25 - Avg Loss: 0.0883 - Accuracy: 0.5695\n",
            "✅ Model saved!\n"
          ]
        },
        {
          "output_type": "stream",
          "name": "stderr",
          "text": []
        },
        {
          "output_type": "stream",
          "name": "stdout",
          "text": [
            "Epoch 10/25 - Avg Loss: 0.0864 - Accuracy: 0.5807\n",
            "✅ Model saved!\n"
          ]
        },
        {
          "output_type": "stream",
          "name": "stderr",
          "text": []
        },
        {
          "output_type": "stream",
          "name": "stdout",
          "text": [
            "Epoch 11/25 - Avg Loss: 0.0842 - Accuracy: 0.5903\n",
            "✅ Model saved!\n"
          ]
        },
        {
          "output_type": "stream",
          "name": "stderr",
          "text": []
        },
        {
          "output_type": "stream",
          "name": "stdout",
          "text": [
            "Epoch 12/25 - Avg Loss: 0.0814 - Accuracy: 0.6052\n",
            "✅ Model saved!\n"
          ]
        },
        {
          "output_type": "stream",
          "name": "stderr",
          "text": []
        },
        {
          "output_type": "stream",
          "name": "stdout",
          "text": [
            "Epoch 13/25 - Avg Loss: 0.0795 - Accuracy: 0.6138\n",
            "✅ Model saved!\n"
          ]
        },
        {
          "output_type": "stream",
          "name": "stderr",
          "text": []
        },
        {
          "output_type": "stream",
          "name": "stdout",
          "text": [
            "Epoch 14/25 - Avg Loss: 0.0772 - Accuracy: 0.6253\n",
            "✅ Model saved!\n"
          ]
        },
        {
          "output_type": "stream",
          "name": "stderr",
          "text": []
        },
        {
          "output_type": "stream",
          "name": "stdout",
          "text": [
            "Epoch 15/25 - Avg Loss: 0.0750 - Accuracy: 0.6368\n",
            "✅ Model saved!\n"
          ]
        },
        {
          "output_type": "stream",
          "name": "stderr",
          "text": []
        },
        {
          "output_type": "stream",
          "name": "stdout",
          "text": [
            "Epoch 16/25 - Avg Loss: 0.0723 - Accuracy: 0.6505\n",
            "✅ Model saved!\n"
          ]
        },
        {
          "output_type": "stream",
          "name": "stderr",
          "text": []
        },
        {
          "output_type": "stream",
          "name": "stdout",
          "text": [
            "Epoch 17/25 - Avg Loss: 0.0709 - Accuracy: 0.6574\n",
            "✅ Model saved!\n"
          ]
        },
        {
          "output_type": "stream",
          "name": "stderr",
          "text": []
        },
        {
          "output_type": "stream",
          "name": "stdout",
          "text": [
            "Epoch 18/25 - Avg Loss: 0.0687 - Accuracy: 0.6684\n",
            "✅ Model saved!\n"
          ]
        },
        {
          "output_type": "stream",
          "name": "stderr",
          "text": []
        },
        {
          "output_type": "stream",
          "name": "stdout",
          "text": [
            "Epoch 19/25 - Avg Loss: 0.0678 - Accuracy: 0.6725\n",
            "✅ Model saved!\n"
          ]
        },
        {
          "output_type": "stream",
          "name": "stderr",
          "text": []
        },
        {
          "output_type": "stream",
          "name": "stdout",
          "text": [
            "Epoch 20/25 - Avg Loss: 0.0654 - Accuracy: 0.6848\n",
            "✅ Model saved!\n"
          ]
        },
        {
          "output_type": "stream",
          "name": "stderr",
          "text": []
        },
        {
          "output_type": "stream",
          "name": "stdout",
          "text": [
            "Epoch 21/25 - Avg Loss: 0.0639 - Accuracy: 0.6915\n",
            "✅ Model saved!\n"
          ]
        },
        {
          "output_type": "stream",
          "name": "stderr",
          "text": []
        },
        {
          "output_type": "stream",
          "name": "stdout",
          "text": [
            "Epoch 22/25 - Avg Loss: 0.0622 - Accuracy: 0.7004\n",
            "✅ Model saved!\n"
          ]
        },
        {
          "output_type": "stream",
          "name": "stderr",
          "text": []
        },
        {
          "output_type": "stream",
          "name": "stdout",
          "text": [
            "Epoch 23/25 - Avg Loss: 0.0606 - Accuracy: 0.7079\n",
            "✅ Model saved!\n"
          ]
        },
        {
          "output_type": "stream",
          "name": "stderr",
          "text": []
        },
        {
          "output_type": "stream",
          "name": "stdout",
          "text": [
            "Epoch 24/25 - Avg Loss: 0.0599 - Accuracy: 0.7116\n",
            "✅ Model saved!\n"
          ]
        },
        {
          "output_type": "stream",
          "name": "stderr",
          "text": []
        },
        {
          "output_type": "stream",
          "name": "stdout",
          "text": [
            "Epoch 25/25 - Avg Loss: 0.0583 - Accuracy: 0.7196\n",
            "✅ Model saved!\n"
          ]
        },
        {
          "output_type": "stream",
          "name": "stderr",
          "text": []
        },
        {
          "output_type": "stream",
          "name": "stdout",
          "text": [
            "Test Accuracy: 0.6120\n",
            "APL (NCE + MAE) Accuracy for Noise Rate 0.1: 0.612\n",
            "Results so far: {'CE': [0.6673, 0.6294, 0.5938, 0.5889], 'FL': [0.6135, 0.6083, 0.5822, 0.5684], 'NCE': [0.629, 0.6028, 0.5737, 0.5665], 'NFL': [0.6183, 0.6108, 0.5781, 0.5668], 'APL_NCE_MAE': [0.612], 'APL_NCE_RCE': [], 'APL_NFL_MAE': [], 'APL_NFL_RCE': []}\n"
          ]
        },
        {
          "output_type": "stream",
          "name": "stderr",
          "text": []
        },
        {
          "output_type": "stream",
          "name": "stdout",
          "text": [
            "Epoch 1/25 - Avg Loss: 0.1483 - Accuracy: 0.2720\n",
            "✅ Model saved!\n"
          ]
        },
        {
          "output_type": "stream",
          "name": "stderr",
          "text": []
        },
        {
          "output_type": "stream",
          "name": "stdout",
          "text": [
            "Epoch 2/25 - Avg Loss: 0.1275 - Accuracy: 0.3754\n",
            "✅ Model saved!\n"
          ]
        },
        {
          "output_type": "stream",
          "name": "stderr",
          "text": []
        },
        {
          "output_type": "stream",
          "name": "stdout",
          "text": [
            "Epoch 3/25 - Avg Loss: 0.1161 - Accuracy: 0.4329\n",
            "✅ Model saved!\n"
          ]
        },
        {
          "output_type": "stream",
          "name": "stderr",
          "text": []
        },
        {
          "output_type": "stream",
          "name": "stdout",
          "text": [
            "Epoch 4/25 - Avg Loss: 0.1079 - Accuracy: 0.4729\n",
            "✅ Model saved!\n"
          ]
        },
        {
          "output_type": "stream",
          "name": "stderr",
          "text": []
        },
        {
          "output_type": "stream",
          "name": "stdout",
          "text": [
            "Epoch 5/25 - Avg Loss: 0.1021 - Accuracy: 0.5009\n",
            "✅ Model saved!\n"
          ]
        },
        {
          "output_type": "stream",
          "name": "stderr",
          "text": []
        },
        {
          "output_type": "stream",
          "name": "stdout",
          "text": [
            "Epoch 6/25 - Avg Loss: 0.0977 - Accuracy: 0.5244\n",
            "✅ Model saved!\n"
          ]
        },
        {
          "output_type": "stream",
          "name": "stderr",
          "text": []
        },
        {
          "output_type": "stream",
          "name": "stdout",
          "text": [
            "Epoch 7/25 - Avg Loss: 0.0942 - Accuracy: 0.5397\n",
            "✅ Model saved!\n"
          ]
        },
        {
          "output_type": "stream",
          "name": "stderr",
          "text": []
        },
        {
          "output_type": "stream",
          "name": "stdout",
          "text": [
            "Epoch 8/25 - Avg Loss: 0.0901 - Accuracy: 0.5610\n",
            "✅ Model saved!\n"
          ]
        },
        {
          "output_type": "stream",
          "name": "stderr",
          "text": []
        },
        {
          "output_type": "stream",
          "name": "stdout",
          "text": [
            "Epoch 9/25 - Avg Loss: 0.0869 - Accuracy: 0.5775\n",
            "✅ Model saved!\n"
          ]
        },
        {
          "output_type": "stream",
          "name": "stderr",
          "text": []
        },
        {
          "output_type": "stream",
          "name": "stdout",
          "text": [
            "Epoch 10/25 - Avg Loss: 0.0840 - Accuracy: 0.5919\n",
            "✅ Model saved!\n"
          ]
        },
        {
          "output_type": "stream",
          "name": "stderr",
          "text": []
        },
        {
          "output_type": "stream",
          "name": "stdout",
          "text": [
            "Epoch 11/25 - Avg Loss: 0.0816 - Accuracy: 0.6037\n",
            "✅ Model saved!\n"
          ]
        },
        {
          "output_type": "stream",
          "name": "stderr",
          "text": []
        },
        {
          "output_type": "stream",
          "name": "stdout",
          "text": [
            "Epoch 12/25 - Avg Loss: 0.0788 - Accuracy: 0.6178\n",
            "✅ Model saved!\n"
          ]
        },
        {
          "output_type": "stream",
          "name": "stderr",
          "text": []
        },
        {
          "output_type": "stream",
          "name": "stdout",
          "text": [
            "Epoch 13/25 - Avg Loss: 0.0771 - Accuracy: 0.6263\n",
            "✅ Model saved!\n"
          ]
        },
        {
          "output_type": "stream",
          "name": "stderr",
          "text": []
        },
        {
          "output_type": "stream",
          "name": "stdout",
          "text": [
            "Epoch 14/25 - Avg Loss: 0.0743 - Accuracy: 0.6400\n",
            "✅ Model saved!\n"
          ]
        },
        {
          "output_type": "stream",
          "name": "stderr",
          "text": []
        },
        {
          "output_type": "stream",
          "name": "stdout",
          "text": [
            "Epoch 15/25 - Avg Loss: 0.0725 - Accuracy: 0.6488\n",
            "✅ Model saved!\n"
          ]
        },
        {
          "output_type": "stream",
          "name": "stderr",
          "text": []
        },
        {
          "output_type": "stream",
          "name": "stdout",
          "text": [
            "Epoch 16/25 - Avg Loss: 0.0703 - Accuracy: 0.6601\n",
            "✅ Model saved!\n"
          ]
        },
        {
          "output_type": "stream",
          "name": "stderr",
          "text": []
        },
        {
          "output_type": "stream",
          "name": "stdout",
          "text": [
            "Epoch 17/25 - Avg Loss: 0.0681 - Accuracy: 0.6707\n",
            "✅ Model saved!\n"
          ]
        },
        {
          "output_type": "stream",
          "name": "stderr",
          "text": []
        },
        {
          "output_type": "stream",
          "name": "stdout",
          "text": [
            "Epoch 18/25 - Avg Loss: 0.0663 - Accuracy: 0.6802\n",
            "✅ Model saved!\n"
          ]
        },
        {
          "output_type": "stream",
          "name": "stderr",
          "text": []
        },
        {
          "output_type": "stream",
          "name": "stdout",
          "text": [
            "Epoch 19/25 - Avg Loss: 0.0645 - Accuracy: 0.6886\n",
            "✅ Model saved!\n"
          ]
        },
        {
          "output_type": "stream",
          "name": "stderr",
          "text": []
        },
        {
          "output_type": "stream",
          "name": "stdout",
          "text": [
            "Epoch 20/25 - Avg Loss: 0.0624 - Accuracy: 0.6999\n",
            "✅ Model saved!\n"
          ]
        },
        {
          "output_type": "stream",
          "name": "stderr",
          "text": []
        },
        {
          "output_type": "stream",
          "name": "stdout",
          "text": [
            "Epoch 21/25 - Avg Loss: 0.0608 - Accuracy: 0.7069\n",
            "✅ Model saved!\n"
          ]
        },
        {
          "output_type": "stream",
          "name": "stderr",
          "text": []
        },
        {
          "output_type": "stream",
          "name": "stdout",
          "text": [
            "Epoch 22/25 - Avg Loss: 0.0592 - Accuracy: 0.7150\n",
            "✅ Model saved!\n"
          ]
        },
        {
          "output_type": "stream",
          "name": "stderr",
          "text": []
        },
        {
          "output_type": "stream",
          "name": "stdout",
          "text": [
            "Epoch 23/25 - Avg Loss: 0.0582 - Accuracy: 0.7193\n",
            "✅ Model saved!\n"
          ]
        },
        {
          "output_type": "stream",
          "name": "stderr",
          "text": []
        },
        {
          "output_type": "stream",
          "name": "stdout",
          "text": [
            "Epoch 24/25 - Avg Loss: 0.0574 - Accuracy: 0.7229\n",
            "✅ Model saved!\n"
          ]
        },
        {
          "output_type": "stream",
          "name": "stderr",
          "text": []
        },
        {
          "output_type": "stream",
          "name": "stdout",
          "text": [
            "Epoch 25/25 - Avg Loss: 0.0557 - Accuracy: 0.7318\n",
            "✅ Model saved!\n"
          ]
        },
        {
          "output_type": "stream",
          "name": "stderr",
          "text": []
        },
        {
          "output_type": "stream",
          "name": "stdout",
          "text": [
            "Test Accuracy: 0.6167\n",
            "APL (NFL + MAE) Accuracy for Noise Rate 0.1: 0.6167\n",
            "Results so far: {'CE': [0.6673, 0.6294, 0.5938, 0.5889], 'FL': [0.6135, 0.6083, 0.5822, 0.5684], 'NCE': [0.629, 0.6028, 0.5737, 0.5665], 'NFL': [0.6183, 0.6108, 0.5781, 0.5668], 'APL_NCE_MAE': [0.612], 'APL_NCE_RCE': [], 'APL_NFL_MAE': [0.6167], 'APL_NFL_RCE': []}\n"
          ]
        },
        {
          "output_type": "stream",
          "name": "stderr",
          "text": []
        },
        {
          "output_type": "stream",
          "name": "stdout",
          "text": [
            "Epoch 1/25 - Avg Loss: 0.0009 - Accuracy: 0.3264\n",
            "✅ Model saved!\n"
          ]
        },
        {
          "output_type": "stream",
          "name": "stderr",
          "text": []
        },
        {
          "output_type": "stream",
          "name": "stdout",
          "text": [
            "Epoch 2/25 - Avg Loss: 0.0006 - Accuracy: 0.4458\n",
            "✅ Model saved!\n"
          ]
        },
        {
          "output_type": "stream",
          "name": "stderr",
          "text": []
        },
        {
          "output_type": "stream",
          "name": "stdout",
          "text": [
            "Epoch 3/25 - Avg Loss: 0.0005 - Accuracy: 0.4930\n"
          ]
        },
        {
          "output_type": "stream",
          "name": "stderr",
          "text": []
        },
        {
          "output_type": "stream",
          "name": "stdout",
          "text": [
            "Epoch 4/25 - Avg Loss: 0.0005 - Accuracy: 0.5217\n"
          ]
        },
        {
          "output_type": "stream",
          "name": "stderr",
          "text": []
        },
        {
          "output_type": "stream",
          "name": "stdout",
          "text": [
            "Epoch 5/25 - Avg Loss: 0.0005 - Accuracy: 0.5462\n",
            "✅ Model saved!\n"
          ]
        },
        {
          "output_type": "stream",
          "name": "stderr",
          "text": []
        },
        {
          "output_type": "stream",
          "name": "stdout",
          "text": [
            "Epoch 6/25 - Avg Loss: 0.0005 - Accuracy: 0.5641\n"
          ]
        },
        {
          "output_type": "stream",
          "name": "stderr",
          "text": []
        },
        {
          "output_type": "stream",
          "name": "stdout",
          "text": [
            "Epoch 7/25 - Avg Loss: 0.0004 - Accuracy: 0.5845\n"
          ]
        },
        {
          "output_type": "stream",
          "name": "stderr",
          "text": []
        },
        {
          "output_type": "stream",
          "name": "stdout",
          "text": [
            "Epoch 8/25 - Avg Loss: 0.0004 - Accuracy: 0.6031\n",
            "Early stopping at epoch 8 (No improvement for 3 epochs)\n"
          ]
        },
        {
          "output_type": "stream",
          "name": "stderr",
          "text": []
        },
        {
          "output_type": "stream",
          "name": "stdout",
          "text": [
            "Test Accuracy: 0.5952\n",
            "APL (NCE + RCE) Accuracy for Noise Rate 0.1: 0.5952\n",
            "Results so far: {'CE': [0.6673, 0.6294, 0.5938, 0.5889], 'FL': [0.6135, 0.6083, 0.5822, 0.5684], 'NCE': [0.629, 0.6028, 0.5737, 0.5665], 'NFL': [0.6183, 0.6108, 0.5781, 0.5668], 'APL_NCE_MAE': [0.612], 'APL_NCE_RCE': [0.5952], 'APL_NFL_MAE': [0.6167], 'APL_NFL_RCE': []}\n"
          ]
        },
        {
          "output_type": "stream",
          "name": "stderr",
          "text": []
        },
        {
          "output_type": "stream",
          "name": "stdout",
          "text": [
            "Epoch 1/25 - Avg Loss: 0.0009 - Accuracy: 0.3440\n",
            "✅ Model saved!\n"
          ]
        },
        {
          "output_type": "stream",
          "name": "stderr",
          "text": []
        },
        {
          "output_type": "stream",
          "name": "stdout",
          "text": [
            "Epoch 2/25 - Avg Loss: 0.0006 - Accuracy: 0.4676\n",
            "✅ Model saved!\n"
          ]
        },
        {
          "output_type": "stream",
          "name": "stderr",
          "text": []
        },
        {
          "output_type": "stream",
          "name": "stdout",
          "text": [
            "Epoch 3/25 - Avg Loss: 0.0005 - Accuracy: 0.5046\n"
          ]
        },
        {
          "output_type": "stream",
          "name": "stderr",
          "text": []
        },
        {
          "output_type": "stream",
          "name": "stdout",
          "text": [
            "Epoch 4/25 - Avg Loss: 0.0005 - Accuracy: 0.5308\n"
          ]
        },
        {
          "output_type": "stream",
          "name": "stderr",
          "text": []
        },
        {
          "output_type": "stream",
          "name": "stdout",
          "text": [
            "Epoch 5/25 - Avg Loss: 0.0005 - Accuracy: 0.5520\n",
            "✅ Model saved!\n"
          ]
        },
        {
          "output_type": "stream",
          "name": "stderr",
          "text": []
        },
        {
          "output_type": "stream",
          "name": "stdout",
          "text": [
            "Epoch 6/25 - Avg Loss: 0.0004 - Accuracy: 0.5746\n"
          ]
        },
        {
          "output_type": "stream",
          "name": "stderr",
          "text": []
        },
        {
          "output_type": "stream",
          "name": "stdout",
          "text": [
            "Epoch 7/25 - Avg Loss: 0.0004 - Accuracy: 0.5874\n"
          ]
        },
        {
          "output_type": "stream",
          "name": "stderr",
          "text": []
        },
        {
          "output_type": "stream",
          "name": "stdout",
          "text": [
            "Epoch 8/25 - Avg Loss: 0.0004 - Accuracy: 0.6064\n",
            "Early stopping at epoch 8 (No improvement for 3 epochs)\n"
          ]
        },
        {
          "output_type": "stream",
          "name": "stderr",
          "text": []
        },
        {
          "output_type": "stream",
          "name": "stdout",
          "text": [
            "Test Accuracy: 0.5925\n",
            "APL (NFL + RCE) Accuracy for Noise Rate 0.1: 0.5925\n",
            "Results so far: {'CE': [0.6673, 0.6294, 0.5938, 0.5889], 'FL': [0.6135, 0.6083, 0.5822, 0.5684], 'NCE': [0.629, 0.6028, 0.5737, 0.5665], 'NFL': [0.6183, 0.6108, 0.5781, 0.5668], 'APL_NCE_MAE': [0.612], 'APL_NCE_RCE': [0.5952], 'APL_NFL_MAE': [0.6167], 'APL_NFL_RCE': [0.5925]}\n",
            "\n",
            "Training APL models with noise rate: 0.2\n"
          ]
        },
        {
          "output_type": "stream",
          "name": "stderr",
          "text": []
        },
        {
          "output_type": "stream",
          "name": "stdout",
          "text": [
            "Epoch 1/25 - Avg Loss: 0.1525 - Accuracy: 0.2501\n",
            "✅ Model saved!\n"
          ]
        },
        {
          "output_type": "stream",
          "name": "stderr",
          "text": []
        },
        {
          "output_type": "stream",
          "name": "stdout",
          "text": [
            "Epoch 2/25 - Avg Loss: 0.1383 - Accuracy: 0.3212\n",
            "✅ Model saved!\n"
          ]
        },
        {
          "output_type": "stream",
          "name": "stderr",
          "text": []
        },
        {
          "output_type": "stream",
          "name": "stdout",
          "text": [
            "Epoch 3/25 - Avg Loss: 0.1324 - Accuracy: 0.3492\n",
            "✅ Model saved!\n"
          ]
        },
        {
          "output_type": "stream",
          "name": "stderr",
          "text": []
        },
        {
          "output_type": "stream",
          "name": "stdout",
          "text": [
            "Epoch 4/25 - Avg Loss: 0.1280 - Accuracy: 0.3711\n",
            "✅ Model saved!\n"
          ]
        },
        {
          "output_type": "stream",
          "name": "stderr",
          "text": [
            "Epoch 5/25:  87%|████████▋ | 85/98 [00:09<00:01,  8.79it/s, loss=0.124]"
          ]
        }
      ]
    },
    {
      "cell_type": "code",
      "source": [
        "# Plot Accuracy vs Noise Rate\n",
        "plt.figure(figsize=(16, 20))\n",
        "for model, acc in results.items():\n",
        "    if len(acc) > 0:  # Only plot non-empty lists\n",
        "        plt.plot([0.1,0.3], acc, marker='o', label=model)\n",
        "\n",
        "plt.xlabel(\"Noise Rate\")\n",
        "plt.ylabel(\"Test Accuracy\")\n",
        "plt.title(\"Accuracy vs. Noise Rate for Different Loss Functions\")\n",
        "plt.legend()\n",
        "plt.grid()\n",
        "plt.show()"
      ],
      "metadata": {
        "id": "ENsdXBtfk3dD"
      },
      "execution_count": null,
      "outputs": []
    },
    {
      "cell_type": "code",
      "source": [
        "results={'CE': [0.669, 0.6114, 0.5829, 0.6177],\n",
        " 'FL': [0.6095, 0.5802, 0.5554, 0.6041],\n",
        " 'NCE': [0.6273, 0.5806, 0.5709, 0.6031],\n",
        " 'NFL': [0.627, 0.5854, 0.5679, 0.6125],\n",
        " 'APL_NCE_MAE': [0.6268, 0.4722, 0.3169, 0.1898],\n",
        " 'APL_NCE_RCE': [0.5854, 0.4415, 0.2981, 0.1744],\n",
        " 'APL_NFL_MAE': [0.5602, 0.4676, 0.3276, 0.1852],\n",
        " 'APL_NFL_RCE': [0.5905, 0.4387, 0.2872, 0.1785]}"
      ],
      "metadata": {
        "id": "yfEqCtUi5U-7"
      },
      "execution_count": null,
      "outputs": []
    },
    {
      "cell_type": "code",
      "source": [],
      "metadata": {
        "id": "gP4D6GGvvfua"
      },
      "execution_count": null,
      "outputs": []
    },
    {
      "cell_type": "code",
      "source": [],
      "metadata": {
        "id": "t_4FqBUYkpsW"
      },
      "execution_count": null,
      "outputs": []
    }
  ]
}